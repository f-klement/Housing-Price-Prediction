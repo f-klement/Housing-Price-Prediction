{
 "cells": [
  {
   "cell_type": "markdown",
   "id": "5e5d2ec5",
   "metadata": {
    "id": "5e5d2ec5"
   },
   "source": [
    "# Modeling"
   ]
  },
  {
   "cell_type": "markdown",
   "id": "7a2d7516",
   "metadata": {
    "id": "7a2d7516"
   },
   "source": [
    "Getting the Data"
   ]
  },
  {
   "cell_type": "code",
   "execution_count": 1,
   "id": "8373e704",
   "metadata": {
    "colab": {
     "base_uri": "https://localhost:8080/",
     "height": 316,
     "resources": {
      "http://localhost:8080/nbextensions/google.colab/files.js": {
       "data": "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",
       "headers": [
        [
         "content-type",
         "application/javascript"
        ]
       ],
       "ok": true,
       "status": 200,
       "status_text": ""
      }
     }
    },
    "id": "8373e704",
    "outputId": "22ffd1c3-7895-4764-aeb4-b9302bc86fe3"
   },
   "outputs": [
    {
     "name": "stdout",
     "output_type": "stream",
     "text": [
      "        Id  MSSubClass  LotArea  OverallQual  OverallCond  YearBuilt  \\\n",
      "0        1          60     8450            7            5       2003   \n",
      "1        2          20     9600            6            8       1976   \n",
      "2        3          60    11250            7            5       2001   \n",
      "3        4          70     9550            7            5       1915   \n",
      "4        5          60    14260            8            5       2000   \n",
      "...    ...         ...      ...          ...          ...        ...   \n",
      "1335  1455          20     7500            7            5       2004   \n",
      "1336  1456          60     7917            6            5       1999   \n",
      "1337  1457          20    13175            6            6       1978   \n",
      "1338  1459          20     9717            5            6       1950   \n",
      "1339  1460          20     9937            5            6       1965   \n",
      "\n",
      "      YearRemodAdd  MasVnrArea  BsmtFinSF1  BsmtUnfSF  ...  BsmtExposure  \\\n",
      "0             2003         196         706        150  ...            No   \n",
      "1             1976           0         978        284  ...            Gd   \n",
      "2             2002         162         486        434  ...            Mn   \n",
      "3             1970           0         216        540  ...            No   \n",
      "4             2000         350         655        490  ...            Av   \n",
      "...            ...         ...         ...        ...  ...           ...   \n",
      "1335          2005           0         410        811  ...            No   \n",
      "1336          2000           0           0        953  ...            No   \n",
      "1337          1988         119         790        589  ...            No   \n",
      "1338          1996           0          49          0  ...            Mn   \n",
      "1339          1965           0         830        136  ...            No   \n",
      "\n",
      "      BsmtFinType1  HeatingQC  KitchenQual  FireplaceQu  GarageType  \\\n",
      "0              GLQ         Ex           Gd         None      Attchd   \n",
      "1              ALQ         Ex           TA           TA      Attchd   \n",
      "2              GLQ         Ex           Gd           TA      Attchd   \n",
      "3              ALQ         Gd           Gd           Gd      Detchd   \n",
      "4              GLQ         Ex           Gd           TA      Attchd   \n",
      "...            ...        ...          ...          ...         ...   \n",
      "1335           GLQ         Ex           Gd         None      Attchd   \n",
      "1336           Unf         Ex           TA           TA      Attchd   \n",
      "1337           ALQ         TA           TA           TA      Attchd   \n",
      "1338           GLQ         Gd           Gd         None      Attchd   \n",
      "1339           BLQ         Gd           TA         None      Attchd   \n",
      "\n",
      "      GarageFinish  SalePrice  allsqft  Q_times_allsqft  \n",
      "0              RFn     208500    12127            84889  \n",
      "1              RFn     181500    12124            72744  \n",
      "2              RFn     223500    15026           105182  \n",
      "3              Unf     140000    12814            89698  \n",
      "4              RFn     250000    19090           152720  \n",
      "...            ...        ...      ...              ...  \n",
      "1335           RFn     185000    10055            70385  \n",
      "1336           RFn     175000    11251            67506  \n",
      "1337           Unf     210000    16909           101454  \n",
      "1338           Unf     142125    11873            59365  \n",
      "1339           Fin     147500    12517            62585  \n",
      "\n",
      "[1340 rows x 46 columns]\n"
     ]
    }
   ],
   "source": [
    "import matplotlib.pyplot  as plt\n",
    "import matplotlib\n",
    "import numpy as np\n",
    "import pandas as pd\n",
    "import matplotlib.pyplot as plt\n",
    "\n",
    "#from google.colab import files\n",
    "#uploaded = files.upload()\n",
    "#import io\n",
    "#data = pd.read_csv(io.StringIO(uploaded['full_data.csv'].decode('utf-8')))\n",
    "\n",
    "data = pd.read_csv (r'full_data.csv')\n",
    "data['allsqft']=data['TotalBsmtSF']+data['2ndFlrSF']+data['OpenPorchSF']+data['GrLivArea']+data['MasVnrArea']+data['LotArea']\n",
    "data['Q_times_allsqft']=data['allsqft']*data['OverallQual']\n",
    "\n",
    "print (data)\n"
   ]
  },
  {
   "cell_type": "code",
   "execution_count": 2,
   "id": "d17ba5ac",
   "metadata": {
    "colab": {
     "base_uri": "https://localhost:8080/",
     "height": 355
    },
    "id": "d17ba5ac",
    "outputId": "59cb06c2-4c69-4023-918c-17e5f0758547"
   },
   "outputs": [
    {
     "data": {
      "text/plain": [
       "(array([  1.,   7.,  44., 134., 384., 381., 229., 115.,  38.,   7.]),\n",
       " array([10.54273278, 10.82085236, 11.09897194, 11.37709152, 11.6552111 ,\n",
       "        11.93333068, 12.21145026, 12.48956984, 12.76768942, 13.045809  ,\n",
       "        13.32392858]),\n",
       " <BarContainer object of 10 artists>)"
      ]
     },
     "execution_count": 2,
     "metadata": {},
     "output_type": "execute_result"
    },
    {
     "data": {
      "image/png": "[encoded data removed]",
      "text/plain": [
       "<Figure size 432x288 with 1 Axes>"
      ]
     },
     "metadata": {
      "needs_background": "light"
     },
     "output_type": "display_data"
    }
   ],
   "source": [
    "y_log = np.log1p(data['SalePrice'])\n",
    "data['SalePrice'] = y_log\n",
    "plt.hist(data['SalePrice'], color='#4DC9E7')"
   ]
  },
  {
   "cell_type": "code",
   "execution_count": 3,
   "id": "52caa5a7",
   "metadata": {
    "colab": {
     "base_uri": "https://localhost:8080/",
     "height": 488
    },
    "id": "52caa5a7",
    "outputId": "deb3e82b-3f1b-4299-e8bb-f8f3872d2e0b"
   },
   "outputs": [
    {
     "data": {
      "text/html": [
       "<div>\n",
       "<style scoped>\n",
       "    .dataframe tbody tr th:only-of-type {\n",
       "        vertical-align: middle;\n",
       "    }\n",
       "\n",
       "    .dataframe tbody tr th {\n",
       "        vertical-align: top;\n",
       "    }\n",
       "\n",
       "    .dataframe thead th {\n",
       "        text-align: right;\n",
       "    }\n",
       "</style>\n",
       "<table border=\"1\" class=\"dataframe\">\n",
       "  <thead>\n",
       "    <tr style=\"text-align: right;\">\n",
       "      <th></th>\n",
       "      <th>Id</th>\n",
       "      <th>MSSubClass</th>\n",
       "      <th>LotArea</th>\n",
       "      <th>OverallQual</th>\n",
       "      <th>OverallCond</th>\n",
       "      <th>YearBuilt</th>\n",
       "      <th>YearRemodAdd</th>\n",
       "      <th>MasVnrArea</th>\n",
       "      <th>BsmtFinSF1</th>\n",
       "      <th>BsmtUnfSF</th>\n",
       "      <th>...</th>\n",
       "      <th>Neighborhood_Sawyer</th>\n",
       "      <th>Neighborhood_SawyerW</th>\n",
       "      <th>Neighborhood_Somerst</th>\n",
       "      <th>Neighborhood_StoneBr</th>\n",
       "      <th>Neighborhood_Timber</th>\n",
       "      <th>Neighborhood_Veenker</th>\n",
       "      <th>RoofStyle_Flat</th>\n",
       "      <th>RoofStyle_Gable</th>\n",
       "      <th>RoofStyle_Gambrel</th>\n",
       "      <th>RoofStyle_Hip</th>\n",
       "    </tr>\n",
       "  </thead>\n",
       "  <tbody>\n",
       "    <tr>\n",
       "      <th>0</th>\n",
       "      <td>1</td>\n",
       "      <td>60</td>\n",
       "      <td>8450</td>\n",
       "      <td>7</td>\n",
       "      <td>5</td>\n",
       "      <td>2003</td>\n",
       "      <td>2003</td>\n",
       "      <td>196</td>\n",
       "      <td>706</td>\n",
       "      <td>150</td>\n",
       "      <td>...</td>\n",
       "      <td>0</td>\n",
       "      <td>0</td>\n",
       "      <td>0</td>\n",
       "      <td>0</td>\n",
       "      <td>0</td>\n",
       "      <td>0</td>\n",
       "      <td>0</td>\n",
       "      <td>1</td>\n",
       "      <td>0</td>\n",
       "      <td>0</td>\n",
       "    </tr>\n",
       "    <tr>\n",
       "      <th>1</th>\n",
       "      <td>2</td>\n",
       "      <td>20</td>\n",
       "      <td>9600</td>\n",
       "      <td>6</td>\n",
       "      <td>8</td>\n",
       "      <td>1976</td>\n",
       "      <td>1976</td>\n",
       "      <td>0</td>\n",
       "      <td>978</td>\n",
       "      <td>284</td>\n",
       "      <td>...</td>\n",
       "      <td>0</td>\n",
       "      <td>0</td>\n",
       "      <td>0</td>\n",
       "      <td>0</td>\n",
       "      <td>0</td>\n",
       "      <td>1</td>\n",
       "      <td>0</td>\n",
       "      <td>1</td>\n",
       "      <td>0</td>\n",
       "      <td>0</td>\n",
       "    </tr>\n",
       "    <tr>\n",
       "      <th>2</th>\n",
       "      <td>3</td>\n",
       "      <td>60</td>\n",
       "      <td>11250</td>\n",
       "      <td>7</td>\n",
       "      <td>5</td>\n",
       "      <td>2001</td>\n",
       "      <td>2002</td>\n",
       "      <td>162</td>\n",
       "      <td>486</td>\n",
       "      <td>434</td>\n",
       "      <td>...</td>\n",
       "      <td>0</td>\n",
       "      <td>0</td>\n",
       "      <td>0</td>\n",
       "      <td>0</td>\n",
       "      <td>0</td>\n",
       "      <td>0</td>\n",
       "      <td>0</td>\n",
       "      <td>1</td>\n",
       "      <td>0</td>\n",
       "      <td>0</td>\n",
       "    </tr>\n",
       "    <tr>\n",
       "      <th>3</th>\n",
       "      <td>4</td>\n",
       "      <td>70</td>\n",
       "      <td>9550</td>\n",
       "      <td>7</td>\n",
       "      <td>5</td>\n",
       "      <td>1915</td>\n",
       "      <td>1970</td>\n",
       "      <td>0</td>\n",
       "      <td>216</td>\n",
       "      <td>540</td>\n",
       "      <td>...</td>\n",
       "      <td>0</td>\n",
       "      <td>0</td>\n",
       "      <td>0</td>\n",
       "      <td>0</td>\n",
       "      <td>0</td>\n",
       "      <td>0</td>\n",
       "      <td>0</td>\n",
       "      <td>1</td>\n",
       "      <td>0</td>\n",
       "      <td>0</td>\n",
       "    </tr>\n",
       "    <tr>\n",
       "      <th>4</th>\n",
       "      <td>5</td>\n",
       "      <td>60</td>\n",
       "      <td>14260</td>\n",
       "      <td>8</td>\n",
       "      <td>5</td>\n",
       "      <td>2000</td>\n",
       "      <td>2000</td>\n",
       "      <td>350</td>\n",
       "      <td>655</td>\n",
       "      <td>490</td>\n",
       "      <td>...</td>\n",
       "      <td>0</td>\n",
       "      <td>0</td>\n",
       "      <td>0</td>\n",
       "      <td>0</td>\n",
       "      <td>0</td>\n",
       "      <td>0</td>\n",
       "      <td>0</td>\n",
       "      <td>1</td>\n",
       "      <td>0</td>\n",
       "      <td>0</td>\n",
       "    </tr>\n",
       "    <tr>\n",
       "      <th>...</th>\n",
       "      <td>...</td>\n",
       "      <td>...</td>\n",
       "      <td>...</td>\n",
       "      <td>...</td>\n",
       "      <td>...</td>\n",
       "      <td>...</td>\n",
       "      <td>...</td>\n",
       "      <td>...</td>\n",
       "      <td>...</td>\n",
       "      <td>...</td>\n",
       "      <td>...</td>\n",
       "      <td>...</td>\n",
       "      <td>...</td>\n",
       "      <td>...</td>\n",
       "      <td>...</td>\n",
       "      <td>...</td>\n",
       "      <td>...</td>\n",
       "      <td>...</td>\n",
       "      <td>...</td>\n",
       "      <td>...</td>\n",
       "      <td>...</td>\n",
       "    </tr>\n",
       "    <tr>\n",
       "      <th>1335</th>\n",
       "      <td>1455</td>\n",
       "      <td>20</td>\n",
       "      <td>7500</td>\n",
       "      <td>7</td>\n",
       "      <td>5</td>\n",
       "      <td>2004</td>\n",
       "      <td>2005</td>\n",
       "      <td>0</td>\n",
       "      <td>410</td>\n",
       "      <td>811</td>\n",
       "      <td>...</td>\n",
       "      <td>0</td>\n",
       "      <td>0</td>\n",
       "      <td>1</td>\n",
       "      <td>0</td>\n",
       "      <td>0</td>\n",
       "      <td>0</td>\n",
       "      <td>0</td>\n",
       "      <td>1</td>\n",
       "      <td>0</td>\n",
       "      <td>0</td>\n",
       "    </tr>\n",
       "    <tr>\n",
       "      <th>1336</th>\n",
       "      <td>1456</td>\n",
       "      <td>60</td>\n",
       "      <td>7917</td>\n",
       "      <td>6</td>\n",
       "      <td>5</td>\n",
       "      <td>1999</td>\n",
       "      <td>2000</td>\n",
       "      <td>0</td>\n",
       "      <td>0</td>\n",
       "      <td>953</td>\n",
       "      <td>...</td>\n",
       "      <td>0</td>\n",
       "      <td>0</td>\n",
       "      <td>0</td>\n",
       "      <td>0</td>\n",
       "      <td>0</td>\n",
       "      <td>0</td>\n",
       "      <td>0</td>\n",
       "      <td>1</td>\n",
       "      <td>0</td>\n",
       "      <td>0</td>\n",
       "    </tr>\n",
       "    <tr>\n",
       "      <th>1337</th>\n",
       "      <td>1457</td>\n",
       "      <td>20</td>\n",
       "      <td>13175</td>\n",
       "      <td>6</td>\n",
       "      <td>6</td>\n",
       "      <td>1978</td>\n",
       "      <td>1988</td>\n",
       "      <td>119</td>\n",
       "      <td>790</td>\n",
       "      <td>589</td>\n",
       "      <td>...</td>\n",
       "      <td>0</td>\n",
       "      <td>0</td>\n",
       "      <td>0</td>\n",
       "      <td>0</td>\n",
       "      <td>0</td>\n",
       "      <td>0</td>\n",
       "      <td>0</td>\n",
       "      <td>1</td>\n",
       "      <td>0</td>\n",
       "      <td>0</td>\n",
       "    </tr>\n",
       "    <tr>\n",
       "      <th>1338</th>\n",
       "      <td>1459</td>\n",
       "      <td>20</td>\n",
       "      <td>9717</td>\n",
       "      <td>5</td>\n",
       "      <td>6</td>\n",
       "      <td>1950</td>\n",
       "      <td>1996</td>\n",
       "      <td>0</td>\n",
       "      <td>49</td>\n",
       "      <td>0</td>\n",
       "      <td>...</td>\n",
       "      <td>0</td>\n",
       "      <td>0</td>\n",
       "      <td>0</td>\n",
       "      <td>0</td>\n",
       "      <td>0</td>\n",
       "      <td>0</td>\n",
       "      <td>0</td>\n",
       "      <td>0</td>\n",
       "      <td>0</td>\n",
       "      <td>1</td>\n",
       "    </tr>\n",
       "    <tr>\n",
       "      <th>1339</th>\n",
       "      <td>1460</td>\n",
       "      <td>20</td>\n",
       "      <td>9937</td>\n",
       "      <td>5</td>\n",
       "      <td>6</td>\n",
       "      <td>1965</td>\n",
       "      <td>1965</td>\n",
       "      <td>0</td>\n",
       "      <td>830</td>\n",
       "      <td>136</td>\n",
       "      <td>...</td>\n",
       "      <td>0</td>\n",
       "      <td>0</td>\n",
       "      <td>0</td>\n",
       "      <td>0</td>\n",
       "      <td>0</td>\n",
       "      <td>0</td>\n",
       "      <td>0</td>\n",
       "      <td>1</td>\n",
       "      <td>0</td>\n",
       "      <td>0</td>\n",
       "    </tr>\n",
       "  </tbody>\n",
       "</table>\n",
       "<p>1340 rows × 247 columns</p>\n",
       "</div>"
      ],
      "text/plain": [
       "        Id  MSSubClass  LotArea  OverallQual  OverallCond  YearBuilt  \\\n",
       "0        1          60     8450            7            5       2003   \n",
       "1        2          20     9600            6            8       1976   \n",
       "2        3          60    11250            7            5       2001   \n",
       "3        4          70     9550            7            5       1915   \n",
       "4        5          60    14260            8            5       2000   \n",
       "...    ...         ...      ...          ...          ...        ...   \n",
       "1335  1455          20     7500            7            5       2004   \n",
       "1336  1456          60     7917            6            5       1999   \n",
       "1337  1457          20    13175            6            6       1978   \n",
       "1338  1459          20     9717            5            6       1950   \n",
       "1339  1460          20     9937            5            6       1965   \n",
       "\n",
       "      YearRemodAdd  MasVnrArea  BsmtFinSF1  BsmtUnfSF  ...  \\\n",
       "0             2003         196         706        150  ...   \n",
       "1             1976           0         978        284  ...   \n",
       "2             2002         162         486        434  ...   \n",
       "3             1970           0         216        540  ...   \n",
       "4             2000         350         655        490  ...   \n",
       "...            ...         ...         ...        ...  ...   \n",
       "1335          2005           0         410        811  ...   \n",
       "1336          2000           0           0        953  ...   \n",
       "1337          1988         119         790        589  ...   \n",
       "1338          1996           0          49          0  ...   \n",
       "1339          1965           0         830        136  ...   \n",
       "\n",
       "      Neighborhood_Sawyer  Neighborhood_SawyerW  Neighborhood_Somerst  \\\n",
       "0                       0                     0                     0   \n",
       "1                       0                     0                     0   \n",
       "2                       0                     0                     0   \n",
       "3                       0                     0                     0   \n",
       "4                       0                     0                     0   \n",
       "...                   ...                   ...                   ...   \n",
       "1335                    0                     0                     1   \n",
       "1336                    0                     0                     0   \n",
       "1337                    0                     0                     0   \n",
       "1338                    0                     0                     0   \n",
       "1339                    0                     0                     0   \n",
       "\n",
       "      Neighborhood_StoneBr  Neighborhood_Timber  Neighborhood_Veenker  \\\n",
       "0                        0                    0                     0   \n",
       "1                        0                    0                     1   \n",
       "2                        0                    0                     0   \n",
       "3                        0                    0                     0   \n",
       "4                        0                    0                     0   \n",
       "...                    ...                  ...                   ...   \n",
       "1335                     0                    0                     0   \n",
       "1336                     0                    0                     0   \n",
       "1337                     0                    0                     0   \n",
       "1338                     0                    0                     0   \n",
       "1339                     0                    0                     0   \n",
       "\n",
       "      RoofStyle_Flat  RoofStyle_Gable  RoofStyle_Gambrel  RoofStyle_Hip  \n",
       "0                  0                1                  0              0  \n",
       "1                  0                1                  0              0  \n",
       "2                  0                1                  0              0  \n",
       "3                  0                1                  0              0  \n",
       "4                  0                1                  0              0  \n",
       "...              ...              ...                ...            ...  \n",
       "1335               0                1                  0              0  \n",
       "1336               0                1                  0              0  \n",
       "1337               0                1                  0              0  \n",
       "1338               0                0                  0              1  \n",
       "1339               0                1                  0              0  \n",
       "\n",
       "[1340 rows x 247 columns]"
      ]
     },
     "execution_count": 3,
     "metadata": {},
     "output_type": "execute_result"
    }
   ],
   "source": [
    "categorical = sorted([\"MSZoning\",\"LotFrontage\",\"LotShape\",\"LotConfig\",\"Neighborhood\",\"HouseStyle\",\"RoofStyle\",\"Exterior1st\",\"Exterior2nd\",\"MasVnrType\",\"ExterQual\",\"Foundation\",\"BsmtQual\",\"BsmtExposure\",\"BsmtFinType1\",\"HeatingQC\",\"KitchenQual\",\"FireplaceQu\",\"GarageType\",\"GarageFinish\"])\n",
    "data[categorical] = data[categorical].astype('category')\n",
    "df = pd.get_dummies(data,columns=categorical)\n",
    "df"
   ]
  },
  {
   "cell_type": "code",
   "execution_count": 4,
   "id": "1c7757c4",
   "metadata": {
    "colab": {
     "base_uri": "https://localhost:8080/",
     "height": 488
    },
    "id": "1c7757c4",
    "outputId": "50d13b25-f60a-4f73-ab89-b8210a455bf0",
    "scrolled": true
   },
   "outputs": [
    {
     "data": {
      "text/html": [
       "<div>\n",
       "<style scoped>\n",
       "    .dataframe tbody tr th:only-of-type {\n",
       "        vertical-align: middle;\n",
       "    }\n",
       "\n",
       "    .dataframe tbody tr th {\n",
       "        vertical-align: top;\n",
       "    }\n",
       "\n",
       "    .dataframe thead th {\n",
       "        text-align: right;\n",
       "    }\n",
       "</style>\n",
       "<table border=\"1\" class=\"dataframe\">\n",
       "  <thead>\n",
       "    <tr style=\"text-align: right;\">\n",
       "      <th></th>\n",
       "      <th>Id</th>\n",
       "      <th>MSSubClass</th>\n",
       "      <th>LotArea</th>\n",
       "      <th>OverallQual</th>\n",
       "      <th>OverallCond</th>\n",
       "      <th>YearBuilt</th>\n",
       "      <th>YearRemodAdd</th>\n",
       "      <th>MasVnrArea</th>\n",
       "      <th>BsmtFinSF1</th>\n",
       "      <th>BsmtUnfSF</th>\n",
       "      <th>...</th>\n",
       "      <th>Neighborhood_Sawyer</th>\n",
       "      <th>Neighborhood_SawyerW</th>\n",
       "      <th>Neighborhood_Somerst</th>\n",
       "      <th>Neighborhood_StoneBr</th>\n",
       "      <th>Neighborhood_Timber</th>\n",
       "      <th>Neighborhood_Veenker</th>\n",
       "      <th>RoofStyle_Flat</th>\n",
       "      <th>RoofStyle_Gable</th>\n",
       "      <th>RoofStyle_Gambrel</th>\n",
       "      <th>RoofStyle_Hip</th>\n",
       "    </tr>\n",
       "  </thead>\n",
       "  <tbody>\n",
       "    <tr>\n",
       "      <th>0</th>\n",
       "      <td>1</td>\n",
       "      <td>60</td>\n",
       "      <td>8450</td>\n",
       "      <td>7</td>\n",
       "      <td>5</td>\n",
       "      <td>2003</td>\n",
       "      <td>2003</td>\n",
       "      <td>196</td>\n",
       "      <td>706</td>\n",
       "      <td>150</td>\n",
       "      <td>...</td>\n",
       "      <td>0</td>\n",
       "      <td>0</td>\n",
       "      <td>0</td>\n",
       "      <td>0</td>\n",
       "      <td>0</td>\n",
       "      <td>0</td>\n",
       "      <td>0</td>\n",
       "      <td>1</td>\n",
       "      <td>0</td>\n",
       "      <td>0</td>\n",
       "    </tr>\n",
       "    <tr>\n",
       "      <th>1</th>\n",
       "      <td>2</td>\n",
       "      <td>20</td>\n",
       "      <td>9600</td>\n",
       "      <td>6</td>\n",
       "      <td>8</td>\n",
       "      <td>1976</td>\n",
       "      <td>1976</td>\n",
       "      <td>0</td>\n",
       "      <td>978</td>\n",
       "      <td>284</td>\n",
       "      <td>...</td>\n",
       "      <td>0</td>\n",
       "      <td>0</td>\n",
       "      <td>0</td>\n",
       "      <td>0</td>\n",
       "      <td>0</td>\n",
       "      <td>1</td>\n",
       "      <td>0</td>\n",
       "      <td>1</td>\n",
       "      <td>0</td>\n",
       "      <td>0</td>\n",
       "    </tr>\n",
       "    <tr>\n",
       "      <th>2</th>\n",
       "      <td>3</td>\n",
       "      <td>60</td>\n",
       "      <td>11250</td>\n",
       "      <td>7</td>\n",
       "      <td>5</td>\n",
       "      <td>2001</td>\n",
       "      <td>2002</td>\n",
       "      <td>162</td>\n",
       "      <td>486</td>\n",
       "      <td>434</td>\n",
       "      <td>...</td>\n",
       "      <td>0</td>\n",
       "      <td>0</td>\n",
       "      <td>0</td>\n",
       "      <td>0</td>\n",
       "      <td>0</td>\n",
       "      <td>0</td>\n",
       "      <td>0</td>\n",
       "      <td>1</td>\n",
       "      <td>0</td>\n",
       "      <td>0</td>\n",
       "    </tr>\n",
       "    <tr>\n",
       "      <th>3</th>\n",
       "      <td>4</td>\n",
       "      <td>70</td>\n",
       "      <td>9550</td>\n",
       "      <td>7</td>\n",
       "      <td>5</td>\n",
       "      <td>1915</td>\n",
       "      <td>1970</td>\n",
       "      <td>0</td>\n",
       "      <td>216</td>\n",
       "      <td>540</td>\n",
       "      <td>...</td>\n",
       "      <td>0</td>\n",
       "      <td>0</td>\n",
       "      <td>0</td>\n",
       "      <td>0</td>\n",
       "      <td>0</td>\n",
       "      <td>0</td>\n",
       "      <td>0</td>\n",
       "      <td>1</td>\n",
       "      <td>0</td>\n",
       "      <td>0</td>\n",
       "    </tr>\n",
       "    <tr>\n",
       "      <th>4</th>\n",
       "      <td>5</td>\n",
       "      <td>60</td>\n",
       "      <td>14260</td>\n",
       "      <td>8</td>\n",
       "      <td>5</td>\n",
       "      <td>2000</td>\n",
       "      <td>2000</td>\n",
       "      <td>350</td>\n",
       "      <td>655</td>\n",
       "      <td>490</td>\n",
       "      <td>...</td>\n",
       "      <td>0</td>\n",
       "      <td>0</td>\n",
       "      <td>0</td>\n",
       "      <td>0</td>\n",
       "      <td>0</td>\n",
       "      <td>0</td>\n",
       "      <td>0</td>\n",
       "      <td>1</td>\n",
       "      <td>0</td>\n",
       "      <td>0</td>\n",
       "    </tr>\n",
       "    <tr>\n",
       "      <th>...</th>\n",
       "      <td>...</td>\n",
       "      <td>...</td>\n",
       "      <td>...</td>\n",
       "      <td>...</td>\n",
       "      <td>...</td>\n",
       "      <td>...</td>\n",
       "      <td>...</td>\n",
       "      <td>...</td>\n",
       "      <td>...</td>\n",
       "      <td>...</td>\n",
       "      <td>...</td>\n",
       "      <td>...</td>\n",
       "      <td>...</td>\n",
       "      <td>...</td>\n",
       "      <td>...</td>\n",
       "      <td>...</td>\n",
       "      <td>...</td>\n",
       "      <td>...</td>\n",
       "      <td>...</td>\n",
       "      <td>...</td>\n",
       "      <td>...</td>\n",
       "    </tr>\n",
       "    <tr>\n",
       "      <th>1335</th>\n",
       "      <td>1455</td>\n",
       "      <td>20</td>\n",
       "      <td>7500</td>\n",
       "      <td>7</td>\n",
       "      <td>5</td>\n",
       "      <td>2004</td>\n",
       "      <td>2005</td>\n",
       "      <td>0</td>\n",
       "      <td>410</td>\n",
       "      <td>811</td>\n",
       "      <td>...</td>\n",
       "      <td>0</td>\n",
       "      <td>0</td>\n",
       "      <td>1</td>\n",
       "      <td>0</td>\n",
       "      <td>0</td>\n",
       "      <td>0</td>\n",
       "      <td>0</td>\n",
       "      <td>1</td>\n",
       "      <td>0</td>\n",
       "      <td>0</td>\n",
       "    </tr>\n",
       "    <tr>\n",
       "      <th>1336</th>\n",
       "      <td>1456</td>\n",
       "      <td>60</td>\n",
       "      <td>7917</td>\n",
       "      <td>6</td>\n",
       "      <td>5</td>\n",
       "      <td>1999</td>\n",
       "      <td>2000</td>\n",
       "      <td>0</td>\n",
       "      <td>0</td>\n",
       "      <td>953</td>\n",
       "      <td>...</td>\n",
       "      <td>0</td>\n",
       "      <td>0</td>\n",
       "      <td>0</td>\n",
       "      <td>0</td>\n",
       "      <td>0</td>\n",
       "      <td>0</td>\n",
       "      <td>0</td>\n",
       "      <td>1</td>\n",
       "      <td>0</td>\n",
       "      <td>0</td>\n",
       "    </tr>\n",
       "    <tr>\n",
       "      <th>1337</th>\n",
       "      <td>1457</td>\n",
       "      <td>20</td>\n",
       "      <td>13175</td>\n",
       "      <td>6</td>\n",
       "      <td>6</td>\n",
       "      <td>1978</td>\n",
       "      <td>1988</td>\n",
       "      <td>119</td>\n",
       "      <td>790</td>\n",
       "      <td>589</td>\n",
       "      <td>...</td>\n",
       "      <td>0</td>\n",
       "      <td>0</td>\n",
       "      <td>0</td>\n",
       "      <td>0</td>\n",
       "      <td>0</td>\n",
       "      <td>0</td>\n",
       "      <td>0</td>\n",
       "      <td>1</td>\n",
       "      <td>0</td>\n",
       "      <td>0</td>\n",
       "    </tr>\n",
       "    <tr>\n",
       "      <th>1338</th>\n",
       "      <td>1459</td>\n",
       "      <td>20</td>\n",
       "      <td>9717</td>\n",
       "      <td>5</td>\n",
       "      <td>6</td>\n",
       "      <td>1950</td>\n",
       "      <td>1996</td>\n",
       "      <td>0</td>\n",
       "      <td>49</td>\n",
       "      <td>0</td>\n",
       "      <td>...</td>\n",
       "      <td>0</td>\n",
       "      <td>0</td>\n",
       "      <td>0</td>\n",
       "      <td>0</td>\n",
       "      <td>0</td>\n",
       "      <td>0</td>\n",
       "      <td>0</td>\n",
       "      <td>0</td>\n",
       "      <td>0</td>\n",
       "      <td>1</td>\n",
       "    </tr>\n",
       "    <tr>\n",
       "      <th>1339</th>\n",
       "      <td>1460</td>\n",
       "      <td>20</td>\n",
       "      <td>9937</td>\n",
       "      <td>5</td>\n",
       "      <td>6</td>\n",
       "      <td>1965</td>\n",
       "      <td>1965</td>\n",
       "      <td>0</td>\n",
       "      <td>830</td>\n",
       "      <td>136</td>\n",
       "      <td>...</td>\n",
       "      <td>0</td>\n",
       "      <td>0</td>\n",
       "      <td>0</td>\n",
       "      <td>0</td>\n",
       "      <td>0</td>\n",
       "      <td>0</td>\n",
       "      <td>0</td>\n",
       "      <td>1</td>\n",
       "      <td>0</td>\n",
       "      <td>0</td>\n",
       "    </tr>\n",
       "  </tbody>\n",
       "</table>\n",
       "<p>1340 rows × 247 columns</p>\n",
       "</div>"
      ],
      "text/plain": [
       "        Id  MSSubClass  LotArea  OverallQual  OverallCond  YearBuilt  \\\n",
       "0        1          60     8450            7            5       2003   \n",
       "1        2          20     9600            6            8       1976   \n",
       "2        3          60    11250            7            5       2001   \n",
       "3        4          70     9550            7            5       1915   \n",
       "4        5          60    14260            8            5       2000   \n",
       "...    ...         ...      ...          ...          ...        ...   \n",
       "1335  1455          20     7500            7            5       2004   \n",
       "1336  1456          60     7917            6            5       1999   \n",
       "1337  1457          20    13175            6            6       1978   \n",
       "1338  1459          20     9717            5            6       1950   \n",
       "1339  1460          20     9937            5            6       1965   \n",
       "\n",
       "      YearRemodAdd  MasVnrArea  BsmtFinSF1  BsmtUnfSF  ...  \\\n",
       "0             2003         196         706        150  ...   \n",
       "1             1976           0         978        284  ...   \n",
       "2             2002         162         486        434  ...   \n",
       "3             1970           0         216        540  ...   \n",
       "4             2000         350         655        490  ...   \n",
       "...            ...         ...         ...        ...  ...   \n",
       "1335          2005           0         410        811  ...   \n",
       "1336          2000           0           0        953  ...   \n",
       "1337          1988         119         790        589  ...   \n",
       "1338          1996           0          49          0  ...   \n",
       "1339          1965           0         830        136  ...   \n",
       "\n",
       "      Neighborhood_Sawyer  Neighborhood_SawyerW  Neighborhood_Somerst  \\\n",
       "0                       0                     0                     0   \n",
       "1                       0                     0                     0   \n",
       "2                       0                     0                     0   \n",
       "3                       0                     0                     0   \n",
       "4                       0                     0                     0   \n",
       "...                   ...                   ...                   ...   \n",
       "1335                    0                     0                     1   \n",
       "1336                    0                     0                     0   \n",
       "1337                    0                     0                     0   \n",
       "1338                    0                     0                     0   \n",
       "1339                    0                     0                     0   \n",
       "\n",
       "      Neighborhood_StoneBr  Neighborhood_Timber  Neighborhood_Veenker  \\\n",
       "0                        0                    0                     0   \n",
       "1                        0                    0                     1   \n",
       "2                        0                    0                     0   \n",
       "3                        0                    0                     0   \n",
       "4                        0                    0                     0   \n",
       "...                    ...                  ...                   ...   \n",
       "1335                     0                    0                     0   \n",
       "1336                     0                    0                     0   \n",
       "1337                     0                    0                     0   \n",
       "1338                     0                    0                     0   \n",
       "1339                     0                    0                     0   \n",
       "\n",
       "      RoofStyle_Flat  RoofStyle_Gable  RoofStyle_Gambrel  RoofStyle_Hip  \n",
       "0                  0                1                  0              0  \n",
       "1                  0                1                  0              0  \n",
       "2                  0                1                  0              0  \n",
       "3                  0                1                  0              0  \n",
       "4                  0                1                  0              0  \n",
       "...              ...              ...                ...            ...  \n",
       "1335               0                1                  0              0  \n",
       "1336               0                1                  0              0  \n",
       "1337               0                1                  0              0  \n",
       "1338               0                0                  0              1  \n",
       "1339               0                1                  0              0  \n",
       "\n",
       "[1340 rows x 247 columns]"
      ]
     },
     "execution_count": 4,
     "metadata": {},
     "output_type": "execute_result"
    }
   ],
   "source": [
    "from sklearn.preprocessing import MinMaxScaler\n",
    "from sklearn.preprocessing import StandardScaler\n",
    "#scaler = MinMaxScaler()\n",
    "scaler =StandardScaler()\n",
    "scaler.fit(df)\n",
    "def scale(data):\n",
    "    for col in data:\n",
    "            data[col] = pd.DataFrame(scaler.fit_transform(pd.DataFrame(data[col])),columns=[col])\n",
    "    return data\n",
    "df=df.dropna()\n",
    "df"
   ]
  },
  {
   "cell_type": "code",
   "execution_count": 5,
   "id": "9cbeb185",
   "metadata": {
    "colab": {
     "base_uri": "https://localhost:8080/",
     "height": 783
    },
    "id": "9cbeb185",
    "outputId": "dbd2e346-aee7-4491-9c78-59a798e9bdc3"
   },
   "outputs": [
    {
     "name": "stdout",
     "output_type": "stream",
     "text": [
      "(1072, 247)\n",
      "      MSSubClass  LotArea  OverallQual  OverallCond  YearBuilt  YearRemodAdd  \\\n",
      "1072         120     5001            7            5       2007          2008   \n",
      "1073          20    11932            8            5       2007          2008   \n",
      "1074          60     9120            6            6       1974          1974   \n",
      "1075          20    14778            6            7       1954          2006   \n",
      "1076          20     8724            5            5       1968          1968   \n",
      "...          ...      ...          ...          ...        ...           ...   \n",
      "1335          20     7500            7            5       2004          2005   \n",
      "1336          60     7917            6            5       1999          2000   \n",
      "1337          20    13175            6            6       1978          1988   \n",
      "1338          20     9717            5            6       1950          1996   \n",
      "1339          20     9937            5            6       1965          1965   \n",
      "\n",
      "      MasVnrArea  BsmtFinSF1  BsmtUnfSF  TotalBsmtSF  ...  \\\n",
      "1072         166         904        410         1314  ...   \n",
      "1073         186           0       1580         1580  ...   \n",
      "1074         270         442        459          901  ...   \n",
      "1075          72         728        568         1296  ...   \n",
      "1076           0         492        402          894  ...   \n",
      "...          ...         ...        ...          ...  ...   \n",
      "1335           0         410        811         1221  ...   \n",
      "1336           0           0        953          953  ...   \n",
      "1337         119         790        589         1542  ...   \n",
      "1338           0          49          0         1078  ...   \n",
      "1339           0         830        136         1256  ...   \n",
      "\n",
      "      Neighborhood_Sawyer  Neighborhood_SawyerW  Neighborhood_Somerst  \\\n",
      "1072                    0                     0                     0   \n",
      "1073                    0                     0                     1   \n",
      "1074                    0                     0                     0   \n",
      "1075                    0                     0                     0   \n",
      "1076                    1                     0                     0   \n",
      "...                   ...                   ...                   ...   \n",
      "1335                    0                     0                     1   \n",
      "1336                    0                     0                     0   \n",
      "1337                    0                     0                     0   \n",
      "1338                    0                     0                     0   \n",
      "1339                    0                     0                     0   \n",
      "\n",
      "      Neighborhood_StoneBr  Neighborhood_Timber  Neighborhood_Veenker  \\\n",
      "1072                     0                    0                     0   \n",
      "1073                     0                    0                     0   \n",
      "1074                     0                    0                     0   \n",
      "1075                     0                    0                     0   \n",
      "1076                     0                    0                     0   \n",
      "...                    ...                  ...                   ...   \n",
      "1335                     0                    0                     0   \n",
      "1336                     0                    0                     0   \n",
      "1337                     0                    0                     0   \n",
      "1338                     0                    0                     0   \n",
      "1339                     0                    0                     0   \n",
      "\n",
      "      RoofStyle_Flat  RoofStyle_Gable  RoofStyle_Gambrel  RoofStyle_Hip  \n",
      "1072               0                1                  0              0  \n",
      "1073               0                1                  0              0  \n",
      "1074               0                0                  0              1  \n",
      "1075               0                0                  0              1  \n",
      "1076               0                1                  0              0  \n",
      "...              ...              ...                ...            ...  \n",
      "1335               0                1                  0              0  \n",
      "1336               0                1                  0              0  \n",
      "1337               0                1                  0              0  \n",
      "1338               0                0                  0              1  \n",
      "1339               0                1                  0              0  \n",
      "\n",
      "[268 rows x 245 columns]\n",
      "(1072, 245)\n",
      "(268, 245)\n"
     ]
    },
    {
     "data": {
      "text/html": [
       "<div>\n",
       "<style scoped>\n",
       "    .dataframe tbody tr th:only-of-type {\n",
       "        vertical-align: middle;\n",
       "    }\n",
       "\n",
       "    .dataframe tbody tr th {\n",
       "        vertical-align: top;\n",
       "    }\n",
       "\n",
       "    .dataframe thead th {\n",
       "        text-align: right;\n",
       "    }\n",
       "</style>\n",
       "<table border=\"1\" class=\"dataframe\">\n",
       "  <thead>\n",
       "    <tr style=\"text-align: right;\">\n",
       "      <th></th>\n",
       "      <th>MSSubClass</th>\n",
       "      <th>LotArea</th>\n",
       "      <th>OverallQual</th>\n",
       "      <th>OverallCond</th>\n",
       "      <th>YearBuilt</th>\n",
       "      <th>YearRemodAdd</th>\n",
       "      <th>MasVnrArea</th>\n",
       "      <th>BsmtFinSF1</th>\n",
       "      <th>BsmtUnfSF</th>\n",
       "      <th>TotalBsmtSF</th>\n",
       "      <th>...</th>\n",
       "      <th>Neighborhood_Sawyer</th>\n",
       "      <th>Neighborhood_SawyerW</th>\n",
       "      <th>Neighborhood_Somerst</th>\n",
       "      <th>Neighborhood_StoneBr</th>\n",
       "      <th>Neighborhood_Timber</th>\n",
       "      <th>Neighborhood_Veenker</th>\n",
       "      <th>RoofStyle_Flat</th>\n",
       "      <th>RoofStyle_Gable</th>\n",
       "      <th>RoofStyle_Gambrel</th>\n",
       "      <th>RoofStyle_Hip</th>\n",
       "    </tr>\n",
       "  </thead>\n",
       "  <tbody>\n",
       "    <tr>\n",
       "      <th>0</th>\n",
       "      <td>0.107716</td>\n",
       "      <td>-0.223600</td>\n",
       "      <td>0.650128</td>\n",
       "      <td>-0.540254</td>\n",
       "      <td>1.034655</td>\n",
       "      <td>0.850720</td>\n",
       "      <td>0.498145</td>\n",
       "      <td>0.607108</td>\n",
       "      <td>-0.945544</td>\n",
       "      <td>-0.495865</td>\n",
       "      <td>...</td>\n",
       "      <td>-0.245634</td>\n",
       "      <td>-0.218857</td>\n",
       "      <td>-0.251976</td>\n",
       "      <td>-0.141354</td>\n",
       "      <td>-0.154524</td>\n",
       "      <td>-0.086711</td>\n",
       "      <td>-0.097037</td>\n",
       "      <td>0.502331</td>\n",
       "      <td>-0.075023</td>\n",
       "      <td>-0.478913</td>\n",
       "    </tr>\n",
       "    <tr>\n",
       "      <th>1</th>\n",
       "      <td>-0.853544</td>\n",
       "      <td>-0.070583</td>\n",
       "      <td>-0.100882</td>\n",
       "      <td>2.235235</td>\n",
       "      <td>0.108219</td>\n",
       "      <td>-0.470198</td>\n",
       "      <td>-0.589048</td>\n",
       "      <td>1.240794</td>\n",
       "      <td>-0.641998</td>\n",
       "      <td>0.502638</td>\n",
       "      <td>...</td>\n",
       "      <td>-0.245634</td>\n",
       "      <td>-0.218857</td>\n",
       "      <td>-0.251976</td>\n",
       "      <td>-0.141354</td>\n",
       "      <td>-0.154524</td>\n",
       "      <td>11.532563</td>\n",
       "      <td>-0.097037</td>\n",
       "      <td>0.502331</td>\n",
       "      <td>-0.075023</td>\n",
       "      <td>-0.478913</td>\n",
       "    </tr>\n",
       "    <tr>\n",
       "      <th>2</th>\n",
       "      <td>0.107716</td>\n",
       "      <td>0.148962</td>\n",
       "      <td>0.650128</td>\n",
       "      <td>-0.540254</td>\n",
       "      <td>0.966030</td>\n",
       "      <td>0.801797</td>\n",
       "      <td>0.309550</td>\n",
       "      <td>0.094567</td>\n",
       "      <td>-0.302207</td>\n",
       "      <td>-0.338466</td>\n",
       "      <td>...</td>\n",
       "      <td>-0.245634</td>\n",
       "      <td>-0.218857</td>\n",
       "      <td>-0.251976</td>\n",
       "      <td>-0.141354</td>\n",
       "      <td>-0.154524</td>\n",
       "      <td>-0.086711</td>\n",
       "      <td>-0.097037</td>\n",
       "      <td>0.502331</td>\n",
       "      <td>-0.075023</td>\n",
       "      <td>-0.478913</td>\n",
       "    </tr>\n",
       "    <tr>\n",
       "      <th>3</th>\n",
       "      <td>0.348031</td>\n",
       "      <td>-0.077236</td>\n",
       "      <td>0.650128</td>\n",
       "      <td>-0.540254</td>\n",
       "      <td>-1.984841</td>\n",
       "      <td>-0.763736</td>\n",
       "      <td>-0.589048</td>\n",
       "      <td>-0.534460</td>\n",
       "      <td>-0.062088</td>\n",
       "      <td>-0.741802</td>\n",
       "      <td>...</td>\n",
       "      <td>-0.245634</td>\n",
       "      <td>-0.218857</td>\n",
       "      <td>-0.251976</td>\n",
       "      <td>-0.141354</td>\n",
       "      <td>-0.154524</td>\n",
       "      <td>-0.086711</td>\n",
       "      <td>-0.097037</td>\n",
       "      <td>0.502331</td>\n",
       "      <td>-0.075023</td>\n",
       "      <td>-0.478913</td>\n",
       "    </tr>\n",
       "    <tr>\n",
       "      <th>4</th>\n",
       "      <td>0.107716</td>\n",
       "      <td>0.549466</td>\n",
       "      <td>1.401138</td>\n",
       "      <td>-0.540254</td>\n",
       "      <td>0.931718</td>\n",
       "      <td>0.703951</td>\n",
       "      <td>1.352369</td>\n",
       "      <td>0.488291</td>\n",
       "      <td>-0.175352</td>\n",
       "      <td>0.214892</td>\n",
       "      <td>...</td>\n",
       "      <td>-0.245634</td>\n",
       "      <td>-0.218857</td>\n",
       "      <td>-0.251976</td>\n",
       "      <td>-0.141354</td>\n",
       "      <td>-0.154524</td>\n",
       "      <td>-0.086711</td>\n",
       "      <td>-0.097037</td>\n",
       "      <td>0.502331</td>\n",
       "      <td>-0.075023</td>\n",
       "      <td>-0.478913</td>\n",
       "    </tr>\n",
       "    <tr>\n",
       "      <th>...</th>\n",
       "      <td>...</td>\n",
       "      <td>...</td>\n",
       "      <td>...</td>\n",
       "      <td>...</td>\n",
       "      <td>...</td>\n",
       "      <td>...</td>\n",
       "      <td>...</td>\n",
       "      <td>...</td>\n",
       "      <td>...</td>\n",
       "      <td>...</td>\n",
       "      <td>...</td>\n",
       "      <td>...</td>\n",
       "      <td>...</td>\n",
       "      <td>...</td>\n",
       "      <td>...</td>\n",
       "      <td>...</td>\n",
       "      <td>...</td>\n",
       "      <td>...</td>\n",
       "      <td>...</td>\n",
       "      <td>...</td>\n",
       "      <td>...</td>\n",
       "    </tr>\n",
       "    <tr>\n",
       "      <th>1067</th>\n",
       "      <td>-0.853544</td>\n",
       "      <td>1.014503</td>\n",
       "      <td>-0.851892</td>\n",
       "      <td>-1.465417</td>\n",
       "      <td>-0.475093</td>\n",
       "      <td>-1.301888</td>\n",
       "      <td>0.143143</td>\n",
       "      <td>-0.627649</td>\n",
       "      <td>1.636867</td>\n",
       "      <td>1.004349</td>\n",
       "      <td>...</td>\n",
       "      <td>-0.245634</td>\n",
       "      <td>-0.218857</td>\n",
       "      <td>-0.251976</td>\n",
       "      <td>-0.141354</td>\n",
       "      <td>-0.154524</td>\n",
       "      <td>-0.086711</td>\n",
       "      <td>-0.097037</td>\n",
       "      <td>0.502331</td>\n",
       "      <td>-0.075023</td>\n",
       "      <td>-0.478913</td>\n",
       "    </tr>\n",
       "    <tr>\n",
       "      <th>1068</th>\n",
       "      <td>-0.613229</td>\n",
       "      <td>-0.564228</td>\n",
       "      <td>-0.100882</td>\n",
       "      <td>2.235235</td>\n",
       "      <td>-1.470154</td>\n",
       "      <td>1.046412</td>\n",
       "      <td>-0.589048</td>\n",
       "      <td>0.215713</td>\n",
       "      <td>-0.655589</td>\n",
       "      <td>-0.594240</td>\n",
       "      <td>...</td>\n",
       "      <td>-0.245634</td>\n",
       "      <td>-0.218857</td>\n",
       "      <td>-0.251976</td>\n",
       "      <td>-0.141354</td>\n",
       "      <td>-0.154524</td>\n",
       "      <td>-0.086711</td>\n",
       "      <td>-0.097037</td>\n",
       "      <td>0.502331</td>\n",
       "      <td>-0.075023</td>\n",
       "      <td>-0.478913</td>\n",
       "    </tr>\n",
       "    <tr>\n",
       "      <th>1069</th>\n",
       "      <td>0.107716</td>\n",
       "      <td>0.474954</td>\n",
       "      <td>0.650128</td>\n",
       "      <td>0.384909</td>\n",
       "      <td>-0.269218</td>\n",
       "      <td>0.116876</td>\n",
       "      <td>1.008460</td>\n",
       "      <td>0.020016</td>\n",
       "      <td>-0.356573</td>\n",
       "      <td>-0.476191</td>\n",
       "      <td>...</td>\n",
       "      <td>-0.245634</td>\n",
       "      <td>-0.218857</td>\n",
       "      <td>-0.251976</td>\n",
       "      <td>-0.141354</td>\n",
       "      <td>-0.154524</td>\n",
       "      <td>-0.086711</td>\n",
       "      <td>-0.097037</td>\n",
       "      <td>0.502331</td>\n",
       "      <td>-0.075023</td>\n",
       "      <td>-0.478913</td>\n",
       "    </tr>\n",
       "    <tr>\n",
       "      <th>1070</th>\n",
       "      <td>-0.853544</td>\n",
       "      <td>0.084828</td>\n",
       "      <td>-0.851892</td>\n",
       "      <td>2.235235</td>\n",
       "      <td>0.108219</td>\n",
       "      <td>0.899643</td>\n",
       "      <td>-0.589048</td>\n",
       "      <td>1.657816</td>\n",
       "      <td>-0.651059</td>\n",
       "      <td>0.933027</td>\n",
       "      <td>...</td>\n",
       "      <td>-0.245634</td>\n",
       "      <td>-0.218857</td>\n",
       "      <td>-0.251976</td>\n",
       "      <td>-0.141354</td>\n",
       "      <td>-0.154524</td>\n",
       "      <td>11.532563</td>\n",
       "      <td>-0.097037</td>\n",
       "      <td>0.502331</td>\n",
       "      <td>-0.075023</td>\n",
       "      <td>-0.478913</td>\n",
       "    </tr>\n",
       "    <tr>\n",
       "      <th>1071</th>\n",
       "      <td>0.588345</td>\n",
       "      <td>-0.103848</td>\n",
       "      <td>-0.851892</td>\n",
       "      <td>2.235235</td>\n",
       "      <td>-0.269218</td>\n",
       "      <td>0.655028</td>\n",
       "      <td>-0.589048</td>\n",
       "      <td>0.437037</td>\n",
       "      <td>0.042115</td>\n",
       "      <td>0.396885</td>\n",
       "      <td>...</td>\n",
       "      <td>-0.245634</td>\n",
       "      <td>-0.218857</td>\n",
       "      <td>-0.251976</td>\n",
       "      <td>-0.141354</td>\n",
       "      <td>-0.154524</td>\n",
       "      <td>-0.086711</td>\n",
       "      <td>-0.097037</td>\n",
       "      <td>0.502331</td>\n",
       "      <td>-0.075023</td>\n",
       "      <td>-0.478913</td>\n",
       "    </tr>\n",
       "  </tbody>\n",
       "</table>\n",
       "<p>1072 rows × 245 columns</p>\n",
       "</div>"
      ],
      "text/plain": [
       "      MSSubClass   LotArea  OverallQual  OverallCond  YearBuilt  YearRemodAdd  \\\n",
       "0       0.107716 -0.223600     0.650128    -0.540254   1.034655      0.850720   \n",
       "1      -0.853544 -0.070583    -0.100882     2.235235   0.108219     -0.470198   \n",
       "2       0.107716  0.148962     0.650128    -0.540254   0.966030      0.801797   \n",
       "3       0.348031 -0.077236     0.650128    -0.540254  -1.984841     -0.763736   \n",
       "4       0.107716  0.549466     1.401138    -0.540254   0.931718      0.703951   \n",
       "...          ...       ...          ...          ...        ...           ...   \n",
       "1067   -0.853544  1.014503    -0.851892    -1.465417  -0.475093     -1.301888   \n",
       "1068   -0.613229 -0.564228    -0.100882     2.235235  -1.470154      1.046412   \n",
       "1069    0.107716  0.474954     0.650128     0.384909  -0.269218      0.116876   \n",
       "1070   -0.853544  0.084828    -0.851892     2.235235   0.108219      0.899643   \n",
       "1071    0.588345 -0.103848    -0.851892     2.235235  -0.269218      0.655028   \n",
       "\n",
       "      MasVnrArea  BsmtFinSF1  BsmtUnfSF  TotalBsmtSF  ...  \\\n",
       "0       0.498145    0.607108  -0.945544    -0.495865  ...   \n",
       "1      -0.589048    1.240794  -0.641998     0.502638  ...   \n",
       "2       0.309550    0.094567  -0.302207    -0.338466  ...   \n",
       "3      -0.589048   -0.534460  -0.062088    -0.741802  ...   \n",
       "4       1.352369    0.488291  -0.175352     0.214892  ...   \n",
       "...          ...         ...        ...          ...  ...   \n",
       "1067    0.143143   -0.627649   1.636867     1.004349  ...   \n",
       "1068   -0.589048    0.215713  -0.655589    -0.594240  ...   \n",
       "1069    1.008460    0.020016  -0.356573    -0.476191  ...   \n",
       "1070   -0.589048    1.657816  -0.651059     0.933027  ...   \n",
       "1071   -0.589048    0.437037   0.042115     0.396885  ...   \n",
       "\n",
       "      Neighborhood_Sawyer  Neighborhood_SawyerW  Neighborhood_Somerst  \\\n",
       "0               -0.245634             -0.218857             -0.251976   \n",
       "1               -0.245634             -0.218857             -0.251976   \n",
       "2               -0.245634             -0.218857             -0.251976   \n",
       "3               -0.245634             -0.218857             -0.251976   \n",
       "4               -0.245634             -0.218857             -0.251976   \n",
       "...                   ...                   ...                   ...   \n",
       "1067            -0.245634             -0.218857             -0.251976   \n",
       "1068            -0.245634             -0.218857             -0.251976   \n",
       "1069            -0.245634             -0.218857             -0.251976   \n",
       "1070            -0.245634             -0.218857             -0.251976   \n",
       "1071            -0.245634             -0.218857             -0.251976   \n",
       "\n",
       "      Neighborhood_StoneBr  Neighborhood_Timber  Neighborhood_Veenker  \\\n",
       "0                -0.141354            -0.154524             -0.086711   \n",
       "1                -0.141354            -0.154524             11.532563   \n",
       "2                -0.141354            -0.154524             -0.086711   \n",
       "3                -0.141354            -0.154524             -0.086711   \n",
       "4                -0.141354            -0.154524             -0.086711   \n",
       "...                    ...                  ...                   ...   \n",
       "1067             -0.141354            -0.154524             -0.086711   \n",
       "1068             -0.141354            -0.154524             -0.086711   \n",
       "1069             -0.141354            -0.154524             -0.086711   \n",
       "1070             -0.141354            -0.154524             11.532563   \n",
       "1071             -0.141354            -0.154524             -0.086711   \n",
       "\n",
       "      RoofStyle_Flat  RoofStyle_Gable  RoofStyle_Gambrel  RoofStyle_Hip  \n",
       "0          -0.097037         0.502331          -0.075023      -0.478913  \n",
       "1          -0.097037         0.502331          -0.075023      -0.478913  \n",
       "2          -0.097037         0.502331          -0.075023      -0.478913  \n",
       "3          -0.097037         0.502331          -0.075023      -0.478913  \n",
       "4          -0.097037         0.502331          -0.075023      -0.478913  \n",
       "...              ...              ...                ...            ...  \n",
       "1067       -0.097037         0.502331          -0.075023      -0.478913  \n",
       "1068       -0.097037         0.502331          -0.075023      -0.478913  \n",
       "1069       -0.097037         0.502331          -0.075023      -0.478913  \n",
       "1070       -0.097037         0.502331          -0.075023      -0.478913  \n",
       "1071       -0.097037         0.502331          -0.075023      -0.478913  \n",
       "\n",
       "[1072 rows x 245 columns]"
      ]
     },
     "execution_count": 5,
     "metadata": {},
     "output_type": "execute_result"
    }
   ],
   "source": [
    "## train, test = train_test_split(df, test_size=0.2)\n",
    "train=df.head(1072)\n",
    "print(train.shape)\n",
    "test=df.tail(268)\n",
    "y_train=train['SalePrice']\n",
    "x_train=train.drop(['SalePrice','Id'], axis=1)\n",
    "y_test=test['SalePrice']\n",
    "x_test=test.drop(['SalePrice','Id'], axis=1)\n",
    "print(x_test)\n",
    "x_train.reset_index(drop=True, inplace=True) \n",
    "x_test.reset_index(drop=True, inplace=True) \n",
    "x_train=scale(x_train)\n",
    "x_test=scale(x_test)\n",
    "x_train.reset_index(drop=True, inplace=True) \n",
    "x_test.reset_index(drop=True, inplace=True) \n",
    "print(x_train.shape)\n",
    "print(x_test.shape)\n",
    "#x_train=x_train.dropna()\n",
    "#x_train\n",
    "x_train"
   ]
  },
  {
   "cell_type": "markdown",
   "id": "d77ed52b",
   "metadata": {
    "id": "d77ed52b"
   },
   "source": [
    "We will create an ensemble of Models and will predict based on the average of all Models"
   ]
  },
  {
   "cell_type": "markdown",
   "id": "abfaed8d",
   "metadata": {
    "id": "abfaed8d"
   },
   "source": [
    "# ElasticNet"
   ]
  },
  {
   "cell_type": "code",
   "execution_count": null,
   "id": "c102cff0",
   "metadata": {
    "colab": {
     "base_uri": "https://localhost:8080/"
    },
    "id": "c102cff0",
    "outputId": "0e2bb033-6cd0-4337-b573-daaed3bf92d6"
   },
   "outputs": [
    {
     "name": "stdout",
     "output_type": "stream",
     "text": [
      "MSE Train :  0.008463416631863901\n",
      "MSE Test :  0.013942534001477979\n"
     ]
    }
   ],
   "source": [
    "from sklearn.linear_model import LinearRegression,Ridge,ElasticNet\n",
    "from sklearn.metrics import mean_squared_error\n",
    "reg3=ElasticNet(alpha=0.001, l1_ratio=0.32, max_iter=100000).fit(x_train, y_train)\n",
    "y_test_pred_ElasticNet=reg3.predict(x_test)\n",
    "y_train_pred_ElasticNet=reg3.predict(x_train)\n",
    "mse_train_ElasticNet=mean_squared_error(y_train, y_train_pred_ElasticNet)\n",
    "mse_test_ElasticNet=mean_squared_error(y_test, y_test_pred_ElasticNet)\n",
    "print(\"MSE Train : \",mse_train_ElasticNet)\n",
    "print(\"MSE Test : \",mse_test_ElasticNet)"
   ]
  },
  {
   "cell_type": "code",
   "execution_count": null,
   "id": "9cfff4b0",
   "metadata": {
    "colab": {
     "base_uri": "https://localhost:8080/",
     "height": 295
    },
    "id": "9cfff4b0",
    "outputId": "a8f46f50-56a9-4e19-ed93-872675deb6d5"
   },
   "outputs": [
    {
     "data": {
      "image/png": "[encoded data removed]",
      "text/plain": [
       "<Figure size 432x288 with 1 Axes>"
      ]
     },
     "metadata": {
      "needs_background": "light"
     },
     "output_type": "display_data"
    }
   ],
   "source": [
    "plt.scatter(y_test,y_test_pred_ElasticNet );\n",
    "plt.title(\"ElasticNet\")\n",
    "plt.ylabel('Predicted')\n",
    "plt.xlabel('True')\n",
    "plt.show();"
   ]
  },
  {
   "cell_type": "code",
   "execution_count": null,
   "id": "6d6933b2",
   "metadata": {
    "colab": {
     "base_uri": "https://localhost:8080/",
     "height": 70
    },
    "id": "6d6933b2",
    "outputId": "9fb2b1de-0d5b-4cf6-d250-db2b0a7f872b"
   },
   "outputs": [
    {
     "data": {
      "application/vnd.google.colaboratory.intrinsic+json": {
       "type": "string"
      },
      "text/plain": [
       "'\\nclf = ElasticNet(max_iter=100000)\\nfrom sklearn.model_selection import GridSearchCV\\ngrid=GridSearchCV(estimator=clf, param_grid = {\"alpha\": np.arange(0.001,1,0.005),\"l1_ratio\":np.arange(0,1,0.01)}, cv = 3, n_jobs=-1,verbose=3)\\ngrid.fit(x_train, y_train)\\nprint(grid.best_estimator_)\\nprint(grid.best_params_)\\nprint(grid.best_score_)\\n'"
      ]
     },
     "execution_count": 9,
     "metadata": {},
     "output_type": "execute_result"
    }
   ],
   "source": [
    "\"\"\"\n",
    "clf = ElasticNet(max_iter=100000)\n",
    "from sklearn.model_selection import GridSearchCV\n",
    "grid=GridSearchCV(estimator=clf, param_grid = {\"alpha\": np.arange(0.001,1,0.005),\"l1_ratio\":np.arange(0,1,0.01)}, cv = 3, n_jobs=-1,verbose=3)\n",
    "grid.fit(x_train, y_train)\n",
    "print(grid.best_estimator_)\n",
    "print(grid.best_params_)\n",
    "print(grid.best_score_)\n",
    "\"\"\""
   ]
  },
  {
   "cell_type": "markdown",
   "id": "c45d80be",
   "metadata": {
    "id": "c45d80be"
   },
   "source": [
    "# RandomForestRegressor"
   ]
  },
  {
   "cell_type": "code",
   "execution_count": null,
   "id": "ce1fdb36",
   "metadata": {
    "colab": {
     "base_uri": "https://localhost:8080/",
     "height": 329
    },
    "id": "ce1fdb36",
    "outputId": "7fcf8a03-1cb8-4d8e-90f7-666ea1c06167"
   },
   "outputs": [
    {
     "name": "stdout",
     "output_type": "stream",
     "text": [
      "MSE Train :  0.002310425857225929\n",
      "MSE Test :  0.02093322831825733\n"
     ]
    },
    {
     "data": {
      "image/png": "[encoded data removed]",
      "text/plain": [
       "<Figure size 432x288 with 1 Axes>"
      ]
     },
     "metadata": {
      "needs_background": "light"
     },
     "output_type": "display_data"
    }
   ],
   "source": [
    "from sklearn.ensemble import RandomForestRegressor\n",
    "rf=RandomForestRegressor(max_features='auto', n_estimators=200, n_jobs=-1)\n",
    "rf.fit(x_train, y_train)\n",
    "y_test_pred_rf=rf.predict(x_test)\n",
    "y_train_pred_rf=rf.predict(x_train)\n",
    "mse_train_rf=mean_squared_error(y_train, y_train_pred_rf)\n",
    "mse_test_rf=mean_squared_error(y_test, y_test_pred_rf)\n",
    "print(\"MSE Train : \",mse_train_rf)\n",
    "print(\"MSE Test : \",mse_test_rf)\n",
    "plt.scatter(y_test,y_test_pred_rf );\n",
    "plt.title(\"RandomForestRegressor\")\n",
    "plt.ylabel('Predicted')\n",
    "plt.xlabel('True')\n",
    "plt.show();\n"
   ]
  },
  {
   "cell_type": "markdown",
   "id": "7d1f31d7",
   "metadata": {
    "id": "7d1f31d7"
   },
   "source": [
    "# SGDRegressor"
   ]
  },
  {
   "cell_type": "code",
   "execution_count": null,
   "id": "d9c7acae",
   "metadata": {
    "colab": {
     "base_uri": "https://localhost:8080/",
     "height": 329
    },
    "id": "d9c7acae",
    "outputId": "e17cc8b7-1e9e-46ea-8580-ef8099113852"
   },
   "outputs": [
    {
     "name": "stdout",
     "output_type": "stream",
     "text": [
      "MSE Train :  0.008465766774607393\n",
      "MSE Test :  0.014671177859411402\n"
     ]
    },
    {
     "data": {
      "image/png": "[encoded data removed]",
      "text/plain": [
       "<Figure size 432x288 with 1 Axes>"
      ]
     },
     "metadata": {
      "needs_background": "light"
     },
     "output_type": "display_data"
    }
   ],
   "source": [
    "from sklearn.linear_model import SGDRegressor\n",
    "from sklearn.pipeline import make_pipeline\n",
    "from sklearn.preprocessing import StandardScaler\n",
    "reg = make_pipeline(StandardScaler(),SGDRegressor(max_iter=10000, tol=1e-20,n_iter_no_change=200))\n",
    "reg.fit(x_train, y_train)\n",
    "y_test_pred_SGDRegressor=reg.predict(x_test)\n",
    "y_train_pred_SGDRegressor=reg.predict(x_train)\n",
    "mse_train_SGDRegressor=mean_squared_error(y_train, y_train_pred_SGDRegressor)\n",
    "mse_test_SGDRegressor=mean_squared_error(y_test, y_test_pred_SGDRegressor)\n",
    "print(\"MSE Train : \",mse_train_SGDRegressor)\n",
    "print(\"MSE Test : \",mse_test_SGDRegressor)\n",
    "plt.scatter(y_test,y_test_pred_SGDRegressor );\n",
    "plt.title(\"SGDRegressor\")\n",
    "plt.ylabel('Predicted')\n",
    "plt.xlabel('True')\n",
    "plt.show();"
   ]
  },
  {
   "cell_type": "markdown",
   "id": "67d2efe2",
   "metadata": {
    "id": "67d2efe2"
   },
   "source": [
    "# KNeighborsRegressor"
   ]
  },
  {
   "cell_type": "code",
   "execution_count": null,
   "id": "e7d1af91",
   "metadata": {
    "colab": {
     "base_uri": "https://localhost:8080/",
     "height": 329
    },
    "id": "e7d1af91",
    "outputId": "61d4bece-470c-4c5d-cf05-6b614da24753"
   },
   "outputs": [
    {
     "name": "stdout",
     "output_type": "stream",
     "text": [
      "MSE Train :  0.030014639815308348\n",
      "MSE Test :  0.034118754087964026\n"
     ]
    },
    {
     "data": {
      "image/png": "[encoded data removed]",
      "text/plain": [
       "<Figure size 432x288 with 1 Axes>"
      ]
     },
     "metadata": {
      "needs_background": "light"
     },
     "output_type": "display_data"
    }
   ],
   "source": [
    "from sklearn.neighbors import KNeighborsRegressor\n",
    "\"\"\"\n",
    "neigh = KNeighborsRegressor()\n",
    "gridneigh=GridSearchCV(estimator=neigh, param_grid = {\"n_neighbors\": np.arange(1,800,2)}, cv = 3, n_jobs=-1,verbose=3)\n",
    "gridneigh.fit(x_train, y_train)\n",
    "print(gridneigh.best_estimator_)\n",
    "print(gridneigh.best_params_)\n",
    "print(gridneigh.best_score_)\n",
    "\"\"\"\n",
    "neigh = KNeighborsRegressor(n_neighbors=7)\n",
    "neigh.fit(x_train, y_train)\n",
    "y_test_pred_neigh=neigh.predict(x_test)\n",
    "y_train_pred_neigh=neigh.predict(x_train)\n",
    "mse_train_neigh=mean_squared_error(y_train, y_train_pred_neigh)\n",
    "mse_test_neigh=mean_squared_error(y_test, y_test_pred_neigh)\n",
    "print(\"MSE Train : \",mse_train_neigh)\n",
    "print(\"MSE Test : \",mse_test_neigh)\n",
    "plt.scatter(y_test,y_test_pred_neigh );\n",
    "plt.title(\"KNeighborsRegressor\")\n",
    "plt.ylabel('Predicted')\n",
    "plt.xlabel('True')\n",
    "plt.show();\n"
   ]
  },
  {
   "cell_type": "markdown",
   "id": "88fe5715",
   "metadata": {
    "id": "88fe5715"
   },
   "source": [
    "# MLPRegressor (NN)"
   ]
  },
  {
   "cell_type": "code",
   "execution_count": null,
   "id": "0783eef9",
   "metadata": {
    "colab": {
     "base_uri": "https://localhost:8080/",
     "height": 556
    },
    "id": "0783eef9",
    "outputId": "1acf9c41-626b-4c92-db97-6e6f841aed53"
   },
   "outputs": [
    {
     "name": "stdout",
     "output_type": "stream",
     "text": [
      "Iteration 1, loss = 47.25827169\n",
      "Iteration 2, loss = 19.28408071\n",
      "Iteration 3, loss = 16.10724497\n",
      "Iteration 4, loss = 14.13143327\n",
      "Iteration 5, loss = 12.48743406\n",
      "Iteration 6, loss = 11.01594158\n",
      "Iteration 7, loss = 9.69764927\n",
      "Iteration 8, loss = 8.52907685\n",
      "Iteration 9, loss = 7.53435965\n",
      "Iteration 10, loss = 6.61813761\n",
      "Iteration 11, loss = 5.78995292\n"
     ]
    },
    {
     "name": "stderr",
     "output_type": "stream",
     "text": [
      "/usr/local/lib/python3.7/dist-packages/sklearn/neural_network/_multilayer_perceptron.py:699: UserWarning: Training interrupted by user.\n",
      "  warnings.warn(\"Training interrupted by user.\")\n"
     ]
    },
    {
     "name": "stdout",
     "output_type": "stream",
     "text": [
      "0.07262662370516942\n",
      "0.21789753222971708\n"
     ]
    },
    {
     "data": {
      "image/png": "[encoded data removed]",
      "text/plain": [
       "<Figure size 432x288 with 1 Axes>"
      ]
     },
     "metadata": {
      "needs_background": "light"
     },
     "output_type": "display_data"
    }
   ],
   "source": [
    "from sklearn.neural_network import MLPRegressor\n",
    "from sklearn.model_selection import GridSearchCV\n",
    "\"\"\"\n",
    "#param_grid = {'hidden_layer_sizes':[(300,300),(300,300,300),(1000,1000),(1000),(2000,2000,2000)],'alpha': np.logspace(-3,1,4),'activation':('tanh')}\n",
    "param_grid = {'hidden_layer_sizes':[(256,256,256)],'alpha': np.linspace(0.0,50,40),'batch_size':[20]}\n",
    "\n",
    "MLPR_grid = GridSearchCV(MLPRegressor(verbose=10,tol=1e-8, max_iter=10000,activation='tanh',batch_size=20), param_grid, cv=3,verbose=10,n_jobs=-3)\n",
    "MLPR_grid.fit(x_train, y_train)\n",
    "print(MLPR_grid.best_estimator_)\n",
    "print(MLPR_grid.best_params_)\n",
    "MLPR_score = MLPR_grid.best_score_\n",
    "print(MLPR_score) \n",
    "y_test_pred_regr=MLPR_grid.predict(x_test)\n",
    "mse_test_regr=mean_squared_error(y_test, y_test_pred_regr)\n",
    "print(mse_test_regr)\n",
    "\"\"\"\n",
    "regr = MLPRegressor(random_state=1, max_iter=10000,hidden_layer_sizes=[256,256,256],activation='tanh',tol=1e-8,n_iter_no_change=10,verbose=1,alpha=1,batch_size=20).fit(x_train, y_train)\n",
    "y_test_pred_regr=regr.predict(x_test)\n",
    "y_train_pred_regr=regr.predict(x_train)\n",
    "mse_train_regr=mean_squared_error(y_train, y_train_pred_regr)\n",
    "mse_test_regr=mean_squared_error(y_test, y_test_pred_regr)\n",
    "print(mse_train_regr)\n",
    "print(mse_test_regr)\n",
    "plt.scatter(y_test,y_test_pred_regr );\n",
    "plt.title(\"MLPRegressor\")\n",
    "plt.ylabel('Predicted')\n",
    "plt.xlabel('True')\n",
    "plt.show();\n"
   ]
  },
  {
   "cell_type": "markdown",
   "id": "0b9cc902",
   "metadata": {
    "id": "0b9cc902"
   },
   "source": [
    "# create Ensemble"
   ]
  },
  {
   "cell_type": "code",
   "execution_count": null,
   "id": "04d7f522",
   "metadata": {
    "colab": {
     "base_uri": "https://localhost:8080/"
    },
    "id": "04d7f522",
    "outputId": "4a6870e6-c55a-40fa-ebdf-19587582f147"
   },
   "outputs": [
    {
     "name": "stdout",
     "output_type": "stream",
     "text": [
      "MSE of all Regressors together :  0.027701720949942128\n",
      "ME: 30546.523045396498\n"
     ]
    }
   ],
   "source": [
    "HouseIds=x_test.index\n",
    "y_pred_rf=rf.predict(x_test)\n",
    "y_pred_en=reg3.predict(x_test)\n",
    "y_test_pred_SGDRegressor=reg.predict(x_test)\n",
    "y_test_pred_neigh=neigh.predict(x_test)\n",
    "y_test_pred_NN=regr.predict(x_test)\n",
    "All = pd.DataFrame({\"Id\": HouseIds, \"y\": y_test,\"RF\": y_pred_rf, 'ElasticNet': y_pred_en,'SGDRegressor':y_test_pred_SGDRegressor,'KNeighborsRegressor':y_test_pred_neigh,'MLP':y_test_pred_NN})\n",
    "All['Mean']=All[[\"RF\",'ElasticNet','SGDRegressor','MLP']].mean(axis=1)\n",
    "np.exp(All)\n",
    "RSME_all=mean_squared_error(y_test,All['Mean'])\n",
    "\n",
    "print(\"MSE of all Regressors together : \",RSME_all)\n",
    "expAll=np.exp(All)\n",
    "print(\"ME:\",mean_squared_error(expAll['y'], expAll['Mean'])**(1/2))\n"
   ]
  },
  {
   "cell_type": "code",
   "execution_count": null,
   "id": "85736602",
   "metadata": {
    "colab": {
     "base_uri": "https://localhost:8080/",
     "height": 295
    },
    "id": "85736602",
    "outputId": "756a63d1-60ad-4d8e-9e86-a303875bef65"
   },
   "outputs": [
    {
     "data": {
      "image/png": "[encoded data removed]",
      "text/plain": [
       "<Figure size 432x288 with 1 Axes>"
      ]
     },
     "metadata": {
      "needs_background": "light"
     },
     "output_type": "display_data"
    }
   ],
   "source": [
    "plt.scatter(y_test, All['Mean']);\n",
    "plt.title(\"Mean\")\n",
    "plt.ylabel('Predicted')\n",
    "plt.xlabel('True')\n",
    "plt.show();"
   ]
  },
  {
   "cell_type": "code",
   "execution_count": null,
   "id": "234731ea",
   "metadata": {
    "colab": {
     "base_uri": "https://localhost:8080/",
     "height": 333
    },
    "id": "234731ea",
    "outputId": "53c9aad4-5e75-47f3-e25f-4db8e81c92d1"
   },
   "outputs": [
    {
     "data": {
      "image/png": "[encoded data removed]",
      "text/plain": [
       "<Figure size 432x288 with 1 Axes>"
      ]
     },
     "metadata": {
      "needs_background": "light"
     },
     "output_type": "display_data"
    }
   ],
   "source": [
    "features = {}\n",
    "for feature, importance in zip(x_train.columns, rf.feature_importances_):\n",
    "    features[feature] = importance\n",
    "\n",
    "importances = pd.DataFrame({\"RF\":features})\n",
    "importances.sort_values(\"RF\", ascending = False, inplace=True)\n",
    "importances[:15].plot.bar();"
   ]
  },
  {
   "cell_type": "code",
   "execution_count": null,
   "id": "bc914d1b",
   "metadata": {
    "colab": {
     "base_uri": "https://localhost:8080/",
     "height": 70
    },
    "id": "bc914d1b",
    "outputId": "cbf4f26d-7ea9-4b3a-c9cb-1ea06e5ac47f"
   },
   "outputs": [
    {
     "data": {
      "application/vnd.google.colaboratory.intrinsic+json": {
       "type": "string"
      },
      "text/plain": [
       "\"\\nparam_grid = {'n_estimators': np.arange(100,2000,100),'max_depth': [None], 'max_features':['auto','log2','sqrt']}\\nrf_grid = GridSearchCV(RandomForestRegressor(n_jobs=-1), param_grid, cv=4,verbose=10)\\nrf_grid.fit(x_train, y_train)\\nprint(rf_grid.best_estimator_)\\nprint(rf_grid.best_params_)\\nrf_score = rf_grid.best_score_\\nprint(rf_score) \\n\""
      ]
     },
     "execution_count": 17,
     "metadata": {},
     "output_type": "execute_result"
    }
   ],
   "source": [
    "\"\"\"\n",
    "param_grid = {'n_estimators': np.arange(100,2000,100),'max_depth': [None], 'max_features':['auto','log2','sqrt']}\n",
    "rf_grid = GridSearchCV(RandomForestRegressor(n_jobs=-1), param_grid, cv=4,verbose=10)\n",
    "rf_grid.fit(x_train, y_train)\n",
    "print(rf_grid.best_estimator_)\n",
    "print(rf_grid.best_params_)\n",
    "rf_score = rf_grid.best_score_\n",
    "print(rf_score) \n",
    "\"\"\""
   ]
  },
  {
   "cell_type": "code",
   "execution_count": null,
   "id": "e1cf7441",
   "metadata": {
    "id": "e1cf7441"
   },
   "outputs": [],
   "source": []
  },
  {
   "cell_type": "markdown",
   "id": "LtGguOt54CVY",
   "metadata": {
    "id": "LtGguOt54CVY"
   },
   "source": [
    "# Clustering"
   ]
  },
  {
   "cell_type": "code",
   "execution_count": null,
   "id": "dDNFN3VZNDjJ",
   "metadata": {
    "colab": {
     "base_uri": "https://localhost:8080/",
     "height": 299
    },
    "id": "dDNFN3VZNDjJ",
    "outputId": "5e8c47c4-3c5e-4ef1-cc9c-138fb0afbd79"
   },
   "outputs": [
    {
     "data": {
      "text/html": [
       "\n",
       "  <div id=\"df-ea776194-3f74-413a-927d-80c2805f73d4\">\n",
       "    <div class=\"colab-df-container\">\n",
       "      <div>\n",
       "<style scoped>\n",
       "    .dataframe tbody tr th:only-of-type {\n",
       "        vertical-align: middle;\n",
       "    }\n",
       "\n",
       "    .dataframe tbody tr th {\n",
       "        vertical-align: top;\n",
       "    }\n",
       "\n",
       "    .dataframe thead th {\n",
       "        text-align: right;\n",
       "    }\n",
       "</style>\n",
       "<table border=\"1\" class=\"dataframe\">\n",
       "  <thead>\n",
       "    <tr style=\"text-align: right;\">\n",
       "      <th></th>\n",
       "      <th>MSSubClass</th>\n",
       "      <th>LotArea</th>\n",
       "      <th>OverallQual</th>\n",
       "      <th>OverallCond</th>\n",
       "      <th>YearBuilt</th>\n",
       "      <th>YearRemodAdd</th>\n",
       "      <th>MasVnrArea</th>\n",
       "      <th>BsmtFinSF1</th>\n",
       "      <th>BsmtUnfSF</th>\n",
       "      <th>TotalBsmtSF</th>\n",
       "      <th>2ndFlrSF</th>\n",
       "      <th>GrLivArea</th>\n",
       "      <th>BsmtFullBath</th>\n",
       "      <th>FullBath</th>\n",
       "      <th>HalfBath</th>\n",
       "      <th>BedroomAbvGr</th>\n",
       "      <th>Fireplaces</th>\n",
       "      <th>GarageCars</th>\n",
       "      <th>WoodDeckSF</th>\n",
       "      <th>OpenPorchSF</th>\n",
       "      <th>MoSold</th>\n",
       "      <th>YrSold</th>\n",
       "      <th>allsqft</th>\n",
       "      <th>Q_times_allsqft</th>\n",
       "      <th>BsmtExposure_Av</th>\n",
       "      <th>BsmtExposure_Gd</th>\n",
       "      <th>BsmtExposure_Mn</th>\n",
       "      <th>BsmtExposure_No</th>\n",
       "      <th>BsmtExposure_None</th>\n",
       "      <th>BsmtFinType1_ALQ</th>\n",
       "      <th>BsmtFinType1_BLQ</th>\n",
       "      <th>BsmtFinType1_GLQ</th>\n",
       "      <th>BsmtFinType1_LwQ</th>\n",
       "      <th>BsmtFinType1_None</th>\n",
       "      <th>BsmtFinType1_Rec</th>\n",
       "      <th>BsmtFinType1_Unf</th>\n",
       "      <th>BsmtQual_Ex</th>\n",
       "      <th>BsmtQual_Fa</th>\n",
       "      <th>BsmtQual_Gd</th>\n",
       "      <th>BsmtQual_None</th>\n",
       "      <th>...</th>\n",
       "      <th>LotFrontage_99.0</th>\n",
       "      <th>LotFrontage_None</th>\n",
       "      <th>LotShape_IR1</th>\n",
       "      <th>LotShape_IR2</th>\n",
       "      <th>LotShape_Reg</th>\n",
       "      <th>MSZoning_FV</th>\n",
       "      <th>MSZoning_RH</th>\n",
       "      <th>MSZoning_RL</th>\n",
       "      <th>MSZoning_RM</th>\n",
       "      <th>MasVnrType_BrkCmn</th>\n",
       "      <th>MasVnrType_BrkFace</th>\n",
       "      <th>MasVnrType_None</th>\n",
       "      <th>MasVnrType_Stone</th>\n",
       "      <th>Neighborhood_Blmngtn</th>\n",
       "      <th>Neighborhood_BrDale</th>\n",
       "      <th>Neighborhood_BrkSide</th>\n",
       "      <th>Neighborhood_ClearCr</th>\n",
       "      <th>Neighborhood_CollgCr</th>\n",
       "      <th>Neighborhood_Crawfor</th>\n",
       "      <th>Neighborhood_Edwards</th>\n",
       "      <th>Neighborhood_Gilbert</th>\n",
       "      <th>Neighborhood_IDOTRR</th>\n",
       "      <th>Neighborhood_MeadowV</th>\n",
       "      <th>Neighborhood_Mitchel</th>\n",
       "      <th>Neighborhood_NAmes</th>\n",
       "      <th>Neighborhood_NWAmes</th>\n",
       "      <th>Neighborhood_NoRidge</th>\n",
       "      <th>Neighborhood_NridgHt</th>\n",
       "      <th>Neighborhood_OldTown</th>\n",
       "      <th>Neighborhood_SWISU</th>\n",
       "      <th>Neighborhood_Sawyer</th>\n",
       "      <th>Neighborhood_SawyerW</th>\n",
       "      <th>Neighborhood_Somerst</th>\n",
       "      <th>Neighborhood_StoneBr</th>\n",
       "      <th>Neighborhood_Timber</th>\n",
       "      <th>Neighborhood_Veenker</th>\n",
       "      <th>RoofStyle_Flat</th>\n",
       "      <th>RoofStyle_Gable</th>\n",
       "      <th>RoofStyle_Gambrel</th>\n",
       "      <th>RoofStyle_Hip</th>\n",
       "    </tr>\n",
       "  </thead>\n",
       "  <tbody>\n",
       "    <tr>\n",
       "      <th>0</th>\n",
       "      <td>0.107716</td>\n",
       "      <td>-0.223600</td>\n",
       "      <td>0.650128</td>\n",
       "      <td>-0.540254</td>\n",
       "      <td>1.034655</td>\n",
       "      <td>0.850720</td>\n",
       "      <td>0.498145</td>\n",
       "      <td>0.607108</td>\n",
       "      <td>-0.945544</td>\n",
       "      <td>-0.495865</td>\n",
       "      <td>1.239194</td>\n",
       "      <td>0.476577</td>\n",
       "      <td>1.104096</td>\n",
       "      <td>0.833411</td>\n",
       "      <td>1.246465</td>\n",
       "      <td>0.191578</td>\n",
       "      <td>-0.958432</td>\n",
       "      <td>0.334099</td>\n",
       "      <td>-0.785217</td>\n",
       "      <td>0.261059</td>\n",
       "      <td>-1.607351</td>\n",
       "      <td>0.134794</td>\n",
       "      <td>-0.131138</td>\n",
       "      <td>0.039532</td>\n",
       "      <td>-0.418854</td>\n",
       "      <td>-0.313625</td>\n",
       "      <td>-0.299050</td>\n",
       "      <td>0.725993</td>\n",
       "      <td>-0.15766</td>\n",
       "      <td>-0.421927</td>\n",
       "      <td>-0.343265</td>\n",
       "      <td>1.516068</td>\n",
       "      <td>-0.230315</td>\n",
       "      <td>-0.154524</td>\n",
       "      <td>-0.308212</td>\n",
       "      <td>-0.623379</td>\n",
       "      <td>-0.308212</td>\n",
       "      <td>-0.144749</td>\n",
       "      <td>1.133893</td>\n",
       "      <td>-0.154524</td>\n",
       "      <td>...</td>\n",
       "      <td>-0.043234</td>\n",
       "      <td>-0.471539</td>\n",
       "      <td>-0.718516</td>\n",
       "      <td>-0.178217</td>\n",
       "      <td>0.768443</td>\n",
       "      <td>-0.228061</td>\n",
       "      <td>-0.092014</td>\n",
       "      <td>0.496499</td>\n",
       "      <td>-0.403348</td>\n",
       "      <td>-0.106399</td>\n",
       "      <td>1.445454</td>\n",
       "      <td>-1.177934</td>\n",
       "      <td>-0.302737</td>\n",
       "      <td>-0.119126</td>\n",
       "      <td>-0.101821</td>\n",
       "      <td>-0.199417</td>\n",
       "      <td>-0.148073</td>\n",
       "      <td>2.870780</td>\n",
       "      <td>-0.175412</td>\n",
       "      <td>-0.27032</td>\n",
       "      <td>-0.245634</td>\n",
       "      <td>-0.141354</td>\n",
       "      <td>-0.119126</td>\n",
       "      <td>-0.175412</td>\n",
       "      <td>-0.434131</td>\n",
       "      <td>-0.223497</td>\n",
       "      <td>-0.157660</td>\n",
       "      <td>-0.254063</td>\n",
       "      <td>-0.276234</td>\n",
       "      <td>-0.123091</td>\n",
       "      <td>-0.245634</td>\n",
       "      <td>-0.218857</td>\n",
       "      <td>-0.251976</td>\n",
       "      <td>-0.141354</td>\n",
       "      <td>-0.154524</td>\n",
       "      <td>-0.086711</td>\n",
       "      <td>-0.097037</td>\n",
       "      <td>0.502331</td>\n",
       "      <td>-0.075023</td>\n",
       "      <td>-0.478913</td>\n",
       "    </tr>\n",
       "    <tr>\n",
       "      <th>1</th>\n",
       "      <td>-0.853544</td>\n",
       "      <td>-0.070583</td>\n",
       "      <td>-0.100882</td>\n",
       "      <td>2.235235</td>\n",
       "      <td>0.108219</td>\n",
       "      <td>-0.470198</td>\n",
       "      <td>-0.589048</td>\n",
       "      <td>1.240794</td>\n",
       "      <td>-0.641998</td>\n",
       "      <td>0.502638</td>\n",
       "      <td>-0.780326</td>\n",
       "      <td>-0.476680</td>\n",
       "      <td>-0.829876</td>\n",
       "      <td>0.833411</td>\n",
       "      <td>-0.765900</td>\n",
       "      <td>0.191578</td>\n",
       "      <td>0.605402</td>\n",
       "      <td>0.334099</td>\n",
       "      <td>1.671637</td>\n",
       "      <td>-0.744665</td>\n",
       "      <td>-0.481155</td>\n",
       "      <td>-0.621746</td>\n",
       "      <td>-0.131520</td>\n",
       "      <td>-0.177393</td>\n",
       "      <td>-0.418854</td>\n",
       "      <td>3.188521</td>\n",
       "      <td>-0.299050</td>\n",
       "      <td>-1.377424</td>\n",
       "      <td>-0.15766</td>\n",
       "      <td>2.370081</td>\n",
       "      <td>-0.343265</td>\n",
       "      <td>-0.659601</td>\n",
       "      <td>-0.230315</td>\n",
       "      <td>-0.154524</td>\n",
       "      <td>-0.308212</td>\n",
       "      <td>-0.623379</td>\n",
       "      <td>-0.308212</td>\n",
       "      <td>-0.144749</td>\n",
       "      <td>1.133893</td>\n",
       "      <td>-0.154524</td>\n",
       "      <td>...</td>\n",
       "      <td>-0.043234</td>\n",
       "      <td>-0.471539</td>\n",
       "      <td>-0.718516</td>\n",
       "      <td>-0.178217</td>\n",
       "      <td>0.768443</td>\n",
       "      <td>-0.228061</td>\n",
       "      <td>-0.092014</td>\n",
       "      <td>0.496499</td>\n",
       "      <td>-0.403348</td>\n",
       "      <td>-0.106399</td>\n",
       "      <td>-0.691824</td>\n",
       "      <td>0.848944</td>\n",
       "      <td>-0.302737</td>\n",
       "      <td>-0.119126</td>\n",
       "      <td>-0.101821</td>\n",
       "      <td>-0.199417</td>\n",
       "      <td>-0.148073</td>\n",
       "      <td>-0.348337</td>\n",
       "      <td>-0.175412</td>\n",
       "      <td>-0.27032</td>\n",
       "      <td>-0.245634</td>\n",
       "      <td>-0.141354</td>\n",
       "      <td>-0.119126</td>\n",
       "      <td>-0.175412</td>\n",
       "      <td>-0.434131</td>\n",
       "      <td>-0.223497</td>\n",
       "      <td>-0.157660</td>\n",
       "      <td>-0.254063</td>\n",
       "      <td>-0.276234</td>\n",
       "      <td>-0.123091</td>\n",
       "      <td>-0.245634</td>\n",
       "      <td>-0.218857</td>\n",
       "      <td>-0.251976</td>\n",
       "      <td>-0.141354</td>\n",
       "      <td>-0.154524</td>\n",
       "      <td>11.532563</td>\n",
       "      <td>-0.097037</td>\n",
       "      <td>0.502331</td>\n",
       "      <td>-0.075023</td>\n",
       "      <td>-0.478913</td>\n",
       "    </tr>\n",
       "    <tr>\n",
       "      <th>2</th>\n",
       "      <td>0.107716</td>\n",
       "      <td>0.148962</td>\n",
       "      <td>0.650128</td>\n",
       "      <td>-0.540254</td>\n",
       "      <td>0.966030</td>\n",
       "      <td>0.801797</td>\n",
       "      <td>0.309550</td>\n",
       "      <td>0.094567</td>\n",
       "      <td>-0.302207</td>\n",
       "      <td>-0.338466</td>\n",
       "      <td>1.267572</td>\n",
       "      <td>0.638290</td>\n",
       "      <td>1.104096</td>\n",
       "      <td>0.833411</td>\n",
       "      <td>1.246465</td>\n",
       "      <td>0.191578</td>\n",
       "      <td>0.605402</td>\n",
       "      <td>0.334099</td>\n",
       "      <td>-0.785217</td>\n",
       "      <td>-0.052199</td>\n",
       "      <td>1.020440</td>\n",
       "      <td>0.134794</td>\n",
       "      <td>0.238512</td>\n",
       "      <td>0.401989</td>\n",
       "      <td>-0.418854</td>\n",
       "      <td>-0.313625</td>\n",
       "      <td>3.343923</td>\n",
       "      <td>-1.377424</td>\n",
       "      <td>-0.15766</td>\n",
       "      <td>-0.421927</td>\n",
       "      <td>-0.343265</td>\n",
       "      <td>1.516068</td>\n",
       "      <td>-0.230315</td>\n",
       "      <td>-0.154524</td>\n",
       "      <td>-0.308212</td>\n",
       "      <td>-0.623379</td>\n",
       "      <td>-0.308212</td>\n",
       "      <td>-0.144749</td>\n",
       "      <td>1.133893</td>\n",
       "      <td>-0.154524</td>\n",
       "      <td>...</td>\n",
       "      <td>-0.043234</td>\n",
       "      <td>-0.471539</td>\n",
       "      <td>1.391757</td>\n",
       "      <td>-0.178217</td>\n",
       "      <td>-1.301333</td>\n",
       "      <td>-0.228061</td>\n",
       "      <td>-0.092014</td>\n",
       "      <td>0.496499</td>\n",
       "      <td>-0.403348</td>\n",
       "      <td>-0.106399</td>\n",
       "      <td>1.445454</td>\n",
       "      <td>-1.177934</td>\n",
       "      <td>-0.302737</td>\n",
       "      <td>-0.119126</td>\n",
       "      <td>-0.101821</td>\n",
       "      <td>-0.199417</td>\n",
       "      <td>-0.148073</td>\n",
       "      <td>2.870780</td>\n",
       "      <td>-0.175412</td>\n",
       "      <td>-0.27032</td>\n",
       "      <td>-0.245634</td>\n",
       "      <td>-0.141354</td>\n",
       "      <td>-0.119126</td>\n",
       "      <td>-0.175412</td>\n",
       "      <td>-0.434131</td>\n",
       "      <td>-0.223497</td>\n",
       "      <td>-0.157660</td>\n",
       "      <td>-0.254063</td>\n",
       "      <td>-0.276234</td>\n",
       "      <td>-0.123091</td>\n",
       "      <td>-0.245634</td>\n",
       "      <td>-0.218857</td>\n",
       "      <td>-0.251976</td>\n",
       "      <td>-0.141354</td>\n",
       "      <td>-0.154524</td>\n",
       "      <td>-0.086711</td>\n",
       "      <td>-0.097037</td>\n",
       "      <td>0.502331</td>\n",
       "      <td>-0.075023</td>\n",
       "      <td>-0.478913</td>\n",
       "    </tr>\n",
       "    <tr>\n",
       "      <th>3</th>\n",
       "      <td>0.348031</td>\n",
       "      <td>-0.077236</td>\n",
       "      <td>0.650128</td>\n",
       "      <td>-0.540254</td>\n",
       "      <td>-1.984841</td>\n",
       "      <td>-0.763736</td>\n",
       "      <td>-0.589048</td>\n",
       "      <td>-0.534460</td>\n",
       "      <td>-0.062088</td>\n",
       "      <td>-0.741802</td>\n",
       "      <td>1.007446</td>\n",
       "      <td>0.491471</td>\n",
       "      <td>1.104096</td>\n",
       "      <td>-1.035661</td>\n",
       "      <td>-0.765900</td>\n",
       "      <td>0.191578</td>\n",
       "      <td>0.605402</td>\n",
       "      <td>1.711613</td>\n",
       "      <td>-0.785217</td>\n",
       "      <td>-0.167610</td>\n",
       "      <td>-1.607351</td>\n",
       "      <td>-1.378287</td>\n",
       "      <td>-0.043539</td>\n",
       "      <td>0.125426</td>\n",
       "      <td>-0.418854</td>\n",
       "      <td>-0.313625</td>\n",
       "      <td>-0.299050</td>\n",
       "      <td>0.725993</td>\n",
       "      <td>-0.15766</td>\n",
       "      <td>2.370081</td>\n",
       "      <td>-0.343265</td>\n",
       "      <td>-0.659601</td>\n",
       "      <td>-0.230315</td>\n",
       "      <td>-0.154524</td>\n",
       "      <td>-0.308212</td>\n",
       "      <td>-0.623379</td>\n",
       "      <td>-0.308212</td>\n",
       "      <td>-0.144749</td>\n",
       "      <td>-0.881917</td>\n",
       "      <td>-0.154524</td>\n",
       "      <td>...</td>\n",
       "      <td>-0.043234</td>\n",
       "      <td>-0.471539</td>\n",
       "      <td>1.391757</td>\n",
       "      <td>-0.178217</td>\n",
       "      <td>-1.301333</td>\n",
       "      <td>-0.228061</td>\n",
       "      <td>-0.092014</td>\n",
       "      <td>0.496499</td>\n",
       "      <td>-0.403348</td>\n",
       "      <td>-0.106399</td>\n",
       "      <td>-0.691824</td>\n",
       "      <td>0.848944</td>\n",
       "      <td>-0.302737</td>\n",
       "      <td>-0.119126</td>\n",
       "      <td>-0.101821</td>\n",
       "      <td>-0.199417</td>\n",
       "      <td>-0.148073</td>\n",
       "      <td>-0.348337</td>\n",
       "      <td>5.700877</td>\n",
       "      <td>-0.27032</td>\n",
       "      <td>-0.245634</td>\n",
       "      <td>-0.141354</td>\n",
       "      <td>-0.119126</td>\n",
       "      <td>-0.175412</td>\n",
       "      <td>-0.434131</td>\n",
       "      <td>-0.223497</td>\n",
       "      <td>-0.157660</td>\n",
       "      <td>-0.254063</td>\n",
       "      <td>-0.276234</td>\n",
       "      <td>-0.123091</td>\n",
       "      <td>-0.245634</td>\n",
       "      <td>-0.218857</td>\n",
       "      <td>-0.251976</td>\n",
       "      <td>-0.141354</td>\n",
       "      <td>-0.154524</td>\n",
       "      <td>-0.086711</td>\n",
       "      <td>-0.097037</td>\n",
       "      <td>0.502331</td>\n",
       "      <td>-0.075023</td>\n",
       "      <td>-0.478913</td>\n",
       "    </tr>\n",
       "    <tr>\n",
       "      <th>4</th>\n",
       "      <td>0.107716</td>\n",
       "      <td>0.549466</td>\n",
       "      <td>1.401138</td>\n",
       "      <td>-0.540254</td>\n",
       "      <td>0.931718</td>\n",
       "      <td>0.703951</td>\n",
       "      <td>1.352369</td>\n",
       "      <td>0.488291</td>\n",
       "      <td>-0.175352</td>\n",
       "      <td>0.214892</td>\n",
       "      <td>1.709785</td>\n",
       "      <td>1.514946</td>\n",
       "      <td>1.104096</td>\n",
       "      <td>0.833411</td>\n",
       "      <td>1.246465</td>\n",
       "      <td>1.467176</td>\n",
       "      <td>0.605402</td>\n",
       "      <td>1.711613</td>\n",
       "      <td>0.797722</td>\n",
       "      <td>0.640266</td>\n",
       "      <td>2.146637</td>\n",
       "      <td>0.134794</td>\n",
       "      <td>0.756710</td>\n",
       "      <td>1.251076</td>\n",
       "      <td>2.387467</td>\n",
       "      <td>-0.313625</td>\n",
       "      <td>-0.299050</td>\n",
       "      <td>-1.377424</td>\n",
       "      <td>-0.15766</td>\n",
       "      <td>-0.421927</td>\n",
       "      <td>-0.343265</td>\n",
       "      <td>1.516068</td>\n",
       "      <td>-0.230315</td>\n",
       "      <td>-0.154524</td>\n",
       "      <td>-0.308212</td>\n",
       "      <td>-0.623379</td>\n",
       "      <td>-0.308212</td>\n",
       "      <td>-0.144749</td>\n",
       "      <td>1.133893</td>\n",
       "      <td>-0.154524</td>\n",
       "      <td>...</td>\n",
       "      <td>-0.043234</td>\n",
       "      <td>-0.471539</td>\n",
       "      <td>1.391757</td>\n",
       "      <td>-0.178217</td>\n",
       "      <td>-1.301333</td>\n",
       "      <td>-0.228061</td>\n",
       "      <td>-0.092014</td>\n",
       "      <td>0.496499</td>\n",
       "      <td>-0.403348</td>\n",
       "      <td>-0.106399</td>\n",
       "      <td>1.445454</td>\n",
       "      <td>-1.177934</td>\n",
       "      <td>-0.302737</td>\n",
       "      <td>-0.119126</td>\n",
       "      <td>-0.101821</td>\n",
       "      <td>-0.199417</td>\n",
       "      <td>-0.148073</td>\n",
       "      <td>-0.348337</td>\n",
       "      <td>-0.175412</td>\n",
       "      <td>-0.27032</td>\n",
       "      <td>-0.245634</td>\n",
       "      <td>-0.141354</td>\n",
       "      <td>-0.119126</td>\n",
       "      <td>-0.175412</td>\n",
       "      <td>-0.434131</td>\n",
       "      <td>-0.223497</td>\n",
       "      <td>6.342773</td>\n",
       "      <td>-0.254063</td>\n",
       "      <td>-0.276234</td>\n",
       "      <td>-0.123091</td>\n",
       "      <td>-0.245634</td>\n",
       "      <td>-0.218857</td>\n",
       "      <td>-0.251976</td>\n",
       "      <td>-0.141354</td>\n",
       "      <td>-0.154524</td>\n",
       "      <td>-0.086711</td>\n",
       "      <td>-0.097037</td>\n",
       "      <td>0.502331</td>\n",
       "      <td>-0.075023</td>\n",
       "      <td>-0.478913</td>\n",
       "    </tr>\n",
       "  </tbody>\n",
       "</table>\n",
       "<p>5 rows × 245 columns</p>\n",
       "</div>\n",
       "      <button class=\"colab-df-convert\" onclick=\"convertToInteractive('df-ea776194-3f74-413a-927d-80c2805f73d4')\"\n",
       "              title=\"Convert this dataframe to an interactive table.\"\n",
       "              style=\"display:none;\">\n",
       "        \n",
       "  <svg xmlns=\"http://www.w3.org/2000/svg\" height=\"24px\"viewBox=\"0 0 24 24\"\n",
       "       width=\"24px\">\n",
       "    <path d=\"M0 0h24v24H0V0z\" fill=\"none\"/>\n",
       "    <path d=\"M18.56 5.44l.94 2.06.94-2.06 2.06-.94-2.06-.94-.94-2.06-.94 2.06-2.06.94zm-11 1L8.5 8.5l.94-2.06 2.06-.94-2.06-.94L8.5 2.5l-.94 2.06-2.06.94zm10 10l.94 2.06.94-2.06 2.06-.94-2.06-.94-.94-2.06-.94 2.06-2.06.94z\"/><path d=\"M17.41 7.96l-1.37-1.37c-.4-.4-.92-.59-1.43-.59-.52 0-1.04.2-1.43.59L10.3 9.45l-7.72 7.72c-.78.78-.78 2.05 0 2.83L4 21.41c.39.39.9.59 1.41.59.51 0 1.02-.2 1.41-.59l7.78-7.78 2.81-2.81c.8-.78.8-2.07 0-2.86zM5.41 20L4 18.59l7.72-7.72 1.47 1.35L5.41 20z\"/>\n",
       "  </svg>\n",
       "      </button>\n",
       "      \n",
       "  <style>\n",
       "    .colab-df-container {\n",
       "      display:flex;\n",
       "      flex-wrap:wrap;\n",
       "      gap: 12px;\n",
       "    }\n",
       "\n",
       "    .colab-df-convert {\n",
       "      background-color: #E8F0FE;\n",
       "      border: none;\n",
       "      border-radius: 50%;\n",
       "      cursor: pointer;\n",
       "      display: none;\n",
       "      fill: #1967D2;\n",
       "      height: 32px;\n",
       "      padding: 0 0 0 0;\n",
       "      width: 32px;\n",
       "    }\n",
       "\n",
       "    .colab-df-convert:hover {\n",
       "      background-color: #E2EBFA;\n",
       "      box-shadow: 0px 1px 2px rgba(60, 64, 67, 0.3), 0px 1px 3px 1px rgba(60, 64, 67, 0.15);\n",
       "      fill: #174EA6;\n",
       "    }\n",
       "\n",
       "    [theme=dark] .colab-df-convert {\n",
       "      background-color: #3B4455;\n",
       "      fill: #D2E3FC;\n",
       "    }\n",
       "\n",
       "    [theme=dark] .colab-df-convert:hover {\n",
       "      background-color: #434B5C;\n",
       "      box-shadow: 0px 1px 3px 1px rgba(0, 0, 0, 0.15);\n",
       "      filter: drop-shadow(0px 1px 2px rgba(0, 0, 0, 0.3));\n",
       "      fill: #FFFFFF;\n",
       "    }\n",
       "  </style>\n",
       "\n",
       "      <script>\n",
       "        const buttonEl =\n",
       "          document.querySelector('#df-ea776194-3f74-413a-927d-80c2805f73d4 button.colab-df-convert');\n",
       "        buttonEl.style.display =\n",
       "          google.colab.kernel.accessAllowed ? 'block' : 'none';\n",
       "\n",
       "        async function convertToInteractive(key) {\n",
       "          const element = document.querySelector('#df-ea776194-3f74-413a-927d-80c2805f73d4');\n",
       "          const dataTable =\n",
       "            await google.colab.kernel.invokeFunction('convertToInteractive',\n",
       "                                                     [key], {});\n",
       "          if (!dataTable) return;\n",
       "\n",
       "          const docLinkHtml = 'Like what you see? Visit the ' +\n",
       "            '<a target=\"_blank\" href=https://colab.research.google.com/notebooks/data_table.ipynb>data table notebook</a>'\n",
       "            + ' to learn more about interactive tables.';\n",
       "          element.innerHTML = '';\n",
       "          dataTable['output_type'] = 'display_data';\n",
       "          await google.colab.output.renderOutput(dataTable, element);\n",
       "          const docLink = document.createElement('div');\n",
       "          docLink.innerHTML = docLinkHtml;\n",
       "          element.appendChild(docLink);\n",
       "        }\n",
       "      </script>\n",
       "    </div>\n",
       "  </div>\n",
       "  "
      ],
      "text/plain": [
       "   MSSubClass   LotArea  ...  RoofStyle_Gambrel  RoofStyle_Hip\n",
       "0    0.107716 -0.223600  ...          -0.075023      -0.478913\n",
       "1   -0.853544 -0.070583  ...          -0.075023      -0.478913\n",
       "2    0.107716  0.148962  ...          -0.075023      -0.478913\n",
       "3    0.348031 -0.077236  ...          -0.075023      -0.478913\n",
       "4    0.107716  0.549466  ...          -0.075023      -0.478913\n",
       "\n",
       "[5 rows x 245 columns]"
      ]
     },
     "execution_count": 18,
     "metadata": {},
     "output_type": "execute_result"
    }
   ],
   "source": [
    "x_train.head()"
   ]
  },
  {
   "cell_type": "code",
   "execution_count": 76,
   "id": "46c2e222-f87b-4d81-b664-6a7edf42df80",
   "metadata": {},
   "outputs": [
    {
     "data": {
      "text/html": [
       "<div>\n",
       "<style scoped>\n",
       "    .dataframe tbody tr th:only-of-type {\n",
       "        vertical-align: middle;\n",
       "    }\n",
       "\n",
       "    .dataframe tbody tr th {\n",
       "        vertical-align: top;\n",
       "    }\n",
       "\n",
       "    .dataframe thead th {\n",
       "        text-align: right;\n",
       "    }\n",
       "</style>\n",
       "<table border=\"1\" class=\"dataframe\">\n",
       "  <thead>\n",
       "    <tr style=\"text-align: right;\">\n",
       "      <th></th>\n",
       "      <th>GrLivArea</th>\n",
       "      <th>OverallQual</th>\n",
       "    </tr>\n",
       "  </thead>\n",
       "  <tbody>\n",
       "    <tr>\n",
       "      <th>197</th>\n",
       "      <td>1852</td>\n",
       "      <td>7</td>\n",
       "    </tr>\n",
       "    <tr>\n",
       "      <th>585</th>\n",
       "      <td>1411</td>\n",
       "      <td>7</td>\n",
       "    </tr>\n",
       "    <tr>\n",
       "      <th>846</th>\n",
       "      <td>2127</td>\n",
       "      <td>7</td>\n",
       "    </tr>\n",
       "    <tr>\n",
       "      <th>1195</th>\n",
       "      <td>1616</td>\n",
       "      <td>7</td>\n",
       "    </tr>\n",
       "    <tr>\n",
       "      <th>1163</th>\n",
       "      <td>1824</td>\n",
       "      <td>6</td>\n",
       "    </tr>\n",
       "  </tbody>\n",
       "</table>\n",
       "</div>"
      ],
      "text/plain": [
       "      GrLivArea  OverallQual\n",
       "197        1852            7\n",
       "585        1411            7\n",
       "846        2127            7\n",
       "1195       1616            7\n",
       "1163       1824            6"
      ]
     },
     "execution_count": 76,
     "metadata": {},
     "output_type": "execute_result"
    }
   ],
   "source": [
    "clustering_set=train[['GrLivArea','OverallQual']]\n",
    "clustering_set.head()"
   ]
  },
  {
   "cell_type": "code",
   "execution_count": 84,
   "id": "7f70f9e0-bd48-40b1-af1a-42f7a1d5434f",
   "metadata": {},
   "outputs": [],
   "source": [
    "from sklearn.cluster import DBSCAN\n",
    "from sklearn import metrics"
   ]
  },
  {
   "cell_type": "code",
   "execution_count": 116,
   "id": "eqUm7EH_Fcj6",
   "metadata": {
    "colab": {
     "base_uri": "https://localhost:8080/"
    },
    "id": "eqUm7EH_Fcj6",
    "outputId": "f350d773-eb06-4be4-90c6-e71d9948bf45"
   },
   "outputs": [
    {
     "name": "stdout",
     "output_type": "stream",
     "text": [
      "Estimated no. of clusters: 18\n",
      "Estimated no. of noise points: 193\n",
      "Silhouette Coefficient: 0.328\n"
     ]
    }
   ],
   "source": [
    "DB = DBSCAN(eps=9, min_samples=10)\n",
    "DB.fit(clustering_set)\n",
    "clusters = DB.labels_\n",
    "x_train['DBSCAN_labels']=DB.labels_\n",
    "\n",
    "\n",
    "no_clusters = len(np.unique(clusters))\n",
    "no_noise = np.sum(np.array(clusters) == -1, axis=0)\n",
    "\n",
    "print('Estimated no. of clusters: %d' % no_clusters)\n",
    "print('Estimated no. of noise points: %d' % no_noise)\n",
    "print(\"Silhouette Coefficient: %0.3f\" % metrics.silhouette_score(clustering_set, clusters))"
   ]
  },
  {
   "cell_type": "code",
   "execution_count": 79,
   "id": "riS4FP2nUg5L",
   "metadata": {
    "id": "riS4FP2nUg5L"
   },
   "outputs": [],
   "source": [
    "from sklearn.neighbors import NearestNeighbors\n",
    "neigh = NearestNeighbors(n_neighbors=2)\n",
    "nbrs = neigh.fit(clustering_set)\n",
    "distances, indices = nbrs.kneighbors(clustering_set)"
   ]
  },
  {
   "cell_type": "code",
   "execution_count": 80,
   "id": "fSi2XmvY7coU",
   "metadata": {
    "colab": {
     "base_uri": "https://localhost:8080/",
     "height": 630
    },
    "id": "fSi2XmvY7coU",
    "outputId": "e742af5a-5505-435d-9aa4-d201e7c5c894"
   },
   "outputs": [
    {
     "data": {
      "image/png": "[encoded data removed]",
      "text/plain": [
       "<Figure size 1440x720 with 1 Axes>"
      ]
     },
     "metadata": {
      "needs_background": "light"
     },
     "output_type": "display_data"
    }
   ],
   "source": [
    "distances = np.sort(distances, axis=0)\n",
    "distances = distances[:,1]\n",
    "plt.figure(figsize=(20,10))\n",
    "plt.plot(distances)\n",
    "plt.title('K-distance Graph',fontsize=20)\n",
    "plt.xlabel('Data Points sorted by distance',fontsize=14)\n",
    "plt.ylabel('Epsilon',fontsize=14)\n",
    "plt.show()"
   ]
  },
  {
   "cell_type": "code",
   "execution_count": 117,
   "id": "eqQ6X6FjScJ2",
   "metadata": {
    "colab": {
     "base_uri": "https://localhost:8080/",
     "height": 630
    },
    "id": "eqQ6X6FjScJ2",
    "outputId": "52bf8a60-a9d9-4ca3-a7d6-0d162585b01f"
   },
   "outputs": [
    {
     "data": {
      "image/png": "[encoded data removed]",
      "text/plain": [
       "<Figure size 720x720 with 1 Axes>"
      ]
     },
     "metadata": {
      "needs_background": "light"
     },
     "output_type": "display_data"
    }
   ],
   "source": [
    "# Plotting resulting clusters\n",
    "colors=['red','green']\n",
    "plt.figure(figsize=(10,10))\n",
    "plt.scatter(x_train['Q_times_allsqft'],x_train['OverallQual'],c=x_train['DBSCAN_labels'],cmap=matplotlib.colors.ListedColormap(colors),s=15)\n",
    "plt.title('DBSCAN Clustering',fontsize=20)\n",
    "plt.xlabel('Feature 1',fontsize=14)\n",
    "plt.ylabel('Feature 2',fontsize=14)\n",
    "plt.show()"
   ]
  },
  {
   "cell_type": "code",
   "execution_count": 123,
   "id": "AB-ThhEkLqD2",
   "metadata": {
    "colab": {
     "base_uri": "https://localhost:8080/",
     "height": 300
    },
    "id": "AB-ThhEkLqD2",
    "outputId": "681db397-c642-4bba-a662-5abbd654beeb"
   },
   "outputs": [
    {
     "data": {
      "text/plain": [
       "<AxesSubplot:xlabel='OverallQual', ylabel='GrLivArea'>"
      ]
     },
     "execution_count": 123,
     "metadata": {},
     "output_type": "execute_result"
    },
    {
     "data": {
      "image/png": "[encoded data removed]",
      "text/plain": [
       "<Figure size 432x288 with 1 Axes>"
      ]
     },
     "metadata": {
      "needs_background": "light"
     },
     "output_type": "display_data"
    }
   ],
   "source": [
    "import seaborn as sns\n",
    "x_train['DBSCAN_labels']=DB.labels_\n",
    "sns.scatterplot(data=x_train, x=\"OverallQual\", y=\"GrLivArea\", hue=\"DBSCAN_labels\")"
   ]
  },
  {
   "cell_type": "code",
   "execution_count": 122,
   "id": "2H7umJcUSSWp",
   "metadata": {
    "colab": {
     "base_uri": "https://localhost:8080/",
     "height": 296
    },
    "id": "2H7umJcUSSWp",
    "outputId": "51d07849-9303-4956-c6fb-6e2cb0d84f77"
   },
   "outputs": [
    {
     "data": {
      "text/plain": [
       "<AxesSubplot:xlabel='OverallQual', ylabel='YearBuilt'>"
      ]
     },
     "execution_count": 122,
     "metadata": {},
     "output_type": "execute_result"
    },
    {
     "data": {
      "image/png": "[encoded data removed]",
      "text/plain": [
       "<Figure size 432x288 with 1 Axes>"
      ]
     },
     "metadata": {
      "needs_background": "light"
     },
     "output_type": "display_data"
    }
   ],
   "source": [
    "sns.scatterplot(data=x_train, x=\"OverallQual\", y=\"YearBuilt\", hue=\"DBSCAN_labels\")"
   ]
  },
  {
   "cell_type": "code",
   "execution_count": 124,
   "id": "8M3PUC0tSSry",
   "metadata": {
    "colab": {
     "base_uri": "https://localhost:8080/",
     "height": 296
    },
    "id": "8M3PUC0tSSry",
    "outputId": "2d2d5f07-ead8-4121-b908-da1f28414096"
   },
   "outputs": [
    {
     "data": {
      "text/plain": [
       "<AxesSubplot:xlabel='OverallQual', ylabel='OverallCond'>"
      ]
     },
     "execution_count": 124,
     "metadata": {},
     "output_type": "execute_result"
    },
    {
     "data": {
      "image/png": "[encoded data removed]",
      "text/plain": [
       "<Figure size 432x288 with 1 Axes>"
      ]
     },
     "metadata": {
      "needs_background": "light"
     },
     "output_type": "display_data"
    }
   ],
   "source": [
    "sns.scatterplot(data=x_train, x=\"OverallQual\", y=\"OverallCond\", hue=\"DBSCAN_labels\")"
   ]
  },
  {
   "cell_type": "markdown",
   "id": "IvPYrIgLYzY_",
   "metadata": {
    "id": "IvPYrIgLYzY_",
    "tags": []
   },
   "source": [
    "# Classification"
   ]
  },
  {
   "cell_type": "code",
   "execution_count": 19,
   "id": "295d5b60-a96d-4cb7-a0d7-00b3821a3b7e",
   "metadata": {},
   "outputs": [
    {
     "data": {
      "text/plain": [
       "<AxesSubplot:xlabel='OverallQual', ylabel='Count'>"
      ]
     },
     "execution_count": 19,
     "metadata": {},
     "output_type": "execute_result"
    },
    {
     "data": {
      "image/png": "[encoded data removed]",
      "text/plain": [
       "<Figure size 432x288 with 1 Axes>"
      ]
     },
     "metadata": {
      "needs_background": "light"
     },
     "output_type": "display_data"
    }
   ],
   "source": [
    "import seaborn as sns\n",
    "sns.histplot(data=df, x='OverallQual')"
   ]
  },
  {
   "cell_type": "markdown",
   "id": "5119f7e0-570f-438b-84e4-ef9acb13fb30",
   "metadata": {},
   "source": [
    "Duplicating the Quality category only occuring once, in order to be able to train for it."
   ]
  },
  {
   "cell_type": "code",
   "execution_count": 7,
   "id": "806b5809-2111-499b-a110-dbf73c3488a4",
   "metadata": {},
   "outputs": [
    {
     "data": {
      "text/html": [
       "<div>\n",
       "<style scoped>\n",
       "    .dataframe tbody tr th:only-of-type {\n",
       "        vertical-align: middle;\n",
       "    }\n",
       "\n",
       "    .dataframe tbody tr th {\n",
       "        vertical-align: top;\n",
       "    }\n",
       "\n",
       "    .dataframe thead th {\n",
       "        text-align: right;\n",
       "    }\n",
       "</style>\n",
       "<table border=\"1\" class=\"dataframe\">\n",
       "  <thead>\n",
       "    <tr style=\"text-align: right;\">\n",
       "      <th></th>\n",
       "      <th>Id</th>\n",
       "      <th>MSSubClass</th>\n",
       "      <th>LotArea</th>\n",
       "      <th>OverallQual</th>\n",
       "      <th>OverallCond</th>\n",
       "      <th>YearBuilt</th>\n",
       "      <th>YearRemodAdd</th>\n",
       "      <th>MasVnrArea</th>\n",
       "      <th>BsmtFinSF1</th>\n",
       "      <th>BsmtUnfSF</th>\n",
       "      <th>...</th>\n",
       "      <th>Neighborhood_Sawyer</th>\n",
       "      <th>Neighborhood_SawyerW</th>\n",
       "      <th>Neighborhood_Somerst</th>\n",
       "      <th>Neighborhood_StoneBr</th>\n",
       "      <th>Neighborhood_Timber</th>\n",
       "      <th>Neighborhood_Veenker</th>\n",
       "      <th>RoofStyle_Flat</th>\n",
       "      <th>RoofStyle_Gable</th>\n",
       "      <th>RoofStyle_Gambrel</th>\n",
       "      <th>RoofStyle_Hip</th>\n",
       "    </tr>\n",
       "  </thead>\n",
       "  <tbody>\n",
       "    <tr>\n",
       "      <th>1019</th>\n",
       "      <td>1101</td>\n",
       "      <td>30</td>\n",
       "      <td>8400</td>\n",
       "      <td>2</td>\n",
       "      <td>5</td>\n",
       "      <td>1920</td>\n",
       "      <td>1950</td>\n",
       "      <td>0</td>\n",
       "      <td>290</td>\n",
       "      <td>0</td>\n",
       "      <td>...</td>\n",
       "      <td>0</td>\n",
       "      <td>0</td>\n",
       "      <td>0</td>\n",
       "      <td>0</td>\n",
       "      <td>0</td>\n",
       "      <td>0</td>\n",
       "      <td>0</td>\n",
       "      <td>1</td>\n",
       "      <td>0</td>\n",
       "      <td>0</td>\n",
       "    </tr>\n",
       "    <tr>\n",
       "      <th>1340</th>\n",
       "      <td>1101</td>\n",
       "      <td>30</td>\n",
       "      <td>8400</td>\n",
       "      <td>2</td>\n",
       "      <td>5</td>\n",
       "      <td>1920</td>\n",
       "      <td>1950</td>\n",
       "      <td>0</td>\n",
       "      <td>290</td>\n",
       "      <td>0</td>\n",
       "      <td>...</td>\n",
       "      <td>0</td>\n",
       "      <td>0</td>\n",
       "      <td>0</td>\n",
       "      <td>0</td>\n",
       "      <td>0</td>\n",
       "      <td>0</td>\n",
       "      <td>0</td>\n",
       "      <td>1</td>\n",
       "      <td>0</td>\n",
       "      <td>0</td>\n",
       "    </tr>\n",
       "  </tbody>\n",
       "</table>\n",
       "<p>2 rows × 247 columns</p>\n",
       "</div>"
      ],
      "text/plain": [
       "        Id  MSSubClass  LotArea  OverallQual  OverallCond  YearBuilt  \\\n",
       "1019  1101          30     8400            2            5       1920   \n",
       "1340  1101          30     8400            2            5       1920   \n",
       "\n",
       "      YearRemodAdd  MasVnrArea  BsmtFinSF1  BsmtUnfSF  ...  \\\n",
       "1019          1950           0         290          0  ...   \n",
       "1340          1950           0         290          0  ...   \n",
       "\n",
       "      Neighborhood_Sawyer  Neighborhood_SawyerW  Neighborhood_Somerst  \\\n",
       "1019                    0                     0                     0   \n",
       "1340                    0                     0                     0   \n",
       "\n",
       "      Neighborhood_StoneBr  Neighborhood_Timber  Neighborhood_Veenker  \\\n",
       "1019                     0                    0                     0   \n",
       "1340                     0                    0                     0   \n",
       "\n",
       "      RoofStyle_Flat  RoofStyle_Gable  RoofStyle_Gambrel  RoofStyle_Hip  \n",
       "1019               0                1                  0              0  \n",
       "1340               0                1                  0              0  \n",
       "\n",
       "[2 rows x 247 columns]"
      ]
     },
     "execution_count": 7,
     "metadata": {},
     "output_type": "execute_result"
    }
   ],
   "source": [
    "add=df.loc[df['OverallQual'] == 2]\n",
    "#df=df.append(add)\n",
    "df.reset_index(drop=True, inplace=True)\n",
    "#df.drop(df.index[1341:1347], inplace = True )\n",
    "df.loc[df['OverallQual'] == 2]"
   ]
  },
  {
   "cell_type": "code",
   "execution_count": 8,
   "id": "20b9517a-5cdd-48b4-9ade-7f532d7db834",
   "metadata": {},
   "outputs": [],
   "source": [
    "from sklearn.model_selection import StratifiedShuffleSplit\n",
    "split = StratifiedShuffleSplit(n_splits=1, test_size=0.2, random_state=42)\n",
    "for train_index, test_index in split.split(df, df['OverallQual']):\n",
    "        train=df.loc[train_index]\n",
    "        test=df.loc[test_index]"
   ]
  },
  {
   "cell_type": "code",
   "execution_count": 9,
   "id": "StJsKSrbjoDn",
   "metadata": {
    "colab": {
     "base_uri": "https://localhost:8080/"
    },
    "id": "StJsKSrbjoDn",
    "outputId": "409a2eb4-b02b-462d-efe2-92fffbadeee5"
   },
   "outputs": [
    {
     "name": "stdout",
     "output_type": "stream",
     "text": [
      "     MSSubClass   LotArea  OverallQual  OverallCond  YearBuilt  YearRemodAdd  \\\n",
      "0      1.629475 -0.981655     0.712960    -0.597808   1.145419      1.089619   \n",
      "1     -0.873817  0.395321     1.477253    -0.597808   1.145419      1.089619   \n",
      "2      0.127500 -0.163336    -0.051333     0.355838   0.057099     -0.534295   \n",
      "3     -0.873817  0.960734    -0.051333     1.309484  -0.602490      0.994095   \n",
      "4     -0.873817 -0.242010    -0.815626    -0.597808  -0.140778     -0.820868   \n",
      "..          ...       ...          ...          ...        ...           ...   \n",
      "263   -0.873817 -0.485181     0.712960    -0.597808   1.046481      0.946333   \n",
      "264    0.127500 -0.402336    -0.051333    -0.597808   0.881584      0.707522   \n",
      "265   -0.873817  0.642267    -0.051333     0.355838   0.189016      0.134376   \n",
      "266   -0.873817 -0.044731    -0.815626     0.355838  -0.734407      0.516473   \n",
      "267   -0.873817 -0.001024    -0.815626     0.355838  -0.239716     -0.964155   \n",
      "\n",
      "     MasVnrArea  BsmtFinSF1  BsmtUnfSF  TotalBsmtSF  ...  Neighborhood_Sawyer  \\\n",
      "0      0.421368    1.216246  -0.404349     0.649644  ...            -0.196875   \n",
      "1      0.548545   -1.037334   2.193279     1.333213  ...            -0.196875   \n",
      "2      1.082687    0.064527  -0.295559    -0.411687  ...            -0.196875   \n",
      "3     -0.176363    0.777496  -0.053558     0.603387  ...            -0.196875   \n",
      "4     -0.634199    0.189172  -0.422110    -0.429676  ...             5.079370   \n",
      "..          ...         ...        ...          ...  ...                  ...   \n",
      "263   -0.634199   -0.015246   0.485949     0.410652  ...            -0.196875   \n",
      "264   -0.634199   -1.037334   0.801217    -0.278057  ...            -0.196875   \n",
      "265    0.122503    0.932055  -0.006934     1.235560  ...            -0.196875   \n",
      "266   -0.634199   -0.915182  -1.314629     0.043169  ...            -0.196875   \n",
      "267   -0.634199    1.031771  -1.012682     0.500595  ...            -0.196875   \n",
      "\n",
      "     Neighborhood_SawyerW  Neighborhood_Somerst  Neighborhood_StoneBr  \\\n",
      "0               -0.163768             -0.283981             -0.086711   \n",
      "1               -0.163768              3.521363             -0.086711   \n",
      "2               -0.163768             -0.283981             -0.086711   \n",
      "3               -0.163768             -0.283981             -0.086711   \n",
      "4               -0.163768             -0.283981             -0.086711   \n",
      "..                    ...                   ...                   ...   \n",
      "263             -0.163768              3.521363             -0.086711   \n",
      "264             -0.163768             -0.283981             -0.086711   \n",
      "265             -0.163768             -0.283981             -0.086711   \n",
      "266             -0.163768             -0.283981             -0.086711   \n",
      "267             -0.163768             -0.283981             -0.086711   \n",
      "\n",
      "     Neighborhood_Timber  Neighborhood_Veenker  RoofStyle_Flat  \\\n",
      "0              -0.175412             -0.086711       -0.061199   \n",
      "1              -0.175412             -0.086711       -0.061199   \n",
      "2              -0.175412             -0.086711       -0.061199   \n",
      "3              -0.175412             -0.086711       -0.061199   \n",
      "4              -0.175412             -0.086711       -0.061199   \n",
      "..                   ...                   ...             ...   \n",
      "263            -0.175412             -0.086711       -0.061199   \n",
      "264            -0.175412             -0.086711       -0.061199   \n",
      "265            -0.175412             -0.086711       -0.061199   \n",
      "266            -0.175412             -0.086711       -0.061199   \n",
      "267            -0.175412             -0.086711       -0.061199   \n",
      "\n",
      "     RoofStyle_Gable  RoofStyle_Gambrel  RoofStyle_Hip  \n",
      "0           0.560112          -0.106399      -0.537086  \n",
      "1           0.560112          -0.106399      -0.537086  \n",
      "2          -1.785357          -0.106399       1.861899  \n",
      "3          -1.785357          -0.106399       1.861899  \n",
      "4           0.560112          -0.106399      -0.537086  \n",
      "..               ...                ...            ...  \n",
      "263         0.560112          -0.106399      -0.537086  \n",
      "264         0.560112          -0.106399      -0.537086  \n",
      "265         0.560112          -0.106399      -0.537086  \n",
      "266        -1.785357          -0.106399       1.861899  \n",
      "267         0.560112          -0.106399      -0.537086  \n",
      "\n",
      "[268 rows x 245 columns]\n",
      "(1072, 244)\n",
      "(269, 244)\n"
     ]
    },
    {
     "data": {
      "text/plain": [
       "197     7\n",
       "585     7\n",
       "846     7\n",
       "1195    7\n",
       "1163    6\n",
       "Name: OverallQual, dtype: int64"
      ]
     },
     "execution_count": 9,
     "metadata": {},
     "output_type": "execute_result"
    }
   ],
   "source": [
    "y_train_c=train['OverallQual']\n",
    "x_train_c=train.drop(['OverallQual','Id', 'Q_times_allsqft'], axis=1)\n",
    "y_test_c=test['OverallQual']\n",
    "x_test_c=test.drop(['OverallQual','Id', 'Q_times_allsqft'], axis=1)\n",
    "print(x_test)\n",
    "x_train_c.reset_index(drop=True, inplace=True) \n",
    "x_test_c.reset_index(drop=True, inplace=True) \n",
    "x_train_c=scale(x_train_c)\n",
    "x_test_c=scale(x_test_c)\n",
    "x_train_c.reset_index(drop=True, inplace=True) \n",
    "x_test_c.reset_index(drop=True, inplace=True) \n",
    "print(x_train_c.shape)\n",
    "print(x_test_c.shape)\n",
    "#x_train_c=x_train_c.dropna()\n",
    "#x_train_c\n",
    "y_train_c.head()"
   ]
  },
  {
   "cell_type": "code",
   "execution_count": 42,
   "id": "bNZ9WQcgmZaG",
   "metadata": {
    "id": "bNZ9WQcgmZaG"
   },
   "outputs": [],
   "source": [
    "from sklearn.linear_model import LogisticRegression\n",
    "from sklearn.svm import SVC\n",
    "from sklearn.ensemble import RandomForestClassifier\n",
    "from sklearn.ensemble import ExtraTreesClassifier\n",
    "from sklearn.neighbors import KNeighborsClassifier\n",
    "from sklearn.preprocessing import StandardScaler\n",
    "from sklearn.pipeline import make_pipeline\n",
    "from sklearn.model_selection import GridSearchCV\n",
    "from sklearn.ensemble import VotingClassifier\n",
    "from sklearn.metrics import confusion_matrix\n",
    "from sklearn.metrics import accuracy_score"
   ]
  },
  {
   "cell_type": "markdown",
   "id": "sf3aSjB8gtGo",
   "metadata": {
    "id": "sf3aSjB8gtGo"
   },
   "source": [
    "Log Reg"
   ]
  },
  {
   "cell_type": "code",
   "execution_count": 30,
   "id": "pBMB7527ZzNd",
   "metadata": {
    "id": "pBMB7527ZzNd"
   },
   "outputs": [
    {
     "name": "stderr",
     "output_type": "stream",
     "text": [
      "C:\\Users\\flori\\anaconda3\\lib\\site-packages\\sklearn\\model_selection\\_split.py:676: UserWarning: The least populated class in y has only 2 members, which is less than n_splits=4.\n",
      "  warnings.warn(\n"
     ]
    },
    {
     "name": "stdout",
     "output_type": "stream",
     "text": [
      "tuned hyperparameters :  {'C': 0.01, 'penalty': 'l2', 'solver': 'newton-cg'}\n",
      "accuracy : 0.5541044776119403\n"
     ]
    }
   ],
   "source": [
    "'''\n",
    "parameters ={\"C\":[0.01, 0.1,],\n",
    "             'penalty':['l2', 'none'],\n",
    "             'solver':['newton-cg','saga']}\n",
    "#pipe = make_pipeline(StandardScaler(), LogisticRegression())\n",
    "\n",
    "grid = GridSearchCV(LogisticRegression(), parameters, cv=4, n_jobs=-1)\n",
    "logreg_c = grid.fit(x_train_c, y_train_c)\n",
    "\n",
    "print(\"tuned hyperparameters : \",logreg_c.best_params_)\n",
    "print(\"accuracy :\",logreg_c.best_score_)"
   ]
  },
  {
   "cell_type": "markdown",
   "id": "_BqZTEoCYlC5",
   "metadata": {
    "id": "_BqZTEoCYlC5"
   },
   "source": [
    "tuned hyperparameters (without added features)  :  {'C': 0.01, 'penalty': 'l2', 'solver': 'newton-cg'}\n",
    "accuracy : 0.5541044776119403"
   ]
  },
  {
   "cell_type": "code",
   "execution_count": 17,
   "id": "XGa9Bc-cRbP3",
   "metadata": {
    "colab": {
     "base_uri": "https://localhost:8080/"
    },
    "id": "XGa9Bc-cRbP3",
    "outputId": "128e962c-34bc-4e01-e9e9-72aca88aee0a"
   },
   "outputs": [
    {
     "data": {
      "text/plain": [
       "0.5278810408921933"
      ]
     },
     "execution_count": 17,
     "metadata": {},
     "output_type": "execute_result"
    }
   ],
   "source": [
    "log_b_c = LogisticRegression(C=0.03, penalty='l2', solver='newton-cg')\n",
    "log_c=log_b_c.fit(x_train_c, y_train_c)\n",
    "log_m=confusion_matrix(y_test_c, log_c.predict(x_test_c))\n",
    "log_c.score(x_test_c, y_test_c)"
   ]
  },
  {
   "cell_type": "code",
   "execution_count": 125,
   "id": "18de9b00-8997-4d96-8754-5d34a22207f2",
   "metadata": {},
   "outputs": [
    {
     "data": {
      "text/plain": [
       "array([[ 0,  0,  3,  0,  0,  0,  0,  0],\n",
       "       [ 0,  5, 13,  2,  0,  0,  0,  0],\n",
       "       [ 0,  3, 52, 19,  1,  0,  0,  0],\n",
       "       [ 0,  2, 21, 27, 19,  0,  0,  0],\n",
       "       [ 0,  0,  2, 18, 34,  6,  0,  0],\n",
       "       [ 0,  0,  1,  1, 13, 15,  2,  0],\n",
       "       [ 0,  0,  0,  0,  0,  3,  5,  0],\n",
       "       [ 0,  0,  0,  0,  0,  0,  2,  0]], dtype=int64)"
      ]
     },
     "execution_count": 125,
     "metadata": {},
     "output_type": "execute_result"
    }
   ],
   "source": [
    "log_m"
   ]
  },
  {
   "cell_type": "code",
   "execution_count": 34,
   "id": "Py1EKyNhgbIA",
   "metadata": {
    "colab": {
     "base_uri": "https://localhost:8080/",
     "height": 436
    },
    "id": "Py1EKyNhgbIA",
    "outputId": "9ab4e6c1-e1c1-4e24-c6da-b93be9c9e417"
   },
   "outputs": [
    {
     "data": {
      "image/png": "[encoded data removed]",
      "text/plain": [
       "<Figure size 720x504 with 2 Axes>"
      ]
     },
     "metadata": {
      "needs_background": "light"
     },
     "output_type": "display_data"
    }
   ],
   "source": [
    "df_cm_log = pd.DataFrame(log_m, range(8), range(8))\n",
    "plt.figure(figsize=(10,7))\n",
    "#sns.set(font_scale=1.4) # for label size\n",
    "sns.heatmap(df_cm_log, annot=True, annot_kws={\"size\": 16}) # font size\n",
    "\n",
    "plt.show()"
   ]
  },
  {
   "cell_type": "markdown",
   "id": "rmsFo5jGgZj8",
   "metadata": {
    "id": "rmsFo5jGgZj8"
   },
   "source": [
    "Random Forest"
   ]
  },
  {
   "cell_type": "code",
   "execution_count": 44,
   "id": "MTrTQFb0gECw",
   "metadata": {
    "colab": {
     "base_uri": "https://localhost:8080/"
    },
    "id": "MTrTQFb0gECw",
    "outputId": "38d8104e-6ebc-46aa-fc27-874e5f563217"
   },
   "outputs": [
    {
     "name": "stdout",
     "output_type": "stream",
     "text": [
      "Fitting 4 folds for each of 320 candidates, totalling 1280 fits\n"
     ]
    },
    {
     "name": "stderr",
     "output_type": "stream",
     "text": [
      "C:\\Users\\flori\\anaconda3\\lib\\site-packages\\sklearn\\model_selection\\_split.py:676: UserWarning: The least populated class in y has only 2 members, which is less than n_splits=4.\n",
      "  warnings.warn(\n"
     ]
    },
    {
     "name": "stdout",
     "output_type": "stream",
     "text": [
      "tuned hyperparameters :  {'criterion': 'gini', 'max_depth': 13, 'max_features': 'auto', 'min_samples_split': 4, 'n_estimators': 500}\n",
      "accuracy : 0.6259328358208955\n"
     ]
    }
   ],
   "source": [
    "parameters = {'criterion': ['gini'],\n",
    "     'n_estimators': np.arange(400,600,10),\n",
    "     'max_depth': np.arange(12,16,1),\n",
    "     'max_features': ['auto'],\n",
    "     'min_samples_split': [ 4, 5, 6, 7]}\n",
    "\n",
    "grid_search = GridSearchCV(RandomForestClassifier(), parameters, cv=4, verbose=2, n_jobs=-1)\n",
    "trees_cv = grid_search.fit(x_train_c, y_train_c)\n",
    "print(\"tuned hyperparameters : \",trees_cv.best_params_)\n",
    "print(\"accuracy :\",trees_cv.best_score_)"
   ]
  },
  {
   "cell_type": "markdown",
   "id": "f34OCxPxjAZC",
   "metadata": {
    "id": "f34OCxPxjAZC"
   },
   "source": [
    "tuned hyperparameters :  {'criterion': 'gini', 'max_depth': 13, 'max_features': 'auto', 'min_samples_split': 4, 'n_estimators': 500}\n",
    "accuracy : 0.6222014925373135"
   ]
  },
  {
   "cell_type": "code",
   "execution_count": 31,
   "id": "8Rw4BA5pjBq3",
   "metadata": {
    "colab": {
     "base_uri": "https://localhost:8080/"
    },
    "id": "8Rw4BA5pjBq3",
    "outputId": "297b82d2-c22b-4458-d832-983853153d35"
   },
   "outputs": [
    {
     "data": {
      "text/plain": [
       "0.5910780669144982"
      ]
     },
     "execution_count": 31,
     "metadata": {},
     "output_type": "execute_result"
    }
   ],
   "source": [
    "trees_b_c = RandomForestClassifier(criterion='gini', max_depth=13, max_features='auto', min_samples_split=4, n_estimators=500)\n",
    "trees_c=trees_b_c.fit(x_train_c, y_train_c)\n",
    "trees_m=confusion_matrix(y_test_c, trees_c.predict(x_test_c))\n",
    "trees_c.score(x_test_c, y_test_c)"
   ]
  },
  {
   "cell_type": "code",
   "execution_count": 49,
   "id": "da16913b-44d4-4df2-8217-8ddbf8ce4d3e",
   "metadata": {},
   "outputs": [
    {
     "data": {
      "text/plain": [
       "array([[ 0,  0,  3,  0,  0,  0,  0,  0],\n",
       "       [ 0,  3, 16,  1,  0,  0,  0,  0],\n",
       "       [ 0,  0, 63, 11,  1,  0,  0,  0],\n",
       "       [ 0,  0, 25, 34, 10,  0,  0,  0],\n",
       "       [ 0,  0,  3, 15, 35,  7,  0,  0],\n",
       "       [ 0,  0,  1,  3,  9, 17,  2,  0],\n",
       "       [ 0,  0,  0,  0,  0,  3,  5,  0],\n",
       "       [ 0,  0,  0,  0,  0,  0,  2,  0]], dtype=int64)"
      ]
     },
     "execution_count": 49,
     "metadata": {},
     "output_type": "execute_result"
    }
   ],
   "source": [
    "confusion_matrix(y_test_c, trees_c.predict(x_test_c))"
   ]
  },
  {
   "cell_type": "code",
   "execution_count": 50,
   "id": "QbU0OvQ2XRoS",
   "metadata": {
    "colab": {
     "base_uri": "https://localhost:8080/",
     "height": 442
    },
    "id": "QbU0OvQ2XRoS",
    "outputId": "b89069a2-a046-45de-eaab-adef53f57e84"
   },
   "outputs": [
    {
     "data": {
      "image/png": "[encoded data removed]",
      "text/plain": [
       "<Figure size 720x504 with 2 Axes>"
      ]
     },
     "metadata": {
      "needs_background": "light"
     },
     "output_type": "display_data"
    }
   ],
   "source": [
    "df_cm_trees = pd.DataFrame(trees_m, range(8), range(8))\n",
    "plt.figure(figsize=(10,7))\n",
    "#sns.set(font_scale=1.4) # for label size\n",
    "sns.heatmap(df_cm_trees, annot=True, annot_kws={\"size\": 16}) # font size\n",
    "\n",
    "plt.show()"
   ]
  },
  {
   "cell_type": "code",
   "execution_count": 43,
   "id": "RdGseq8MDivk",
   "metadata": {
    "colab": {
     "base_uri": "https://localhost:8080/"
    },
    "id": "RdGseq8MDivk",
    "outputId": "574724e1-355c-417f-b598-a4904228c221"
   },
   "outputs": [
    {
     "data": {
      "text/plain": [
       "array([[ 0,  0,  3,  0,  0,  0,  0,  0],\n",
       "       [ 0,  3, 16,  1,  0,  0,  0,  0],\n",
       "       [ 0,  0, 62, 13,  0,  0,  0,  0],\n",
       "       [ 0,  0, 25, 34, 10,  0,  0,  0],\n",
       "       [ 0,  0,  4, 13, 36,  7,  0,  0],\n",
       "       [ 0,  0,  1,  3,  9, 17,  2,  0],\n",
       "       [ 0,  0,  0,  0,  0,  4,  4,  0],\n",
       "       [ 0,  0,  0,  0,  0,  0,  2,  0]], dtype=int64)"
      ]
     },
     "execution_count": 43,
     "metadata": {},
     "output_type": "execute_result"
    }
   ],
   "source": [
    "trees_m"
   ]
  },
  {
   "cell_type": "markdown",
   "id": "6663626b-6d59-49b8-b2ce-371d5f815df4",
   "metadata": {},
   "source": [
    "Amount of predictions falling within a range of a correct assessment and one category above or below.: 95.54 %"
   ]
  },
  {
   "cell_type": "code",
   "execution_count": 60,
   "id": "d543d3eb-07a9-4e27-9ed6-bf4706966df8",
   "metadata": {},
   "outputs": [
    {
     "data": {
      "text/plain": [
       "0.9553903345724907"
      ]
     },
     "execution_count": 60,
     "metadata": {},
     "output_type": "execute_result"
    }
   ],
   "source": [
    "257/269"
   ]
  },
  {
   "cell_type": "markdown",
   "id": "8ca1b040-745e-407f-b189-3116175d6552",
   "metadata": {},
   "source": [
    "Extra trees"
   ]
  },
  {
   "cell_type": "code",
   "execution_count": 52,
   "id": "bf39f84a-74c6-4308-a1a6-a4724554eb92",
   "metadata": {},
   "outputs": [
    {
     "name": "stdout",
     "output_type": "stream",
     "text": [
      "Fitting 4 folds for each of 1750 candidates, totalling 7000 fits\n"
     ]
    },
    {
     "name": "stderr",
     "output_type": "stream",
     "text": [
      "C:\\Users\\flori\\anaconda3\\lib\\site-packages\\sklearn\\model_selection\\_split.py:676: UserWarning: The least populated class in y has only 2 members, which is less than n_splits=4.\n",
      "  warnings.warn(\n"
     ]
    },
    {
     "name": "stdout",
     "output_type": "stream",
     "text": [
      "tuned hyperparameters :  {'criterion': 'gini', 'max_depth': 14, 'max_features': 'auto', 'min_samples_split': 6, 'n_estimators': 750}\n",
      "accuracy : 0.6194029850746268\n"
     ]
    }
   ],
   "source": [
    "parameters = {'criterion': ['gini'],\n",
    "     'n_estimators': np.arange(300,800,10),\n",
    "     'max_depth': np.arange(11,18,1),\n",
    "     'max_features': ['auto'],\n",
    "     'min_samples_split': [ 4, 5, 6, 7, 8]}\n",
    "\n",
    "grid_search = GridSearchCV(ExtraTreesClassifier(), parameters, cv=4, verbose=2, n_jobs=-1)\n",
    "Xtrees_cv = grid_search.fit(x_train_c, y_train_c)\n",
    "print(\"tuned hyperparameters : \",Xtrees_cv.best_params_)\n",
    "print(\"accuracy :\",Xtrees_cv.best_score_)"
   ]
  },
  {
   "cell_type": "code",
   "execution_count": 54,
   "id": "3ce224b2-1671-47f0-a573-8f5b708ea252",
   "metadata": {},
   "outputs": [
    {
     "data": {
      "text/plain": [
       "0.5576208178438662"
      ]
     },
     "execution_count": 54,
     "metadata": {},
     "output_type": "execute_result"
    }
   ],
   "source": [
    "Xtrees_b_c = ExtraTreesClassifier(criterion='gini', max_depth=14, max_features='auto', min_samples_split=6, n_estimators=750)\n",
    "Xtrees_c=Xtrees_b_c.fit(x_train_c, y_train_c)\n",
    "Xtrees_m=confusion_matrix(y_test_c, Xtrees_c.predict(x_test_c))\n",
    "Xtrees_c.score(x_test_c, y_test_c)"
   ]
  },
  {
   "cell_type": "markdown",
   "id": "LTvFs0jxiymn",
   "metadata": {
    "id": "LTvFs0jxiymn"
   },
   "source": [
    "KNN"
   ]
  },
  {
   "cell_type": "code",
   "execution_count": 42,
   "id": "UKDcwrXpiyTN",
   "metadata": {
    "id": "UKDcwrXpiyTN"
   },
   "outputs": [
    {
     "name": "stdout",
     "output_type": "stream",
     "text": [
      "Fitting 4 folds for each of 80 candidates, totalling 320 fits\n",
      "[CV] END .................algorithm=auto, n_neighbors=1, p=1; total time=   0.0s\n",
      "[CV] END .................algorithm=auto, n_neighbors=1, p=1; total time=   0.0s\n",
      "[CV] END .................algorithm=auto, n_neighbors=1, p=1; total time=   0.0s\n"
     ]
    },
    {
     "name": "stderr",
     "output_type": "stream",
     "text": [
      "C:\\Users\\flori\\anaconda3\\lib\\site-packages\\sklearn\\model_selection\\_split.py:676: UserWarning: The least populated class in y has only 2 members, which is less than n_splits=4.\n",
      "  warnings.warn(\n"
     ]
    },
    {
     "name": "stdout",
     "output_type": "stream",
     "text": [
      "[CV] END .................algorithm=auto, n_neighbors=1, p=1; total time=   0.0s\n",
      "[CV] END .................algorithm=auto, n_neighbors=1, p=2; total time=   0.0s\n",
      "[CV] END .................algorithm=auto, n_neighbors=1, p=2; total time=   0.0s\n",
      "[CV] END .................algorithm=auto, n_neighbors=1, p=2; total time=   0.0s\n",
      "[CV] END .................algorithm=auto, n_neighbors=1, p=2; total time=   0.0s\n",
      "[CV] END .................algorithm=auto, n_neighbors=2, p=1; total time=   0.0s\n",
      "[CV] END .................algorithm=auto, n_neighbors=2, p=1; total time=   0.0s\n",
      "[CV] END .................algorithm=auto, n_neighbors=2, p=1; total time=   0.0s\n",
      "[CV] END .................algorithm=auto, n_neighbors=2, p=1; total time=   0.0s\n",
      "[CV] END .................algorithm=auto, n_neighbors=2, p=2; total time=   0.0s\n",
      "[CV] END .................algorithm=auto, n_neighbors=2, p=2; total time=   0.0s\n",
      "[CV] END .................algorithm=auto, n_neighbors=2, p=2; total time=   0.0s\n",
      "[CV] END .................algorithm=auto, n_neighbors=2, p=2; total time=   0.0s\n",
      "[CV] END .................algorithm=auto, n_neighbors=3, p=1; total time=   0.0s\n",
      "[CV] END .................algorithm=auto, n_neighbors=3, p=1; total time=   0.0s\n",
      "[CV] END .................algorithm=auto, n_neighbors=3, p=1; total time=   0.0s\n",
      "[CV] END .................algorithm=auto, n_neighbors=3, p=1; total time=   0.0s\n",
      "[CV] END .................algorithm=auto, n_neighbors=3, p=2; total time=   0.0s\n",
      "[CV] END .................algorithm=auto, n_neighbors=3, p=2; total time=   0.0s\n",
      "[CV] END .................algorithm=auto, n_neighbors=3, p=2; total time=   0.0s\n",
      "[CV] END .................algorithm=auto, n_neighbors=3, p=2; total time=   0.0s\n",
      "[CV] END .................algorithm=auto, n_neighbors=4, p=1; total time=   0.0s\n",
      "[CV] END .................algorithm=auto, n_neighbors=4, p=1; total time=   0.0s\n",
      "[CV] END .................algorithm=auto, n_neighbors=4, p=1; total time=   0.0s\n",
      "[CV] END .................algorithm=auto, n_neighbors=4, p=1; total time=   0.0s\n",
      "[CV] END .................algorithm=auto, n_neighbors=4, p=2; total time=   0.0s\n",
      "[CV] END .................algorithm=auto, n_neighbors=4, p=2; total time=   0.0s\n",
      "[CV] END .................algorithm=auto, n_neighbors=4, p=2; total time=   0.0s\n",
      "[CV] END .................algorithm=auto, n_neighbors=4, p=2; total time=   0.0s\n",
      "[CV] END .................algorithm=auto, n_neighbors=5, p=1; total time=   0.0s\n",
      "[CV] END .................algorithm=auto, n_neighbors=5, p=1; total time=   0.0s\n",
      "[CV] END .................algorithm=auto, n_neighbors=5, p=1; total time=   0.0s\n",
      "[CV] END .................algorithm=auto, n_neighbors=5, p=1; total time=   0.0s\n",
      "[CV] END .................algorithm=auto, n_neighbors=5, p=2; total time=   0.0s\n",
      "[CV] END .................algorithm=auto, n_neighbors=5, p=2; total time=   0.0s\n",
      "[CV] END .................algorithm=auto, n_neighbors=5, p=2; total time=   0.0s\n",
      "[CV] END .................algorithm=auto, n_neighbors=5, p=2; total time=   0.0s\n",
      "[CV] END .................algorithm=auto, n_neighbors=6, p=1; total time=   0.0s\n",
      "[CV] END .................algorithm=auto, n_neighbors=6, p=1; total time=   0.0s\n",
      "[CV] END .................algorithm=auto, n_neighbors=6, p=1; total time=   0.0s\n",
      "[CV] END .................algorithm=auto, n_neighbors=6, p=1; total time=   0.0s\n",
      "[CV] END .................algorithm=auto, n_neighbors=6, p=2; total time=   0.0s\n",
      "[CV] END .................algorithm=auto, n_neighbors=6, p=2; total time=   0.0s\n",
      "[CV] END .................algorithm=auto, n_neighbors=6, p=2; total time=   0.0s\n",
      "[CV] END .................algorithm=auto, n_neighbors=6, p=2; total time=   0.0s\n",
      "[CV] END .................algorithm=auto, n_neighbors=7, p=1; total time=   0.0s\n",
      "[CV] END .................algorithm=auto, n_neighbors=7, p=1; total time=   0.0s\n",
      "[CV] END .................algorithm=auto, n_neighbors=7, p=1; total time=   0.0s\n",
      "[CV] END .................algorithm=auto, n_neighbors=7, p=1; total time=   0.0s\n",
      "[CV] END .................algorithm=auto, n_neighbors=7, p=2; total time=   0.0s\n",
      "[CV] END .................algorithm=auto, n_neighbors=7, p=2; total time=   0.0s\n",
      "[CV] END .................algorithm=auto, n_neighbors=7, p=2; total time=   0.0s\n",
      "[CV] END .................algorithm=auto, n_neighbors=7, p=2; total time=   0.0s\n",
      "[CV] END .................algorithm=auto, n_neighbors=8, p=1; total time=   0.0s\n",
      "[CV] END .................algorithm=auto, n_neighbors=8, p=1; total time=   0.0s\n",
      "[CV] END .................algorithm=auto, n_neighbors=8, p=1; total time=   0.0s\n",
      "[CV] END .................algorithm=auto, n_neighbors=8, p=1; total time=   0.0s\n",
      "[CV] END .................algorithm=auto, n_neighbors=8, p=2; total time=   0.0s\n",
      "[CV] END .................algorithm=auto, n_neighbors=8, p=2; total time=   0.0s\n",
      "[CV] END .................algorithm=auto, n_neighbors=8, p=2; total time=   0.0s\n",
      "[CV] END .................algorithm=auto, n_neighbors=8, p=2; total time=   0.0s\n",
      "[CV] END .................algorithm=auto, n_neighbors=9, p=1; total time=   0.0s\n",
      "[CV] END .................algorithm=auto, n_neighbors=9, p=1; total time=   0.0s\n",
      "[CV] END .................algorithm=auto, n_neighbors=9, p=1; total time=   0.0s\n",
      "[CV] END .................algorithm=auto, n_neighbors=9, p=1; total time=   0.0s\n",
      "[CV] END .................algorithm=auto, n_neighbors=9, p=2; total time=   0.0s\n",
      "[CV] END .................algorithm=auto, n_neighbors=9, p=2; total time=   0.0s\n",
      "[CV] END .................algorithm=auto, n_neighbors=9, p=2; total time=   0.0s\n",
      "[CV] END .................algorithm=auto, n_neighbors=9, p=2; total time=   0.0s\n",
      "[CV] END ................algorithm=auto, n_neighbors=10, p=1; total time=   0.0s\n",
      "[CV] END ................algorithm=auto, n_neighbors=10, p=1; total time=   0.0s\n",
      "[CV] END ................algorithm=auto, n_neighbors=10, p=1; total time=   0.0s\n",
      "[CV] END ................algorithm=auto, n_neighbors=10, p=1; total time=   0.0s\n",
      "[CV] END ................algorithm=auto, n_neighbors=10, p=2; total time=   0.0s\n",
      "[CV] END ................algorithm=auto, n_neighbors=10, p=2; total time=   0.0s\n",
      "[CV] END ................algorithm=auto, n_neighbors=10, p=2; total time=   0.0s\n",
      "[CV] END ................algorithm=auto, n_neighbors=10, p=2; total time=   0.0s\n",
      "[CV] END ............algorithm=ball_tree, n_neighbors=1, p=1; total time=   0.0s\n",
      "[CV] END ............algorithm=ball_tree, n_neighbors=1, p=1; total time=   0.0s\n",
      "[CV] END ............algorithm=ball_tree, n_neighbors=1, p=1; total time=   0.0s\n",
      "[CV] END ............algorithm=ball_tree, n_neighbors=1, p=1; total time=   0.0s\n",
      "[CV] END ............algorithm=ball_tree, n_neighbors=1, p=2; total time=   0.0s\n",
      "[CV] END ............algorithm=ball_tree, n_neighbors=1, p=2; total time=   0.0s\n",
      "[CV] END ............algorithm=ball_tree, n_neighbors=1, p=2; total time=   0.0s\n",
      "[CV] END ............algorithm=ball_tree, n_neighbors=1, p=2; total time=   0.0s\n",
      "[CV] END ............algorithm=ball_tree, n_neighbors=2, p=1; total time=   0.0s\n",
      "[CV] END ............algorithm=ball_tree, n_neighbors=2, p=1; total time=   0.0s\n",
      "[CV] END ............algorithm=ball_tree, n_neighbors=2, p=1; total time=   0.0s\n",
      "[CV] END ............algorithm=ball_tree, n_neighbors=2, p=1; total time=   0.0s\n",
      "[CV] END ............algorithm=ball_tree, n_neighbors=2, p=2; total time=   0.0s\n",
      "[CV] END ............algorithm=ball_tree, n_neighbors=2, p=2; total time=   0.0s\n",
      "[CV] END ............algorithm=ball_tree, n_neighbors=2, p=2; total time=   0.0s\n",
      "[CV] END ............algorithm=ball_tree, n_neighbors=2, p=2; total time=   0.0s\n",
      "[CV] END ............algorithm=ball_tree, n_neighbors=3, p=1; total time=   0.0s\n",
      "[CV] END ............algorithm=ball_tree, n_neighbors=3, p=1; total time=   0.0s\n",
      "[CV] END ............algorithm=ball_tree, n_neighbors=3, p=1; total time=   0.0s\n",
      "[CV] END ............algorithm=ball_tree, n_neighbors=3, p=1; total time=   0.0s\n",
      "[CV] END ............algorithm=ball_tree, n_neighbors=3, p=2; total time=   0.0s\n",
      "[CV] END ............algorithm=ball_tree, n_neighbors=3, p=2; total time=   0.0s\n",
      "[CV] END ............algorithm=ball_tree, n_neighbors=3, p=2; total time=   0.0s\n",
      "[CV] END ............algorithm=ball_tree, n_neighbors=3, p=2; total time=   0.0s\n",
      "[CV] END ............algorithm=ball_tree, n_neighbors=4, p=1; total time=   0.0s\n",
      "[CV] END ............algorithm=ball_tree, n_neighbors=4, p=1; total time=   0.0s\n",
      "[CV] END ............algorithm=ball_tree, n_neighbors=4, p=1; total time=   0.0s\n",
      "[CV] END ............algorithm=ball_tree, n_neighbors=4, p=1; total time=   0.0s\n",
      "[CV] END ............algorithm=ball_tree, n_neighbors=4, p=2; total time=   0.0s\n",
      "[CV] END ............algorithm=ball_tree, n_neighbors=4, p=2; total time=   0.0s\n",
      "[CV] END ............algorithm=ball_tree, n_neighbors=4, p=2; total time=   0.0s\n",
      "[CV] END ............algorithm=ball_tree, n_neighbors=4, p=2; total time=   0.0s\n",
      "[CV] END ............algorithm=ball_tree, n_neighbors=5, p=1; total time=   0.0s\n",
      "[CV] END ............algorithm=ball_tree, n_neighbors=5, p=1; total time=   0.0s\n",
      "[CV] END ............algorithm=ball_tree, n_neighbors=5, p=1; total time=   0.0s\n",
      "[CV] END ............algorithm=ball_tree, n_neighbors=5, p=1; total time=   0.0s\n",
      "[CV] END ............algorithm=ball_tree, n_neighbors=5, p=2; total time=   0.0s\n",
      "[CV] END ............algorithm=ball_tree, n_neighbors=5, p=2; total time=   0.0s\n",
      "[CV] END ............algorithm=ball_tree, n_neighbors=5, p=2; total time=   0.0s\n",
      "[CV] END ............algorithm=ball_tree, n_neighbors=5, p=2; total time=   0.0s\n",
      "[CV] END ............algorithm=ball_tree, n_neighbors=6, p=1; total time=   0.0s\n",
      "[CV] END ............algorithm=ball_tree, n_neighbors=6, p=1; total time=   0.0s\n",
      "[CV] END ............algorithm=ball_tree, n_neighbors=6, p=1; total time=   0.0s\n",
      "[CV] END ............algorithm=ball_tree, n_neighbors=6, p=1; total time=   0.0s\n",
      "[CV] END ............algorithm=ball_tree, n_neighbors=6, p=2; total time=   0.0s\n",
      "[CV] END ............algorithm=ball_tree, n_neighbors=6, p=2; total time=   0.0s\n",
      "[CV] END ............algorithm=ball_tree, n_neighbors=6, p=2; total time=   0.0s\n",
      "[CV] END ............algorithm=ball_tree, n_neighbors=6, p=2; total time=   0.0s\n",
      "[CV] END ............algorithm=ball_tree, n_neighbors=7, p=1; total time=   0.0s\n",
      "[CV] END ............algorithm=ball_tree, n_neighbors=7, p=1; total time=   0.0s\n",
      "[CV] END ............algorithm=ball_tree, n_neighbors=7, p=1; total time=   0.0s\n",
      "[CV] END ............algorithm=ball_tree, n_neighbors=7, p=1; total time=   0.0s\n",
      "[CV] END ............algorithm=ball_tree, n_neighbors=7, p=2; total time=   0.0s\n",
      "[CV] END ............algorithm=ball_tree, n_neighbors=7, p=2; total time=   0.0s\n",
      "[CV] END ............algorithm=ball_tree, n_neighbors=7, p=2; total time=   0.0s\n",
      "[CV] END ............algorithm=ball_tree, n_neighbors=7, p=2; total time=   0.0s\n",
      "[CV] END ............algorithm=ball_tree, n_neighbors=8, p=1; total time=   0.0s\n",
      "[CV] END ............algorithm=ball_tree, n_neighbors=8, p=1; total time=   0.0s\n",
      "[CV] END ............algorithm=ball_tree, n_neighbors=8, p=1; total time=   0.0s\n",
      "[CV] END ............algorithm=ball_tree, n_neighbors=8, p=1; total time=   0.0s\n",
      "[CV] END ............algorithm=ball_tree, n_neighbors=8, p=2; total time=   0.0s\n",
      "[CV] END ............algorithm=ball_tree, n_neighbors=8, p=2; total time=   0.0s\n",
      "[CV] END ............algorithm=ball_tree, n_neighbors=8, p=2; total time=   0.0s\n",
      "[CV] END ............algorithm=ball_tree, n_neighbors=8, p=2; total time=   0.0s\n",
      "[CV] END ............algorithm=ball_tree, n_neighbors=9, p=1; total time=   0.0s\n",
      "[CV] END ............algorithm=ball_tree, n_neighbors=9, p=1; total time=   0.0s\n",
      "[CV] END ............algorithm=ball_tree, n_neighbors=9, p=1; total time=   0.0s\n",
      "[CV] END ............algorithm=ball_tree, n_neighbors=9, p=1; total time=   0.0s\n",
      "[CV] END ............algorithm=ball_tree, n_neighbors=9, p=2; total time=   0.0s\n",
      "[CV] END ............algorithm=ball_tree, n_neighbors=9, p=2; total time=   0.0s\n",
      "[CV] END ............algorithm=ball_tree, n_neighbors=9, p=2; total time=   0.0s\n",
      "[CV] END ............algorithm=ball_tree, n_neighbors=9, p=2; total time=   0.0s\n",
      "[CV] END ...........algorithm=ball_tree, n_neighbors=10, p=1; total time=   0.0s\n",
      "[CV] END ...........algorithm=ball_tree, n_neighbors=10, p=1; total time=   0.0s\n",
      "[CV] END ...........algorithm=ball_tree, n_neighbors=10, p=1; total time=   0.0s\n",
      "[CV] END ...........algorithm=ball_tree, n_neighbors=10, p=1; total time=   0.0s\n",
      "[CV] END ...........algorithm=ball_tree, n_neighbors=10, p=2; total time=   0.0s\n",
      "[CV] END ...........algorithm=ball_tree, n_neighbors=10, p=2; total time=   0.0s\n",
      "[CV] END ...........algorithm=ball_tree, n_neighbors=10, p=2; total time=   0.0s\n",
      "[CV] END ...........algorithm=ball_tree, n_neighbors=10, p=2; total time=   0.0s\n",
      "[CV] END ..............algorithm=kd_tree, n_neighbors=1, p=1; total time=   0.0s\n",
      "[CV] END ..............algorithm=kd_tree, n_neighbors=1, p=1; total time=   0.0s\n",
      "[CV] END ..............algorithm=kd_tree, n_neighbors=1, p=1; total time=   0.0s\n",
      "[CV] END ..............algorithm=kd_tree, n_neighbors=1, p=1; total time=   0.0s\n",
      "[CV] END ..............algorithm=kd_tree, n_neighbors=1, p=2; total time=   0.0s\n",
      "[CV] END ..............algorithm=kd_tree, n_neighbors=1, p=2; total time=   0.0s\n",
      "[CV] END ..............algorithm=kd_tree, n_neighbors=1, p=2; total time=   0.0s\n",
      "[CV] END ..............algorithm=kd_tree, n_neighbors=1, p=2; total time=   0.0s\n",
      "[CV] END ..............algorithm=kd_tree, n_neighbors=2, p=1; total time=   0.0s\n",
      "[CV] END ..............algorithm=kd_tree, n_neighbors=2, p=1; total time=   0.0s\n",
      "[CV] END ..............algorithm=kd_tree, n_neighbors=2, p=1; total time=   0.0s\n",
      "[CV] END ..............algorithm=kd_tree, n_neighbors=2, p=1; total time=   0.0s\n",
      "[CV] END ..............algorithm=kd_tree, n_neighbors=2, p=2; total time=   0.0s\n",
      "[CV] END ..............algorithm=kd_tree, n_neighbors=2, p=2; total time=   0.0s\n",
      "[CV] END ..............algorithm=kd_tree, n_neighbors=2, p=2; total time=   0.0s\n",
      "[CV] END ..............algorithm=kd_tree, n_neighbors=2, p=2; total time=   0.0s\n",
      "[CV] END ..............algorithm=kd_tree, n_neighbors=3, p=1; total time=   0.0s\n",
      "[CV] END ..............algorithm=kd_tree, n_neighbors=3, p=1; total time=   0.0s\n",
      "[CV] END ..............algorithm=kd_tree, n_neighbors=3, p=1; total time=   0.0s\n",
      "[CV] END ..............algorithm=kd_tree, n_neighbors=3, p=1; total time=   0.0s\n",
      "[CV] END ..............algorithm=kd_tree, n_neighbors=3, p=2; total time=   0.0s\n",
      "[CV] END ..............algorithm=kd_tree, n_neighbors=3, p=2; total time=   0.0s\n",
      "[CV] END ..............algorithm=kd_tree, n_neighbors=3, p=2; total time=   0.0s\n",
      "[CV] END ..............algorithm=kd_tree, n_neighbors=3, p=2; total time=   0.0s\n",
      "[CV] END ..............algorithm=kd_tree, n_neighbors=4, p=1; total time=   0.0s\n",
      "[CV] END ..............algorithm=kd_tree, n_neighbors=4, p=1; total time=   0.0s\n",
      "[CV] END ..............algorithm=kd_tree, n_neighbors=4, p=1; total time=   0.0s\n",
      "[CV] END ..............algorithm=kd_tree, n_neighbors=4, p=1; total time=   0.0s\n",
      "[CV] END ..............algorithm=kd_tree, n_neighbors=4, p=2; total time=   0.0s\n",
      "[CV] END ..............algorithm=kd_tree, n_neighbors=4, p=2; total time=   0.0s\n",
      "[CV] END ..............algorithm=kd_tree, n_neighbors=4, p=2; total time=   0.0s\n",
      "[CV] END ..............algorithm=kd_tree, n_neighbors=4, p=2; total time=   0.0s\n",
      "[CV] END ..............algorithm=kd_tree, n_neighbors=5, p=1; total time=   0.0s\n",
      "[CV] END ..............algorithm=kd_tree, n_neighbors=5, p=1; total time=   0.0s\n",
      "[CV] END ..............algorithm=kd_tree, n_neighbors=5, p=1; total time=   0.0s\n",
      "[CV] END ..............algorithm=kd_tree, n_neighbors=5, p=1; total time=   0.0s\n",
      "[CV] END ..............algorithm=kd_tree, n_neighbors=5, p=2; total time=   0.0s\n",
      "[CV] END ..............algorithm=kd_tree, n_neighbors=5, p=2; total time=   0.0s\n",
      "[CV] END ..............algorithm=kd_tree, n_neighbors=5, p=2; total time=   0.0s\n",
      "[CV] END ..............algorithm=kd_tree, n_neighbors=5, p=2; total time=   0.0s\n",
      "[CV] END ..............algorithm=kd_tree, n_neighbors=6, p=1; total time=   0.0s\n",
      "[CV] END ..............algorithm=kd_tree, n_neighbors=6, p=1; total time=   0.0s\n",
      "[CV] END ..............algorithm=kd_tree, n_neighbors=6, p=1; total time=   0.0s\n",
      "[CV] END ..............algorithm=kd_tree, n_neighbors=6, p=1; total time=   0.0s\n",
      "[CV] END ..............algorithm=kd_tree, n_neighbors=6, p=2; total time=   0.0s\n",
      "[CV] END ..............algorithm=kd_tree, n_neighbors=6, p=2; total time=   0.0s\n",
      "[CV] END ..............algorithm=kd_tree, n_neighbors=6, p=2; total time=   0.0s\n",
      "[CV] END ..............algorithm=kd_tree, n_neighbors=6, p=2; total time=   0.0s\n",
      "[CV] END ..............algorithm=kd_tree, n_neighbors=7, p=1; total time=   0.0s\n",
      "[CV] END ..............algorithm=kd_tree, n_neighbors=7, p=1; total time=   0.0s\n",
      "[CV] END ..............algorithm=kd_tree, n_neighbors=7, p=1; total time=   0.0s\n",
      "[CV] END ..............algorithm=kd_tree, n_neighbors=7, p=1; total time=   0.0s\n",
      "[CV] END ..............algorithm=kd_tree, n_neighbors=7, p=2; total time=   0.0s\n",
      "[CV] END ..............algorithm=kd_tree, n_neighbors=7, p=2; total time=   0.0s\n",
      "[CV] END ..............algorithm=kd_tree, n_neighbors=7, p=2; total time=   0.0s\n",
      "[CV] END ..............algorithm=kd_tree, n_neighbors=7, p=2; total time=   0.0s\n",
      "[CV] END ..............algorithm=kd_tree, n_neighbors=8, p=1; total time=   0.0s\n",
      "[CV] END ..............algorithm=kd_tree, n_neighbors=8, p=1; total time=   0.0s\n",
      "[CV] END ..............algorithm=kd_tree, n_neighbors=8, p=1; total time=   0.0s\n",
      "[CV] END ..............algorithm=kd_tree, n_neighbors=8, p=1; total time=   0.0s\n",
      "[CV] END ..............algorithm=kd_tree, n_neighbors=8, p=2; total time=   0.0s\n",
      "[CV] END ..............algorithm=kd_tree, n_neighbors=8, p=2; total time=   0.0s\n",
      "[CV] END ..............algorithm=kd_tree, n_neighbors=8, p=2; total time=   0.0s\n",
      "[CV] END ..............algorithm=kd_tree, n_neighbors=8, p=2; total time=   0.0s\n",
      "[CV] END ..............algorithm=kd_tree, n_neighbors=9, p=1; total time=   0.0s\n",
      "[CV] END ..............algorithm=kd_tree, n_neighbors=9, p=1; total time=   0.0s\n",
      "[CV] END ..............algorithm=kd_tree, n_neighbors=9, p=1; total time=   0.0s\n",
      "[CV] END ..............algorithm=kd_tree, n_neighbors=9, p=1; total time=   0.0s\n",
      "[CV] END ..............algorithm=kd_tree, n_neighbors=9, p=2; total time=   0.0s\n",
      "[CV] END ..............algorithm=kd_tree, n_neighbors=9, p=2; total time=   0.0s\n",
      "[CV] END ..............algorithm=kd_tree, n_neighbors=9, p=2; total time=   0.0s\n",
      "[CV] END ..............algorithm=kd_tree, n_neighbors=9, p=2; total time=   0.0s\n",
      "[CV] END .............algorithm=kd_tree, n_neighbors=10, p=1; total time=   0.0s\n",
      "[CV] END .............algorithm=kd_tree, n_neighbors=10, p=1; total time=   0.0s\n",
      "[CV] END .............algorithm=kd_tree, n_neighbors=10, p=1; total time=   0.0s\n",
      "[CV] END .............algorithm=kd_tree, n_neighbors=10, p=1; total time=   0.0s\n",
      "[CV] END .............algorithm=kd_tree, n_neighbors=10, p=2; total time=   0.0s\n",
      "[CV] END .............algorithm=kd_tree, n_neighbors=10, p=2; total time=   0.0s\n",
      "[CV] END .............algorithm=kd_tree, n_neighbors=10, p=2; total time=   0.0s\n",
      "[CV] END .............algorithm=kd_tree, n_neighbors=10, p=2; total time=   0.0s\n",
      "[CV] END ................algorithm=brute, n_neighbors=1, p=1; total time=   0.0s\n",
      "[CV] END ................algorithm=brute, n_neighbors=1, p=1; total time=   0.0s\n",
      "[CV] END ................algorithm=brute, n_neighbors=1, p=1; total time=   0.0s\n",
      "[CV] END ................algorithm=brute, n_neighbors=1, p=1; total time=   0.0s\n",
      "[CV] END ................algorithm=brute, n_neighbors=1, p=2; total time=   0.0s\n",
      "[CV] END ................algorithm=brute, n_neighbors=1, p=2; total time=   0.0s\n",
      "[CV] END ................algorithm=brute, n_neighbors=1, p=2; total time=   0.0s\n",
      "[CV] END ................algorithm=brute, n_neighbors=1, p=2; total time=   0.0s\n",
      "[CV] END ................algorithm=brute, n_neighbors=2, p=1; total time=   0.0s\n",
      "[CV] END ................algorithm=brute, n_neighbors=2, p=1; total time=   0.0s\n",
      "[CV] END ................algorithm=brute, n_neighbors=2, p=1; total time=   0.0s\n",
      "[CV] END ................algorithm=brute, n_neighbors=2, p=1; total time=   0.0s\n",
      "[CV] END ................algorithm=brute, n_neighbors=2, p=2; total time=   0.0s\n",
      "[CV] END ................algorithm=brute, n_neighbors=2, p=2; total time=   0.0s\n",
      "[CV] END ................algorithm=brute, n_neighbors=2, p=2; total time=   0.0s\n",
      "[CV] END ................algorithm=brute, n_neighbors=2, p=2; total time=   0.0s\n",
      "[CV] END ................algorithm=brute, n_neighbors=3, p=1; total time=   0.0s\n",
      "[CV] END ................algorithm=brute, n_neighbors=3, p=1; total time=   0.0s\n",
      "[CV] END ................algorithm=brute, n_neighbors=3, p=1; total time=   0.0s\n",
      "[CV] END ................algorithm=brute, n_neighbors=3, p=1; total time=   0.0s\n",
      "[CV] END ................algorithm=brute, n_neighbors=3, p=2; total time=   0.0s\n",
      "[CV] END ................algorithm=brute, n_neighbors=3, p=2; total time=   0.0s\n",
      "[CV] END ................algorithm=brute, n_neighbors=3, p=2; total time=   0.0s\n",
      "[CV] END ................algorithm=brute, n_neighbors=3, p=2; total time=   0.0s\n",
      "[CV] END ................algorithm=brute, n_neighbors=4, p=1; total time=   0.0s\n",
      "[CV] END ................algorithm=brute, n_neighbors=4, p=1; total time=   0.0s\n",
      "[CV] END ................algorithm=brute, n_neighbors=4, p=1; total time=   0.0s\n",
      "[CV] END ................algorithm=brute, n_neighbors=4, p=1; total time=   0.0s\n",
      "[CV] END ................algorithm=brute, n_neighbors=4, p=2; total time=   0.0s\n",
      "[CV] END ................algorithm=brute, n_neighbors=4, p=2; total time=   0.0s\n",
      "[CV] END ................algorithm=brute, n_neighbors=4, p=2; total time=   0.0s\n",
      "[CV] END ................algorithm=brute, n_neighbors=4, p=2; total time=   0.0s\n",
      "[CV] END ................algorithm=brute, n_neighbors=5, p=1; total time=   0.0s\n",
      "[CV] END ................algorithm=brute, n_neighbors=5, p=1; total time=   0.0s\n",
      "[CV] END ................algorithm=brute, n_neighbors=5, p=1; total time=   0.0s\n",
      "[CV] END ................algorithm=brute, n_neighbors=5, p=1; total time=   0.0s\n",
      "[CV] END ................algorithm=brute, n_neighbors=5, p=2; total time=   0.0s\n",
      "[CV] END ................algorithm=brute, n_neighbors=5, p=2; total time=   0.0s\n",
      "[CV] END ................algorithm=brute, n_neighbors=5, p=2; total time=   0.0s\n",
      "[CV] END ................algorithm=brute, n_neighbors=5, p=2; total time=   0.0s\n",
      "[CV] END ................algorithm=brute, n_neighbors=6, p=1; total time=   0.0s\n",
      "[CV] END ................algorithm=brute, n_neighbors=6, p=1; total time=   0.0s\n",
      "[CV] END ................algorithm=brute, n_neighbors=6, p=1; total time=   0.0s\n",
      "[CV] END ................algorithm=brute, n_neighbors=6, p=1; total time=   0.0s\n",
      "[CV] END ................algorithm=brute, n_neighbors=6, p=2; total time=   0.0s\n",
      "[CV] END ................algorithm=brute, n_neighbors=6, p=2; total time=   0.0s\n",
      "[CV] END ................algorithm=brute, n_neighbors=6, p=2; total time=   0.0s\n",
      "[CV] END ................algorithm=brute, n_neighbors=6, p=2; total time=   0.0s\n",
      "[CV] END ................algorithm=brute, n_neighbors=7, p=1; total time=   0.0s\n",
      "[CV] END ................algorithm=brute, n_neighbors=7, p=1; total time=   0.0s\n",
      "[CV] END ................algorithm=brute, n_neighbors=7, p=1; total time=   0.0s\n",
      "[CV] END ................algorithm=brute, n_neighbors=7, p=1; total time=   0.0s\n",
      "[CV] END ................algorithm=brute, n_neighbors=7, p=2; total time=   0.0s\n",
      "[CV] END ................algorithm=brute, n_neighbors=7, p=2; total time=   0.0s\n",
      "[CV] END ................algorithm=brute, n_neighbors=7, p=2; total time=   0.0s\n",
      "[CV] END ................algorithm=brute, n_neighbors=7, p=2; total time=   0.0s\n",
      "[CV] END ................algorithm=brute, n_neighbors=8, p=1; total time=   0.0s\n",
      "[CV] END ................algorithm=brute, n_neighbors=8, p=1; total time=   0.0s\n",
      "[CV] END ................algorithm=brute, n_neighbors=8, p=1; total time=   0.0s\n",
      "[CV] END ................algorithm=brute, n_neighbors=8, p=1; total time=   0.0s\n",
      "[CV] END ................algorithm=brute, n_neighbors=8, p=2; total time=   0.0s\n",
      "[CV] END ................algorithm=brute, n_neighbors=8, p=2; total time=   0.0s\n",
      "[CV] END ................algorithm=brute, n_neighbors=8, p=2; total time=   0.0s\n",
      "[CV] END ................algorithm=brute, n_neighbors=8, p=2; total time=   0.0s\n",
      "[CV] END ................algorithm=brute, n_neighbors=9, p=1; total time=   0.0s\n",
      "[CV] END ................algorithm=brute, n_neighbors=9, p=1; total time=   0.0s\n",
      "[CV] END ................algorithm=brute, n_neighbors=9, p=1; total time=   0.0s\n",
      "[CV] END ................algorithm=brute, n_neighbors=9, p=1; total time=   0.0s\n",
      "[CV] END ................algorithm=brute, n_neighbors=9, p=2; total time=   0.0s\n",
      "[CV] END ................algorithm=brute, n_neighbors=9, p=2; total time=   0.0s\n",
      "[CV] END ................algorithm=brute, n_neighbors=9, p=2; total time=   0.0s\n",
      "[CV] END ................algorithm=brute, n_neighbors=9, p=2; total time=   0.0s\n",
      "[CV] END ...............algorithm=brute, n_neighbors=10, p=1; total time=   0.0s\n",
      "[CV] END ...............algorithm=brute, n_neighbors=10, p=1; total time=   0.0s\n",
      "[CV] END ...............algorithm=brute, n_neighbors=10, p=1; total time=   0.0s\n",
      "[CV] END ...............algorithm=brute, n_neighbors=10, p=1; total time=   0.0s\n",
      "[CV] END ...............algorithm=brute, n_neighbors=10, p=2; total time=   0.0s\n",
      "[CV] END ...............algorithm=brute, n_neighbors=10, p=2; total time=   0.0s\n",
      "[CV] END ...............algorithm=brute, n_neighbors=10, p=2; total time=   0.0s\n",
      "[CV] END ...............algorithm=brute, n_neighbors=10, p=2; total time=   0.0s\n",
      "tuned hpyerparameters :(best parameters)  {'algorithm': 'auto', 'n_neighbors': 9, 'p': 1}\n",
      "accuracy : 0.5485074626865671\n"
     ]
    }
   ],
   "source": [
    "'''\n",
    "parameters = {'n_neighbors': [1, 2, 3, 4, 5, 6, 7, 8, 9, 10],\n",
    "              'algorithm': ['auto', 'ball_tree', 'kd_tree', 'brute'],\n",
    "              'p': [1,2]}\n",
    "\n",
    "KNN_c = KNeighborsClassifier()\n",
    "grid_search = GridSearchCV(KNN_c, parameters, cv=4, verbose=2, n_jobs=-1)\n",
    "knn_cv_c = grid_search.fit(x_train_c, y_train_c)\n",
    "print(\"tuned hpyerparameters :(best parameters) \",knn_cv_c.best_params_)\n",
    "print(\"accuracy :\",knn_cv_c.best_score_)\n"
   ]
  },
  {
   "cell_type": "markdown",
   "id": "I35mWXPrjSaE",
   "metadata": {
    "id": "I35mWXPrjSaE"
   },
   "source": [
    "tuned hyperparameters (without added features) : {'algorithm': 'auto', 'n_neighbors': 10, 'p': 1} accuracy : 0.5522388059701492"
   ]
  },
  {
   "cell_type": "code",
   "execution_count": 33,
   "id": "GuOEO2RzjWNF",
   "metadata": {
    "colab": {
     "base_uri": "https://localhost:8080/"
    },
    "id": "GuOEO2RzjWNF",
    "outputId": "74f5e360-25fa-4ffb-9156-413f3d5b1f20"
   },
   "outputs": [
    {
     "data": {
      "text/plain": [
       "0.516728624535316"
      ]
     },
     "execution_count": 33,
     "metadata": {},
     "output_type": "execute_result"
    }
   ],
   "source": [
    "KNN_b_c = KNeighborsClassifier(algorithm='auto', n_neighbors=20, p=1)\n",
    "KNN_b=KNN_b_c.fit(x_train_c, y_train_c)\n",
    "KNN_m=confusion_matrix(y_test_c, KNN_b.predict(x_test_c))\n",
    "KNN_b.score(x_test_c, y_test_c)"
   ]
  },
  {
   "cell_type": "code",
   "execution_count": 150,
   "id": "YLYwC6leBpqH",
   "metadata": {
    "colab": {
     "base_uri": "https://localhost:8080/"
    },
    "id": "YLYwC6leBpqH",
    "outputId": "1df3d37a-bac4-4827-bed3-a6d57b904333"
   },
   "outputs": [
    {
     "data": {
      "text/plain": [
       "array([[ 0,  0,  3,  0,  0,  0,  0,  0],\n",
       "       [ 0,  3, 15,  2,  0,  0,  0,  0],\n",
       "       [ 0,  2, 64,  8,  1,  0,  0,  0],\n",
       "       [ 0,  1, 32, 22, 14,  0,  0,  0],\n",
       "       [ 0,  0,  5, 15, 37,  3,  0,  0],\n",
       "       [ 0,  0,  2,  2, 18,  9,  1,  0],\n",
       "       [ 0,  0,  0,  0,  1,  3,  4,  0],\n",
       "       [ 0,  0,  0,  0,  0,  0,  2,  0]], dtype=int64)"
      ]
     },
     "execution_count": 150,
     "metadata": {},
     "output_type": "execute_result"
    }
   ],
   "source": [
    "KNN_m"
   ]
  },
  {
   "cell_type": "code",
   "execution_count": 52,
   "id": "v6oHcrC9hOdt",
   "metadata": {
    "colab": {
     "base_uri": "https://localhost:8080/",
     "height": 436
    },
    "id": "v6oHcrC9hOdt",
    "outputId": "d29b028a-ab1f-4981-f256-13843a651dd2"
   },
   "outputs": [
    {
     "data": {
      "image/png": "[encoded data removed]",
      "text/plain": [
       "<Figure size 720x504 with 2 Axes>"
      ]
     },
     "metadata": {
      "needs_background": "light"
     },
     "output_type": "display_data"
    }
   ],
   "source": [
    "df_cm_knn = pd.DataFrame(KNN_m, range(8), range(8))\n",
    "plt.figure(figsize=(10,7))\n",
    "#sns.set(font_scale=1.4) # for label size\n",
    "sns.heatmap(df_cm_knn, annot=True, annot_kws={\"size\": 16}) # font size\n",
    "\n",
    "plt.show()"
   ]
  },
  {
   "cell_type": "markdown",
   "id": "tC2QIsWrgq3Q",
   "metadata": {
    "id": "tC2QIsWrgq3Q"
   },
   "source": [
    "SVM"
   ]
  },
  {
   "cell_type": "code",
   "execution_count": 51,
   "id": "l8GiGM7UgVk8",
   "metadata": {
    "id": "l8GiGM7UgVk8"
   },
   "outputs": [
    {
     "name": "stdout",
     "output_type": "stream",
     "text": [
      "Fitting 4 folds for each of 125 candidates, totalling 500 fits\n"
     ]
    },
    {
     "name": "stderr",
     "output_type": "stream",
     "text": [
      "C:\\Users\\flori\\anaconda3\\lib\\site-packages\\sklearn\\model_selection\\_split.py:676: UserWarning: The least populated class in y has only 2 members, which is less than n_splits=4.\n",
      "  warnings.warn(\n"
     ]
    },
    {
     "name": "stdout",
     "output_type": "stream",
     "text": [
      "tuned hpyerparameters :(best parameters)  {'C': 1.0, 'gamma': 0.001, 'kernel': 'rbf'}\n",
      "accuracy : 0.5531716417910448\n"
     ]
    }
   ],
   "source": [
    "parameters = {'kernel':['linear', 'rbf','poly','rbf', 'sigmoid'],\n",
    "              'C': np.logspace(-3, 3, 5),\n",
    "              'gamma':np.logspace(-3, 3, 5)}\n",
    "svm_c = SVC()\n",
    "grid_search = GridSearchCV(svm_c, parameters, cv=4, verbose=2, n_jobs=-1)\n",
    "svm_cv_c = grid_search.fit(x_train_c, y_train_c)\n",
    "print(\"tuned hpyerparameters :(best parameters) \",svm_cv_c.best_params_)\n",
    "print(\"accuracy :\",svm_cv_c.best_score_)"
   ]
  },
  {
   "cell_type": "markdown",
   "id": "Iq2VKLIsj31O",
   "metadata": {
    "id": "Iq2VKLIsj31O"
   },
   "source": [
    "tuned hyperparameters (without added features) : {'C': 1.0, 'gamma': 0.001, 'kernel': 'rbf'} accuracy : 0.5475746268656716"
   ]
  },
  {
   "cell_type": "code",
   "execution_count": 26,
   "id": "cBA7i_0pjpDf",
   "metadata": {
    "colab": {
     "base_uri": "https://localhost:8080/"
    },
    "id": "cBA7i_0pjpDf",
    "outputId": "63d90ec0-cf82-4d48-b81e-44d1274d4269"
   },
   "outputs": [
    {
     "data": {
      "text/plain": [
       "0.5241635687732342"
      ]
     },
     "execution_count": 26,
     "metadata": {},
     "output_type": "execute_result"
    }
   ],
   "source": [
    "svm_b_c = SVC(C=1, gamma=0.01, kernel='rbf', probability=True)\n",
    "svm_b=svm_b_c.fit(x_train_c, y_train_c)\n",
    "svm_m=confusion_matrix(y_test_c, svm_b.predict(x_test_c))\n",
    "svm_b.score(x_test_c, y_test_c)"
   ]
  },
  {
   "cell_type": "code",
   "execution_count": 56,
   "id": "a4882183-83a0-4b5a-9369-6e1aa6ab11cd",
   "metadata": {},
   "outputs": [
    {
     "data": {
      "text/plain": [
       "array([[ 0,  0,  3,  0,  0,  0,  0,  0],\n",
       "       [ 0,  5, 13,  2,  0,  0,  0,  0],\n",
       "       [ 0,  3, 52, 19,  1,  0,  0,  0],\n",
       "       [ 0,  2, 21, 27, 19,  0,  0,  0],\n",
       "       [ 0,  0,  2, 18, 34,  6,  0,  0],\n",
       "       [ 0,  0,  1,  1, 13, 15,  2,  0],\n",
       "       [ 0,  0,  0,  0,  0,  3,  5,  0],\n",
       "       [ 0,  0,  0,  0,  0,  0,  2,  0]], dtype=int64)"
      ]
     },
     "execution_count": 56,
     "metadata": {},
     "output_type": "execute_result"
    }
   ],
   "source": [
    "svm_m"
   ]
  },
  {
   "cell_type": "code",
   "execution_count": 58,
   "id": "e0eqfQZZhMy1",
   "metadata": {
    "id": "e0eqfQZZhMy1"
   },
   "outputs": [
    {
     "data": {
      "image/png": "[encoded data removed]",
      "text/plain": [
       "<Figure size 720x504 with 2 Axes>"
      ]
     },
     "metadata": {
      "needs_background": "light"
     },
     "output_type": "display_data"
    }
   ],
   "source": [
    "df_cm_svm = pd.DataFrame(svm_m, range(8), range(8))\n",
    "plt.figure(figsize=(10,7))\n",
    "#sns.set(font_scale=1.4) # for label size\n",
    "sns.heatmap(df_cm_svm, annot=True, annot_kws={\"size\": 16}) # font size\n",
    "\n",
    "plt.show()"
   ]
  },
  {
   "cell_type": "code",
   "execution_count": 69,
   "id": "d4820b79-967c-4440-82a2-c9977d60acfb",
   "metadata": {},
   "outputs": [
    {
     "name": "stdout",
     "output_type": "stream",
     "text": [
      "Fitting 4 folds for each of 48 candidates, totalling 192 fits\n"
     ]
    },
    {
     "name": "stderr",
     "output_type": "stream",
     "text": [
      "C:\\Users\\flori\\anaconda3\\lib\\site-packages\\sklearn\\model_selection\\_split.py:676: UserWarning: The least populated class in y has only 2 members, which is less than n_splits=4.\n",
      "  warnings.warn(\n"
     ]
    },
    {
     "name": "stdout",
     "output_type": "stream",
     "text": [
      "tuned hpyerparameters : {'learning_rate': 0.8, 'n_estimators': 650}\n",
      "accuracy : 0.5438432835820894\n"
     ]
    }
   ],
   "source": [
    "from sklearn.ensemble import AdaBoostClassifier\n",
    "from sklearn.tree import DecisionTreeClassifier\n",
    "\n",
    "parameters = {'n_estimators': np.arange(200,800,50),\n",
    "             'learning_rate': [0.3, 0.5, 0.8, 1.0]}\n",
    "\n",
    "ada_clf = AdaBoostClassifier(DecisionTreeClassifier(max_depth=2), algorithm=\"SAMME.R\")\n",
    "grid_search = GridSearchCV(ada_clf, parameters, cv=4, verbose=2, n_jobs=-1)\n",
    "ada = grid_search.fit(x_train_c, y_train_c)\n",
    "print(\"tuned hpyerparameters :\",ada.best_params_)\n",
    "print(\"accuracy :\",ada.best_score_)\n",
    "#y_pred_c =grid_search.predict(x_test_c)\n",
    "#print(ada_clf.__class__.__name__, accuracy_score(y_test_c, y_pred_c))"
   ]
  },
  {
   "cell_type": "code",
   "execution_count": 75,
   "id": "1a54648f-bb5c-49bf-8ab5-e8a905c8bde1",
   "metadata": {},
   "outputs": [
    {
     "data": {
      "text/plain": [
       "0.5390334572490706"
      ]
     },
     "execution_count": 75,
     "metadata": {},
     "output_type": "execute_result"
    }
   ],
   "source": [
    "ada_b_c = AdaBoostClassifier(DecisionTreeClassifier(max_depth=3), algorithm=\"SAMME.R\", n_estimators=650, learning_rate=0.8)\n",
    "ada_c=ada_b_c.fit(x_train_c, y_train_c)\n",
    "ada_m=confusion_matrix(y_test_c, ada_c.predict(x_test_c))\n",
    "ada_c.score(x_test_c, y_test_c)"
   ]
  },
  {
   "cell_type": "code",
   "execution_count": 124,
   "id": "a5a4185a-3dd3-40f7-87c0-4790a3f38e18",
   "metadata": {},
   "outputs": [
    {
     "data": {
      "text/plain": [
       "array([[ 0,  1,  2,  0,  0,  0,  0,  0],\n",
       "       [ 0,  5, 14,  1,  0,  0,  0,  0],\n",
       "       [ 0,  3, 51, 20,  1,  0,  0,  0],\n",
       "       [ 0,  0, 20, 35, 14,  0,  0,  0],\n",
       "       [ 0,  0,  3, 15, 35,  7,  0,  0],\n",
       "       [ 0,  0,  1,  3, 13, 14,  1,  0],\n",
       "       [ 0,  0,  0,  0,  2,  2,  4,  0],\n",
       "       [ 0,  0,  0,  0,  0,  0,  1,  1]], dtype=int64)"
      ]
     },
     "execution_count": 124,
     "metadata": {},
     "output_type": "execute_result"
    }
   ],
   "source": [
    "confusion_matrix(y_test_c,ada_c.predict(x_test_c))"
   ]
  },
  {
   "cell_type": "code",
   "execution_count": 104,
   "id": "9abbd5f4-8d6a-4491-971c-89ffcddf6d6a",
   "metadata": {},
   "outputs": [
    {
     "name": "stdout",
     "output_type": "stream",
     "text": [
      "Requirement already satisfied: xgboost in c:\\users\\flori\\anaconda3\\lib\\site-packages (1.5.1)\n",
      "Requirement already satisfied: numpy in c:\\users\\flori\\anaconda3\\lib\\site-packages (from xgboost) (1.21.2)\n",
      "Requirement already satisfied: scipy in c:\\users\\flori\\anaconda3\\lib\\site-packages (from xgboost) (1.7.1)\n"
     ]
    }
   ],
   "source": [
    "!pip install xgboost\n",
    "from xgboost import XGBClassifier"
   ]
  },
  {
   "cell_type": "code",
   "execution_count": 105,
   "id": "9a15a285-79f2-43fc-b160-7bd445109089",
   "metadata": {},
   "outputs": [
    {
     "name": "stdout",
     "output_type": "stream",
     "text": [
      "Fitting 4 folds for each of 1350 candidates, totalling 5400 fits\n"
     ]
    },
    {
     "name": "stderr",
     "output_type": "stream",
     "text": [
      "C:\\Users\\flori\\anaconda3\\lib\\site-packages\\sklearn\\model_selection\\_split.py:676: UserWarning: The least populated class in y has only 2 members, which is less than n_splits=4.\n",
      "  warnings.warn(\n",
      "C:\\Users\\flori\\anaconda3\\lib\\site-packages\\xgboost\\sklearn.py:1224: UserWarning: The use of label encoder in XGBClassifier is deprecated and will be removed in a future release. To remove this warning, do the following: 1) Pass option use_label_encoder=False when constructing XGBClassifier object; and 2) Encode your labels (y) as integers starting with 0, i.e. 0, 1, 2, ..., [num_class - 1].\n",
      "  warnings.warn(label_encoder_deprecation_msg, UserWarning)\n"
     ]
    },
    {
     "name": "stdout",
     "output_type": "stream",
     "text": [
      "[14:58:24] WARNING: C:/Users/Administrator/workspace/xgboost-win64_release_1.5.1/src/learner.cc:576: \n",
      "Parameters: { \"early_stopping_rounds\" } might not be used.\n",
      "\n",
      "  This could be a false alarm, with some parameters getting used by language bindings but\n",
      "  then being mistakenly passed down to XGBoost core, or some parameter actually being used\n",
      "  but getting flagged wrongly here. Please open an issue if you find any such cases.\n",
      "\n",
      "\n",
      "[14:58:25] WARNING: C:/Users/Administrator/workspace/xgboost-win64_release_1.5.1/src/learner.cc:1115: Starting in XGBoost 1.3.0, the default evaluation metric used with the objective 'multi:softprob' was changed from 'merror' to 'mlogloss'. Explicitly set eval_metric if you'd like to restore the old behavior.\n",
      "tuned hpyerparameters : {'alpha': 0.001, 'early_stopping_rounds': 3, 'gamma': 1.0, 'max_depth': 10, 'min_child_weight': 4}\n",
      "accuracy : 0.5764925373134328\n"
     ]
    }
   ],
   "source": [
    "parameters = {'max_depth': np.arange(5,11,1),\n",
    "              'early_stopping_rounds': np.arange(3,6,1),\n",
    "              'min_child_weight': np.arange(3,6,1),\n",
    "              'alpha' : np.logspace(-3, 3, 5),\n",
    "               'gamma': np.logspace(-3, 3, 5)}\n",
    "\n",
    "xg_clf = XGBClassifier(booster='gbtree')\n",
    "grid_search = GridSearchCV(xg_clf, parameters, cv=4, verbose=2, n_jobs=-1)\n",
    "xg = grid_search.fit(x_train_c, y_train_c)\n",
    "print(\"tuned hpyerparameters :\",xg.best_params_)\n",
    "print(\"accuracy :\",xg.best_score_)"
   ]
  },
  {
   "cell_type": "code",
   "execution_count": 118,
   "id": "b8a76752-82d8-4bb1-bf38-76dcba52717c",
   "metadata": {},
   "outputs": [
    {
     "name": "stderr",
     "output_type": "stream",
     "text": [
      "C:\\Users\\flori\\anaconda3\\lib\\site-packages\\xgboost\\sklearn.py:1224: UserWarning: The use of label encoder in XGBClassifier is deprecated and will be removed in a future release. To remove this warning, do the following: 1) Pass option use_label_encoder=False when constructing XGBClassifier object; and 2) Encode your labels (y) as integers starting with 0, i.e. 0, 1, 2, ..., [num_class - 1].\n",
      "  warnings.warn(label_encoder_deprecation_msg, UserWarning)\n"
     ]
    },
    {
     "name": "stdout",
     "output_type": "stream",
     "text": [
      "[15:21:32] WARNING: C:/Users/Administrator/workspace/xgboost-win64_release_1.5.1/src/learner.cc:1115: Starting in XGBoost 1.3.0, the default evaluation metric used with the objective 'multi:softprob' was changed from 'merror' to 'mlogloss'. Explicitly set eval_metric if you'd like to restore the old behavior.\n"
     ]
    },
    {
     "data": {
      "text/plain": [
       "0.5724907063197026"
      ]
     },
     "execution_count": 118,
     "metadata": {},
     "output_type": "execute_result"
    }
   ],
   "source": [
    "xg_b_c = XGBClassifier(booster='gbtree', alpha=0.001, gamma=1, max_depth=10, min_child_weight=4)\n",
    "xg_c=xg_b_c.fit(x_train_c, y_train_c)\n",
    "xg_m=confusion_matrix(y_test_c, xg_c.predict(x_test_c))\n",
    "xg_c.score(x_test_c, y_test_c)"
   ]
  },
  {
   "cell_type": "code",
   "execution_count": 125,
   "id": "9b2d89cf-7670-4efd-994d-f8e46498ad0b",
   "metadata": {},
   "outputs": [
    {
     "data": {
      "text/plain": [
       "array([[ 0,  1,  2,  0,  0,  0,  0,  0],\n",
       "       [ 0,  4, 14,  2,  0,  0,  0,  0],\n",
       "       [ 0,  1, 58, 15,  1,  0,  0,  0],\n",
       "       [ 0,  1, 22, 34, 12,  0,  0,  0],\n",
       "       [ 0,  0,  2, 15, 36,  7,  0,  0],\n",
       "       [ 0,  0,  1,  3,  8, 18,  2,  0],\n",
       "       [ 0,  0,  0,  0,  0,  4,  4,  0],\n",
       "       [ 0,  0,  0,  0,  0,  0,  2,  0]], dtype=int64)"
      ]
     },
     "execution_count": 125,
     "metadata": {},
     "output_type": "execute_result"
    }
   ],
   "source": [
    "confusion_matrix(y_test_c, xg_c.predict(x_test_c))"
   ]
  },
  {
   "cell_type": "markdown",
   "id": "fac3e682-d3f2-4b88-bed4-3d6079bb6560",
   "metadata": {},
   "source": [
    "Voting Classifier"
   ]
  },
  {
   "cell_type": "code",
   "execution_count": 123,
   "id": "52458d96-5968-4ea6-8895-c16a63a94c31",
   "metadata": {
    "tags": []
   },
   "outputs": [
    {
     "name": "stderr",
     "output_type": "stream",
     "text": [
      "C:\\Users\\flori\\anaconda3\\lib\\site-packages\\xgboost\\sklearn.py:1224: UserWarning: The use of label encoder in XGBClassifier is deprecated and will be removed in a future release. To remove this warning, do the following: 1) Pass option use_label_encoder=False when constructing XGBClassifier object; and 2) Encode your labels (y) as integers starting with 0, i.e. 0, 1, 2, ..., [num_class - 1].\n",
      "  warnings.warn(label_encoder_deprecation_msg, UserWarning)\n"
     ]
    },
    {
     "name": "stdout",
     "output_type": "stream",
     "text": [
      "[15:23:41] WARNING: C:/Users/Administrator/workspace/xgboost-win64_release_1.5.1/src/learner.cc:1115: Starting in XGBoost 1.3.0, the default evaluation metric used with the objective 'multi:softprob' was changed from 'merror' to 'mlogloss'. Explicitly set eval_metric if you'd like to restore the old behavior.\n",
      "VotingClassifier 0.5687732342007435\n"
     ]
    }
   ],
   "source": [
    "voting_clf = VotingClassifier(\n",
    "    estimators=[('rf', trees_c),('Xtrees', Xtrees_c), ('XGB', xg_c)],\n",
    "    voting='soft')\n",
    "voting_clf.fit(x_train_c, y_train_c)\n",
    "y_pred_c =voting_clf.predict(x_test_c)\n",
    "print(voting_clf.__class__.__name__, accuracy_score(y_test_c, y_pred_c))"
   ]
  },
  {
   "cell_type": "code",
   "execution_count": 126,
   "id": "16e4370a-d0f5-400a-a192-765b89518cdd",
   "metadata": {},
   "outputs": [
    {
     "data": {
      "text/plain": [
       "array([[ 0,  0,  3,  0,  0,  0,  0,  0],\n",
       "       [ 0,  3, 16,  1,  0,  0,  0,  0],\n",
       "       [ 0,  1, 59, 15,  0,  0,  0,  0],\n",
       "       [ 0,  0, 25, 32, 12,  0,  0,  0],\n",
       "       [ 0,  0,  2, 15, 36,  7,  0,  0],\n",
       "       [ 0,  0,  1,  2,  9, 18,  2,  0],\n",
       "       [ 0,  0,  0,  0,  0,  3,  5,  0],\n",
       "       [ 0,  0,  0,  0,  0,  0,  2,  0]], dtype=int64)"
      ]
     },
     "execution_count": 126,
     "metadata": {},
     "output_type": "execute_result"
    }
   ],
   "source": [
    "confusion_matrix(y_test_c, voting_clf.predict(x_test_c))"
   ]
  },
  {
   "cell_type": "code",
   "execution_count": null,
   "id": "22ae8122-2603-421c-a34d-5aa8714aa467",
   "metadata": {},
   "outputs": [],
   "source": []
  }
 ],
 "metadata": {
  "colab": {
   "collapsed_sections": [],
   "name": "Untitled.ipynb",
   "provenance": []
  },
  "kernelspec": {
   "display_name": "Python 3 (ipykernel)",
   "language": "python",
   "name": "python3"
  },
  "language_info": {
   "codemirror_mode": {
    "name": "ipython",
    "version": 3
   },
   "file_extension": ".py",
   "mimetype": "text/x-python",
   "name": "python",
   "nbconvert_exporter": "python",
   "pygments_lexer": "ipython3",
   "version": "3.8.12"
  },
  "widgets": {
   "application/vnd.jupyter.widget-state+json": {
    "state": {},
    "version_major": 2,
    "version_minor": 0
   }
  }
 },
 "nbformat": 4,
 "nbformat_minor": 5
}
